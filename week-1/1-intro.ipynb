{
 "cells": [
  {
   "cell_type": "markdown",
   "metadata": {},
   "source": [
    "# Week 1 - Retreiving and Preparing Text for Machines\n",
    "\n",
    "This week, we begin by \"begging, borrowing and stealing\" text from several\n",
    "contexts of human communication (e.g., PDFs, HTML, Word) and preparing it for\n",
    "machines to \"read\" and analyze. This notebook outlines scraping text from the\n",
    "web, PDF and Word documents. Then we detail \"spidering\" or walking\n",
    "through hyperlinks to build samples of online content, and using APIs,\n",
    "Application Programming Interfaces, provided by webservices to access their\n",
    "content. Along the way, we will use regular expressions, outlined in the\n",
    "reading, to remove unwanted formatting and ornamentation. Finally, we discuss\n",
    "various text encodings, filtering and data structures in which text can be\n",
    "placed for analysis.\n",
    "\n",
    "For this notebook we will be using the following packages:"
   ]
  },
  {
   "cell_type": "code",
   "execution_count": 3,
   "metadata": {},
   "outputs": [],
   "source": [
    "#Special module written for this class\n",
    "#This provides access to data and to helper functions from previous weeks\n",
    "import lucem_illud_2020 #pip install git+git://github.com/Computational-Content-Analysis-2020/lucem_illud_2020.git\n",
    "\n",
    "#All these packages need to be installed from pip\n",
    "import requests #for http requests\n",
    "import bs4 #called `beautifulsoup4`, an html parser\n",
    "import pandas #gives us DataFrames\n",
    "import docx #reading MS doc files, install as `python-docx`\n",
    "\n",
    "#Stuff for pdfs\n",
    "#Install as `pdfminer2`\n",
    "import pdfminer.pdfinterp\n",
    "import pdfminer.converter\n",
    "import pdfminer.layout\n",
    "import pdfminer.pdfpage\n",
    "\n",
    "#These come with Python\n",
    "import re #for regexs\n",
    "import urllib.parse #For joining urls\n",
    "import io #for making http requests look like files\n",
    "import json #For Tumblr API responses\n",
    "import os.path #For checking if files exist\n",
    "import os #For making directories"
   ]
  },
  {
   "cell_type": "markdown",
   "metadata": {},
   "source": [
    "We will also be working on the following files/urls"
   ]
  },
  {
   "cell_type": "code",
   "execution_count": 126,
   "metadata": {},
   "outputs": [],
   "source": [
    "wikipedia_base_url = 'https://en.wikipedia.org'\n",
    "wikipedia_content_analysis = 'https://en.wikipedia.org/wiki/Content_analysis'\n",
    "content_analysis_save = 'wikipedia_content_analysis.html'\n",
    "example_text_file = 'sometextfile.txt'\n",
    "information_extraction_pdf = 'https://github.com/Computational-Content-Analysis-2018/Data-Files/raw/master/1-intro/Content%20Analysis%2018.pdf'\n",
    "example_docx = 'https://github.com/Computational-Content-Analysis-2018/Data-Files/raw/master/1-intro/macs6000_connecting_to_midway.docx'\n",
    "example_docx_save = 'example.docx'\n",
    "dining_docx_save = 'example.docx'"
   ]
  },
  {
   "cell_type": "markdown",
   "metadata": {},
   "source": [
    "# Scraping\n",
    "\n",
    "Before we can start analyzing content we need to obtain it. Sometimes it will be\n",
    "provided to us from a pre-curated text archive, but sometimes we will need to\n",
    "download it. As a starting example we will attempt to download the wikipedia\n",
    "page on content analysis. The page is located at [https://en.wikipedia.org/wiki/\n",
    "Content_analysis](https://en.wikipedia.org/wiki/Content_analysis) so lets start\n",
    "with that.\n",
    "\n",
    "We can do this by making an HTTP GET request to that url, a GET request is\n",
    "simply a request to the server to provide the contents given by some url. The\n",
    "other request we will be using in this class is called a POST request and\n",
    "requests the server to take some content we provide. While the Python standard\n",
    "library does have the ability do make GET requests we will be using the\n",
    "[_requests_](http://docs.python-requests.org/en/master/) package as it is _'the\n",
    "only Non-GMO HTTP library for Python'_...also it provides a nicer interface."
   ]
  },
  {
   "cell_type": "code",
   "execution_count": 31,
   "metadata": {},
   "outputs": [
    {
     "data": {
      "text/plain": [
       "<Response [200]>"
      ]
     },
     "execution_count": 31,
     "metadata": {},
     "output_type": "execute_result"
    }
   ],
   "source": [
    "#wikipedia_content_analysis = 'https://en.wikipedia.org/wiki/Content_analysis'\n",
    "requests.get(wikipedia_content_analysis)\n"
   ]
  },
  {
   "cell_type": "markdown",
   "metadata": {},
   "source": [
    "`'Response [200]'` means the server responded with what we asked for. If you get\n",
    "another number (e.g. 404) it likely means there was some kind of error, these\n",
    "codes are called HTTP response codes and a list of them can be found\n",
    "[here](https://en.wikipedia.org/wiki/List_of_HTTP_status_codes). The response\n",
    "object contains all the data the server sent including the website's contents\n",
    "and the HTTP header. We are interested in the contents which we can access with\n",
    "the `.text` attribute."
   ]
  },
  {
   "cell_type": "code",
   "execution_count": 25,
   "metadata": {},
   "outputs": [
    {
     "name": "stdout",
     "output_type": "stream",
     "text": [
      "<!DOCTYPE html>\n",
      "<html class=\"client-nojs\" lang=\"en\" dir=\"ltr\">\n",
      "<head>\n",
      "<meta charset=\"UTF-8\"/>\n",
      "<title>Content analysis - Wikipedia</title>\n",
      "<script>document.documentElement.className=\"client-js\";RLCONF={\"wgBreakFrames\":!1,\"wgSeparatorTransformTable\":[\"\",\"\"],\"wgDigitTransformTable\":[\"\",\"\"],\"wgDefaultDateFormat\":\"dmy\",\"wgMonthNames\":[\"\",\"January\",\"February\",\"March\",\"April\",\"May\",\"June\",\"July\",\"August\",\"September\",\"October\",\"November\",\"December\"],\"wgMonthNamesShort\":[\"\",\"Jan\",\"Feb\",\"Mar\",\"Apr\",\"May\",\"Jun\",\"Jul\",\"Aug\",\"Sep\",\"Oct\",\"Nov\",\"Dec\"],\"wgRequestId\":\"XhnF2QpAMFMAACFd3X8AAACJ\",\"wgCSPNonce\":!1,\"wgCanonicalNamespace\":\"\",\"wgCanonicalSpecialPageName\":!1,\"wgNamespaceNumber\":0,\"wgPageName\":\"Content_analysis\",\"wgTitle\":\"Content analysis\",\"wgCurRevisionId\":931112759,\"wgRevisionId\":931112759,\"wgArticleId\":473317,\"wgIsArticle\":!0,\"wgIsRedirect\":!1,\"wgAction\":\"view\",\"wgUserName\":null,\"wgUserGroups\":[\"*\"],\"wgCategories\":[\"Articles needing expert attention with no reason or talk parameter\",\"Article\n"
     ]
    }
   ],
   "source": [
    "wikiContentRequest = requests.get(wikipedia_content_analysis)\n",
    "print(wikiContentRequest.text[:1000])"
   ]
  },
  {
   "cell_type": "markdown",
   "metadata": {},
   "source": [
    "This is not what we were looking for, because it is the start of the HTML that\n",
    "makes up the website. This is HTML and is meant to be read by computers. Luckily\n",
    "we have a computer to parse it for us. To do the parsing we will use [_Beautiful\n",
    "Soup_](https://www.crummy.com/software/BeautifulSoup/) which is a better parser\n",
    "than the one in the standard library."
   ]
  },
  {
   "cell_type": "code",
   "execution_count": 32,
   "metadata": {},
   "outputs": [
    {
     "name": "stdout",
     "output_type": "stream",
     "text": [
      "\n",
      "\n",
      "\n",
      "\n",
      "Content analysis - Wikipedia\n",
      "document.documentElement.className=\"client-js\";RLCONF={\"wgBreakFrames\":!1,\"wgSeparatorTransformTable\":[\"\",\"\"],\"wgDigitTransformTable\":[\"\",\"\"],\"wgDefaultDateFormat\":\"dmy\",\"wgMonthNames\":[\"\",\"January\",\"February\",\"March\",\"April\",\"May\",\"June\",\"July\",\"August\",\"September\",\"October\",\"November\",\"December\"],\"wgMonthNamesShort\":[\"\",\"Jan\",\"Feb\",\"Mar\",\"Apr\",\"May\",\"Jun\",\"Jul\",\"Aug\",\"Sep\",\"Oct\",\"Nov\",\"Dec\"],\"wgRequestId\":\"XhnF2QpAMFMAACFd3X8AAACJ\",\"wgCSPNonce\":!1,\"wgCanonicalNamespace\":\"\",\"wgCanonicalSpecialPageName\":!1,\"wgNamespaceNumber\":0,\"wgPageName\":\"Content_analysis\",\"wgTitle\":\"Content analysis\",\"wgCurRevisionId\":931112759,\"wgRevisionId\":931112759,\"wgArticleId\":473317,\"wgIsArticle\":!0,\"wgIsRedirect\":!1,\"wgAction\":\"view\",\"wgUserName\":null,\"wgUserGroups\":[\"*\"],\"wgCategories\":[\"Articles needing expert attention with no reason or talk parameter\",\"Articles needing expert attention from April 2008\",\"All articles needing expert attention\",\"Sociology articles needing expert attention\",\n",
      "\"Media articles needing expert attention\",\"All articles with unsourced statements\",\"Articles with unsourced statements from December 2018\",\"Articles prone to spam from October 2017\",\"Wikipedia articles with LCCN identifiers\",\"Wikipedia articles with NDL identifiers\",\"Quantitative research\",\"Qualitative research\",\"Hermeneutics\"],\"wgPageContentLanguage\":\"en\",\"wgPageContentModel\":\"wikitext\",\"wgRelevantPageName\":\"Content_analysis\",\"wgRelevantArticleId\":473317,\"wgIsProbablyEditable\":!0,\"wgRelevantPageIsProbablyEditable\":!0,\"wgRestrictionEdit\":[],\"wgRestrictionMove\":[],\"wgMediaViewerOnClick\":!0,\"wgMediaViewerEnabledByDefault\":!0,\"wgPopupsReferencePreviews\":!1,\"wgPopupsConflictsWithNavPopupGadget\":!1,\"wgVisualEditor\":{\"pageLanguageCode\":\"en\",\"pageLanguageDir\":\"ltr\",\"pageVariantFallbacks\":\"en\"},\"wgMFDisplayWikibaseDescriptions\":{\"search\":!0,\"nearby\":!0,\"watchlist\":!0,\"tagline\":!1},\"wgWMESchemaEditAttemptStepOversample\":!1,\"wgULSCurrentAutonym\":\"English\",\n",
      "\"wgNoticeProject\":\"wikipedia\",\"wgWikibaseItemId\":\"Q653137\",\"wgCentralAuthMobileDomain\":!1,\"wgEditSubmitButtonLabelPublish\":!0};RLSTATE={\"ext.globalCssJs.user.styles\":\"ready\",\"site.styles\":\"ready\",\"noscript\":\"ready\",\"user.styles\":\"ready\",\"ext.globalCssJs.user\":\"ready\",\"user\":\"ready\",\"user.options\":\"ready\",\"user.tokens\":\"loading\",\"ext.cite.styles\":\"ready\",\"mediawiki.legacy.shared\":\"ready\",\"mediawiki.legacy.commonPrint\":\"ready\",\"jquery.makeCollapsible.styles\":\"ready\",\"mediawiki.toc.styles\":\"ready\",\"wikibase.client.init\":\"ready\",\"ext.visualEditor.desktopArticleTarget.noscript\":\"ready\",\"ext.uls.interlanguage\":\"ready\",\"ext.wikimediaBadges\":\"ready\",\"mediawiki.skinning.interface\":\"ready\",\"skins.vector.styles\":\"ready\"};RLPAGEMODULES=[\"ext.cite.ux-enhancements\",\"site\",\"mediawiki.page.startup\",\"mediawiki.page.ready\",\"jquery.makeCollapsible\",\"mediawiki.toc\",\"mediawiki.searchSuggest\",\"ext.gadget.ReferenceTooltips\",\"ext.gadget.watchlist-notice\",\"ext.gadget.DRN-wizard\",\"ext.gadget.charinsert\",\n",
      "\"ext.gadget.refToolbar\",\"ext.gadget.extra-toolbar-buttons\",\"ext.gadget.switcher\",\"ext.centralauth.centralautologin\",\"mmv.head\",\"mmv.bootstrap.autostart\",\"ext.popups\",\"ext.visualEditor.desktopArticleTarget.init\",\"ext.visualEditor.targetLoader\",\"ext.eventLogging\",\"ext.wikimediaEvents\",\"ext.navigationTiming\",\"ext.uls.compactlinks\",\"ext.uls.interface\",\"ext.cx.eventlogging.campaigns\",\"ext.quicksurveys.init\",\"ext.centralNotice.geoIP\",\"ext.centralNotice.startUp\",\"skins.vector.js\"];\n",
      "(RLQ=window.RLQ||[]).push(function(){mw.loader.implement(\"user.tokens@tffin\",function($,jQuery,require,module){/*@nomin*/mw.user.tokens.set({\"patrolToken\":\"+\\\\\",\"watchToken\":\"+\\\\\",\"csrfToken\":\"+\\\\\"});\n",
      "});});\n",
      "\n",
      "\n",
      "\n",
      "\n",
      "\n",
      "\n",
      "\n",
      "\n",
      "\n",
      "\n",
      "\n",
      "\n",
      "\n",
      "\n",
      "\n",
      "\n",
      "\n",
      "\n",
      "\n",
      "\n",
      "\n",
      "\n",
      "\n",
      "\n",
      "\n",
      "\n",
      "\n",
      "\n",
      "\n",
      "\n",
      "Content analysis\n",
      "\n",
      "From Wikipedia, the free encyclopedia\n",
      "\n",
      "\n",
      "Jump to navigation\n",
      "Jump to search\n",
      "This article needs attention from an expert in Sociology or Media. Please add a reason or a talk parameter to this template to explain the issue with the article. WikiProject Sociology or WikiProject Media may be able to help recruit an expert. (April 2008)\n",
      "Sociology\n",
      "History\n",
      "Outline\n",
      "Portal:Society\n",
      "By country\n",
      "\n",
      "Main theories\n",
      "Conflict theory\n",
      "Structural functionalism\n",
      "Symbolic interactionism\n",
      "\n",
      "Methods\n",
      "Comparative\n",
      "Computational\n",
      "Critical theory\n",
      "Ethnography\n",
      "Ethnomethodology\n",
      "Historical\n",
      "Mathematical\n",
      "Network analysis\n",
      "Positivism\n",
      "Qualitative\n",
      "Quantitative\n",
      "\n",
      "Subfields and other major theories\n",
      "Conflict\n",
      "Criminology\n",
      "Culture\n",
      "Demography\n",
      "Development\n",
      "Deviance\n",
      "Economic\n",
      "Education\n",
      "Environmental\n",
      "Family\n",
      "Feminist\n",
      "Gender\n",
      "Health\n",
      "Immigration\n",
      "Industrial\n",
      "Inequality\n",
      "Knowledge\n",
      "Law\n",
      "Literature\n",
      "Medical\n",
      "Military\n",
      "Organizational\n",
      "Political\n",
      "Race and ethnicity\n",
      "Religion\n",
      "Rural\n",
      "Science\n",
      "Social change\n",
      "Social constructionism\n",
      "Social movements\n",
      "Social psychology in sociology\n",
      "Stratification\n",
      "Technology\n",
      "Terrorism\n",
      "Urban\n",
      "\n",
      "Browse\n",
      "Bibliography\n",
      "Index\n",
      "Journals\n",
      "Organizations\n",
      "People\n",
      "Timeline\n",
      "vte\n",
      "Content analysis is a research method for studying documents and communication artifacts, which might be texts of various formats, pictures, audio or video. Social scientists use content analysis to examine patterns in communication in a replicable and systematic manner.[1] One of the key advantages of using content analysis to analyse social phenomena is its non-invasive nature, in contrast to simulating social experiences or collecting survey answers.\n",
      "Practices and philosophies of content analysis vary between academic disciplines. They all involve systematic reading or observation of texts or artifacts which are assigned labels (sometimes called codes) to indicate the presence of interesting, meaningful pieces of content.[2][3] By systematically labeling the content of a set of texts, researchers can analyse patterns of content quantitatively using statistical methods, or use qualitative methods to analyse meanings of content within texts.\n",
      "Computers are increasingly used in content analysis to automate the labeling (or coding) of documents. Simple computational techniques can provide descriptive data such as word frequencies and document lengths. Machine learning classifiers can greatly increase the number of texts that can be labeled, but the scientific utility of doing so is a matter of debate.\n",
      "\n",
      "Contents\n",
      "\n",
      "1 Goals\n",
      "2 Computational tools\n",
      "3 Reliability\n",
      "\n",
      "3.1 Kinds of text\n",
      "3.2 History\n",
      "\n",
      "\n",
      "4 Uses\n",
      "5 The development of the initial coding scheme\n",
      "\n",
      "5.1 The conventional process of coding\n",
      "\n",
      "\n",
      "6 See also\n",
      "7 References\n",
      "8 Further reading\n",
      "\n",
      "\n",
      "Goals[edit]\n",
      "Content analysis is best understood as a broad family of techniques. Effective researchers choose techniques that best help them answer their substantive questions. That said, according to Klaus Krippendorff, six questions must be addressed in every content analysis:[4]\n",
      "\n",
      "Which data are analyzed?\n",
      "How are the data defined?\n",
      "From what population are data drawn?\n",
      "What is the relevant context?\n",
      "What are the boundaries of the analysis?\n",
      "What is to be measured?\n",
      "The simplest and most objective form of content analysis considers unambiguous characteristics of the text such as word frequencies, the page area taken by a newspaper column, or the duration of a radio or television program. Analysis of simple word frequencies is limited because the meaning of a word depends on surrounding text.  Keyword In Context routines address this by placing words in their textual context. This helps resolve ambiguities such as those introduced by synonyms and homonyms.\n",
      "A further step in analysis is the distinction between dictionary-based (quantitative) approaches and qualitative approaches. Dictionary-based approaches set up a list of categories derived from the frequency list of words and control the distribution of words and their respective categories over the texts. While methods in quantitative content analysis in this way transform observations of found categories into quantitative statistical data, the qualitative content analysis focuses more on the intentionality and its implications. There are strong parallels between qualitative content analysis and thematic analysis.[5]\n",
      "\n",
      "Computational tools[edit]\n",
      "More generally, content analysis is research using the categorization and classification of speech, written text, interviews, images, or other forms of communication.  In its beginnings, using the first newspapers at the end of the 19th century, analysis was done manually by measuring the number of lines and amount of space given a subject.[citation needed] With the rise of common computing facilities like PCs, computer-based methods of analysis are growing in popularity.[6][7][8] Answers to open ended questions, newspaper articles, political party manifestos, medical records or systematic observations in experiments can all be subject to systematic analysis of textual data.\n",
      "By having contents of communication available in form of machine readable texts, the input is analyzed for frequencies and coded into categories for building up inferences.\n",
      "\n",
      "Reliability[edit]\n",
      "Robert Weber notes: \"To make valid inferences from the text, it is important that the classification procedure be reliable in the sense of being consistent: Different people should code the same text in the same way\".[9] The validity, inter-coder reliability and intra-coder reliability are subject to intense methodological research efforts over long years.[4]\n",
      "Neuendorf suggests that when human coders are used in content analysis at least two independent coders should be used. Reliability of human coding is often measured using a statistical measure of inter-coder reliability or \"the amount of agreement or correspondence among two or more coders\".[10] Lacy and Riffe identify the measurement of inter-coder reliability as a strength of quantitative content analysis, arguing that, if content analysts do not measure inter-coder reliability, their data are no more reliable than the subjective impressions of a single reader.[11]\n",
      "\n",
      "Kinds of text[edit]\n",
      "There are five types of texts in content analysis:\n",
      "\n",
      "written text, such as books and papers\n",
      "oral text, such as speech and theatrical performance\n",
      "iconic text, such as drawings, paintings, and icons\n",
      "audio-visual text, such as TV programs, movies, and videos\n",
      "hypertexts, which are texts found on the Internet\n",
      "History[edit]\n",
      "Over the years, content analysis has been applied to a variety of scopes. Hermeneutics and philology have long used content analysis to interpret sacred and profane texts and, in many cases, to attribute texts' authorship and authenticity.[3][4]\n",
      "In recent times, particularly with the advent of mass communication, content analysis has known an increasing use to deeply analyze and understand media content and media logic. \n",
      "The political scientist Harold Lasswell formulated the core questions of content analysis in its early-mid 20th-century mainstream version: \"Who says what, to whom, why, to what extent and with what effect?\".[12] The strong emphasis for a quantitative approach started up by Lasswell was finally carried out by another \"father\" of content analysis, Bernard Berelson, who proposed a definition of content analysis which, from this point of view, is emblematic: \"a research technique for the objective, systematic and quantitative description of the manifest content of communication\".[13]\n",
      "Quantitative content analysis has enjoyed a renewed popularity in recent years thanks to technological advances and fruitful application in of mass communication and personal communication research. Content analysis of textual big data produced by new media, particularly social media and mobile devices has become popular. These approaches take a simplified view of language that ignores the complexity of semiosis, the process by which meaning is formed out of language. Quantitative content analysts have been criticized for limiting the scope of content analysis to simple counting, and for applying the measurement methodologies of the natural sciences without reflecting critically on their appropriateness to social science.[14] Conversely, qualitative content analysts have been criticized for being insufficiently systematic and too impressionistic.[14] Krippendorff argues that quantitative and qualitative approaches to content analysis tend to overlap, and that there can be no generalisable conclusion as to which approach is superior.[14]\n",
      "Content analysis can also be described as studying traces, which are documents from past times, and artifacts, which are non-linguistic documents. Texts are understood to be produced by communication processes in a broad sense of that phrase—often gaining mean through abduction.[3][15]\n",
      "\n",
      "Uses[edit]\n",
      "Holsti groups fifteen uses of content analysis into three basic categories:[16]\n",
      "\n",
      "make inferences about the antecedents of a communication\n",
      "describe and make inferences about characteristics of a communication\n",
      "make inferences about the effects of a communication.\n",
      "He also places these uses into the context of the basic communication paradigm.\n",
      "The following table shows fifteen uses of content analysis in terms of their general purpose, element of the communication paradigm to which they apply, and the general question they are intended to answer.\n",
      "\n",
      "\n",
      "\n",
      " Uses of Content Analysis by Purpose, Communication Element, and Question \n",
      "\n",
      "\n",
      "Purpose\n",
      "\n",
      "Element\n",
      "\n",
      "Question\n",
      "\n",
      "Use\n",
      "\n",
      "\n",
      "Make inferences about the antecedents of communications\n",
      "\n",
      "Source\n",
      "\n",
      "Who?\n",
      "\n",
      "\n",
      "Answer questions of disputed authorship (authorship analysis)\n",
      "\n",
      "\n",
      "Encoding process\n",
      "\n",
      "Why?\n",
      "\n",
      "\n",
      "Secure political & military intelligence\n",
      "Analyse traits of individuals\n",
      "Infer cultural aspects & change\n",
      "Provide legal & evaluative evidence\n",
      "\n",
      "\n",
      "Describe & make inferences about the characteristics of communications\n",
      "\n",
      "Channel\n",
      "\n",
      "How?\n",
      "\n",
      "\n",
      "Analyse techniques of persuasion\n",
      "Analyse style\n",
      "\n",
      "\n",
      "Message\n",
      "\n",
      "What?\n",
      "\n",
      "\n",
      "Describe trends in communication content\n",
      "Relate known characteristics of sources to messages they produce\n",
      "Compare communication content to standards\n",
      "\n",
      "\n",
      "Recipient\n",
      "\n",
      "To whom?\n",
      "\n",
      "\n",
      "Relate known characteristics of audiences to messages produced for them\n",
      "Describe patterns of communication\n",
      "\n",
      "\n",
      "Make inferences about the consequences of communications\n",
      "\n",
      "Decoding process\n",
      "\n",
      "With what effect?\n",
      "\n",
      "\n",
      "Measure readability\n",
      "Analyse the flow of information\n",
      "Assess responses to communications\n",
      "\n",
      "\n",
      "Note.  Purpose, communication element, & question from Holsti.[16] Uses primarily from Berelson[17]  as adapted by Holsti.[16]\n",
      "\n",
      "The development of the initial coding scheme[edit]\n",
      "The process of the initial coding scheme or approach to coding is contingent on the particular content analysis approach selected. Through a directed content analysis, the scholars draft a preliminary coding scheme from pre-existing theory or assumptions. While with the conventional content analysis approach, the initial coding scheme developed from the data.\n",
      "\n",
      "The conventional process of coding[edit]\n",
      "With either approach above, immersing oneself into the data to obtain an overall picture is recommendable for researchers to conduct. Furthermore, identifying a consistent and clear unit of coding is vital, and researchers' choices range from a single word to several paragraphs, from texts to iconic symbols. Last, constructing the relationships between codes by sorting out them within specific categories or themes. [18]\n",
      "\n",
      "See also[edit]\n",
      "Donald Wayne Foster\n",
      "Hermeneutics\n",
      "Text mining\n",
      "The Polish Peasant in Europe and America\n",
      "Transition words\n",
      "Video content analysis\n",
      "References[edit]\n",
      "\n",
      "\n",
      "^ Alan., Bryman (2011). Business research methods. Bell, Emma, 1968- (3rd ed.). Cambridge: Oxford University Press. ISBN 9780199583409. OCLC 746155102..mw-parser-output cite.citation{font-style:inherit}.mw-parser-output .citation q{quotes:\"\\\"\"\"\\\"\"\"'\"\"'\"}.mw-parser-output .id-lock-free a,.mw-parser-output .citation .cs1-lock-free a{background:url(\"//upload.wikimedia.org/wikipedia/commons/thumb/6/65/Lock-green.svg/9px-Lock-green.svg.png\")no-repeat;background-position:right .1em center}.mw-parser-output .id-lock-limited a,.mw-parser-output .id-lock-registration a,.mw-parser-output .citation .cs1-lock-limited a,.mw-parser-output .citation .cs1-lock-registration a{background:url(\"//upload.wikimedia.org/wikipedia/commons/thumb/d/d6/Lock-gray-alt-2.svg/9px-Lock-gray-alt-2.svg.png\")no-repeat;background-position:right .1em center}.mw-parser-output .id-lock-subscription a,.mw-parser-output .citation .cs1-lock-subscription a{background:url(\"//upload.wikimedia.org/wikipedia/commons/thumb/a/aa/Lock-red-alt-2.svg/9px-Lock-red-alt-2.svg.png\")no-repeat;background-position:right .1em center}.mw-parser-output .cs1-subscription,.mw-parser-output .cs1-registration{color:#555}.mw-parser-output .cs1-subscription span,.mw-parser-output .cs1-registration span{border-bottom:1px dotted;cursor:help}.mw-parser-output .cs1-ws-icon a{background:url(\"//upload.wikimedia.org/wikipedia/commons/thumb/4/4c/Wikisource-logo.svg/12px-Wikisource-logo.svg.png\")no-repeat;background-position:right .1em center}.mw-parser-output code.cs1-code{color:inherit;background:inherit;border:inherit;padding:inherit}.mw-parser-output .cs1-hidden-error{display:none;font-size:100%}.mw-parser-output .cs1-visible-error{font-size:100%}.mw-parser-output .cs1-maint{display:none;color:#33aa33;margin-left:0.3em}.mw-parser-output .cs1-subscription,.mw-parser-output .cs1-registration,.mw-parser-output .cs1-format{font-size:95%}.mw-parser-output .cs1-kern-left,.mw-parser-output .cs1-kern-wl-left{padding-left:0.2em}.mw-parser-output .cs1-kern-right,.mw-parser-output .cs1-kern-wl-right{padding-right:0.2em}\n",
      "\n",
      "^ Hodder, I. (1994). The interpretation of documents and material culture. Thousand Oaks etc.: Sage. p. 155. ISBN 978-0761926870.\n",
      "\n",
      "^ a b c Tipaldo, G. (2014). L'analisi del contenuto e i mass media. Bologna, IT: Il Mulino. p. 42. ISBN 978-88-15-24832-9.\n",
      "\n",
      "^ a b c Krippendorff, Klaus (2004). Content Analysis: An Introduction to Its Methodology (2nd ed.). Thousand Oaks, CA: Sage. p. 413. ISBN 9780761915454.\n",
      "\n",
      "^ Vaismoradi, Mojtaba; Turunen, Hannele; Bondas, Terese (2013-09-01). \"Content analysis and thematic analysis: Implications for conducting a qualitative descriptive study\". Nursing & Health Sciences. 15 (3): 398–405. doi:10.1111/nhs.12048. ISSN 1442-2018. PMID 23480423.\n",
      "\n",
      "^ Pfeiffer, Silvia, Stefan Fischer, and Wolfgang Effelsberg. \"Automatic audio content analysis.\" Technical Reports 96 (1996).\n",
      "\n",
      "^ Grimmer, Justin, and Brandon M. Stewart. \"Text as data: The promise and pitfalls of automatic content analysis methods for political texts.\" Political analysis 21.3 (2013): 267-297.\n",
      "\n",
      "^ Nasukawa, Tetsuya, and Jeonghee Yi. \"Sentiment analysis: Capturing favorability using natural language processing.\" Proceedings of the 2nd international conference on Knowledge capture. ACM, 2003.\n",
      "\n",
      "^ Weber, Robert Philip (1990). Basic Content Analysis (2nd ed.). Newbury Park, CA: Sage. p. 12. ISBN 9780803938632.\n",
      "\n",
      "^ Kimberly A. Neuendorf (30 May 2016). The Content Analysis Guidebook. SAGE. ISBN 978-1-4129-7947-4.\n",
      "\n",
      "^ Lacy, Stephen R; Riffe, Daniel (1993). \"Sins of Omission and Commission in Mass Communication Quantitative Research\". Journalism & Mass Communication Quarterly. 70 (1): 126–132. doi:10.1177/107769909307000114.\n",
      "\n",
      "^ Lasswell, Harold Dwight (1948). Power and Personality. New York, NY.\n",
      "\n",
      "^ Berelson, B. (1952). Content Analysis in Communication Research. Glencoe: Free Press. p. 18.\n",
      "\n",
      "^ a b c Krippendorff, Klaus (2004). Content Analysis: An Introduction to Its Methodology. California: Sage. pp. 87–89. ISBN 978-0-7619-1544-7.\n",
      "\n",
      "^ Timmermans, Stefan; Tavory, Iddo (2012). \"Theory Construction in Qualitative Research\" (PDF). Sociological Theory. 30 (3): 167–186. doi:10.1177/0735275112457914.\n",
      "\n",
      "^ a b c Holsti, Ole R. (1969). Content Analysis for the Social Sciences and Humanities. Reading, MA: Addison-Wesley.\n",
      "\n",
      "^ Berelson, Bernard (1952). Content Analysis in Communication Research. Glencoe, Ill: Free Press.\n",
      "\n",
      "^ \"Content Analysis\". Sage. Archived from the original on 2018. Retrieved December 16, 2019.\n",
      "\n",
      "\n",
      "Further reading[edit]\n",
      "Graneheim, Ulla Hällgren; Lundman, Berit (2004). \"Qualitative content analysis in nursing research: concepts, procedures and measures to achieve trustworthiness\". Nurse Education Today. 24 (2): 105–112. doi:10.1016/j.ned\n"
     ]
    }
   ],
   "source": [
    "wikiContentSoup = bs4.BeautifulSoup(wikiContentRequest.text, 'html.parser')\n",
    "print(wikiContentSoup.text[:20000])"
   ]
  },
  {
   "cell_type": "markdown",
   "metadata": {},
   "source": [
    "This is better but there's still random whitespace and we have more than just\n",
    "the text of the article. This is because what we requested is the whole webpage,\n",
    "not just the text for the article.\n",
    "\n",
    "We want to extract only the text we care about, and in order to do this we will\n",
    "need to inspect the html. One way to do this is simply to go to the website with\n",
    "a browser and use its inspection or view source tool. If javascript or other\n",
    "dynamic loading occurs on the page, however, it is likely that what Python\n",
    "receives is not what you will see, so we will need to inspect what Python\n",
    "receives. To do this we can save the html `requests` obtained."
   ]
  },
  {
   "cell_type": "code",
   "execution_count": 6,
   "metadata": {},
   "outputs": [],
   "source": [
    "#content_analysis_save = 'wikipedia_content_analysis.html'\n",
    "\n",
    "with open(content_analysis_save, mode='w', encoding='utf-8') as f:\n",
    "    f.write(wikiContentRequest.text)\n",
    "    \n",
    "    "
   ]
  },
  {
   "cell_type": "markdown",
   "metadata": {},
   "source": [
    "Now lets open the file (`wikipedia_content_analysis.html`) we just created with\n",
    "a web browser. It should look sort of like the original but without the images\n",
    "and formatting.\n",
    "\n",
    "As there is very little standardization on structuring webpages, figuring out\n",
    "how best to extract what you want is an art. Looking at this page it looks like\n",
    "all the main textual content is inside `<p>`(paragraph) tags within the `<body>`\n",
    "tag."
   ]
  },
  {
   "cell_type": "code",
   "execution_count": 7,
   "metadata": {},
   "outputs": [
    {
     "name": "stdout",
     "output_type": "stream",
     "text": [
      "Content analysis is a research method for studying documents and communication artifacts, which might be texts of various formats, pictures, audio or video. Social scientists use content analysis to examine patterns in communication in a replicable and systematic manner.[1] One of the key advantages of using content analysis to analyse social phenomena is its non-invasive nature, in contrast to simulating social experiences or collecting survey answers.\n",
      "\n",
      "Practices and philosophies of content analysis vary between academic disciplines. They all involve systematic reading or observation of texts or artifacts which are assigned labels (sometimes called codes) to indicate the presence of interesting, meaningful pieces of content.[2][3] By systematically labeling the content of a set of texts, researchers can analyse patterns of content quantitatively using statistical methods, or use qualitative methods to analyse meanings of content within texts.\n",
      "\n",
      "Computers are increasingly used in content analysis to automate the labeling (or coding) of documents. Simple computational techniques can provide descriptive data such as word frequencies and document lengths. Machine learning classifiers can greatly increase the number of texts that can be labeled, but the scientific utility of doing so is a matter of debate.\n",
      "\n"
     ]
    }
   ],
   "source": [
    "contentPTags = wikiContentSoup.body.findAll('p')\n",
    "for pTag in contentPTags[:3]:\n",
    "    print(pTag.text)\n",
    "    "
   ]
  },
  {
   "cell_type": "markdown",
   "metadata": {},
   "source": [
    "We now have all the text from the page, split up by paragraph. If we wanted to\n",
    "get the section headers or references as well it would require a bit more work,\n",
    "but is doable.\n",
    "\n",
    "There is one more thing we might want to do before sending this text to be\n",
    "processed, remove the references indicators (`[2]`, `[3]` , etc). To do this we\n",
    "can use a short regular expression (regex)."
   ]
  },
  {
   "cell_type": "code",
   "execution_count": 8,
   "metadata": {},
   "outputs": [
    {
     "name": "stdout",
     "output_type": "stream",
     "text": [
      "                                       paragraph-text\n",
      "0   Content analysis is a research method for stud...\n",
      "1   Practices and philosophies of content analysis...\n",
      "2   Computers are increasingly used in content ana...\n",
      "3   Content analysis is best understood as a broad...\n",
      "4   The simplest and most objective form of conten...\n",
      "5   A further step in analysis is the distinction ...\n",
      "6   More generally, content analysis is research u...\n",
      "7   By having contents of communication available ...\n",
      "8   Robert Weber notes: \"To make valid inferences ...\n",
      "9   There are five types of texts in content analy...\n",
      "10  Over the years, content analysis has been appl...\n",
      "11  In recent times, particularly with the advent ...\n",
      "12  Quantitative content analysis has enjoyed a re...\n",
      "13  Content analysis can also be described as stud...\n",
      "14  Holsti groups fifteen uses of content analysis...\n",
      "15  He also places these uses into the context of ...\n",
      "16  The following table shows fifteen uses of cont...\n",
      "17  The process of the initial coding scheme or ap...\n",
      "18  With either approach above, immersing oneself ...\n",
      "19                                                 \\n\n"
     ]
    }
   ],
   "source": [
    "contentParagraphs = []\n",
    "for pTag in contentPTags:\n",
    "    #strings starting with r are raw so their \\'s are not modifier characters\n",
    "    #If we didn't start with r the string would be: '\\\\[\\\\d+\\\\]'\n",
    "    contentParagraphs.append(re.sub(r'\\[\\d+\\]', '', pTag.text))\n",
    "\n",
    "#convert to a DataFrame\n",
    "contentParagraphsDF = pandas.DataFrame({'paragraph-text' : contentParagraphs})\n",
    "print(contentParagraphsDF)"
   ]
  },
  {
   "cell_type": "markdown",
   "metadata": {},
   "source": [
    "Now we have a `DataFrame` containing all relevant text from the page ready to be\n",
    "processed\n",
    "\n",
    "If you are not familiar with regex, it is a way of specifying searches in text.\n",
    "A regex engine takes in the search pattern, in the above case `'\\[\\d+\\]'` and\n",
    "some string, the paragraph texts. Then it reads the input string one character\n",
    "at a time checking if it matches the search. Here the regex `'\\d'` matches\n",
    "number characters (while `'\\['` and `'\\]'` capture the braces on either side)."
   ]
  },
  {
   "cell_type": "code",
   "execution_count": 36,
   "metadata": {},
   "outputs": [],
   "source": [
    "samplestring = 'not a number, not a number, numbers 2134567890, not a number'"
   ]
  },
  {
   "cell_type": "code",
   "execution_count": 37,
   "metadata": {
    "scrolled": true
   },
   "outputs": [
    {
     "data": {
      "text/plain": [
       "<re.Match object; span=(36, 37), match='2'>"
      ]
     },
     "execution_count": 37,
     "metadata": {},
     "output_type": "execute_result"
    }
   ],
   "source": [
    "findNumber = r'\\d'\n",
    "regexResults = re.search(findNumber, samplestring)\n",
    "regexResults"
   ]
  },
  {
   "cell_type": "markdown",
   "metadata": {},
   "source": [
    "In Python the regex package (`re`) usually returns `Match` objects (you can have\n",
    "multiple pattern hits in a a single `Match`), to get the string that matched our\n",
    "pattern we can use the `.group()` method, and as we want the first one we will\n",
    "ask for the 0'th group."
   ]
  },
  {
   "cell_type": "code",
   "execution_count": 38,
   "metadata": {},
   "outputs": [
    {
     "name": "stdout",
     "output_type": "stream",
     "text": [
      "2\n"
     ]
    }
   ],
   "source": [
    "print(regexResults.group(0))"
   ]
  },
  {
   "cell_type": "markdown",
   "metadata": {},
   "source": [
    "That gives us the first number, if we wanted the whole block of numbers we can\n",
    "add a wildcard `'+'` which requests 1 or more instances of the preceding\n",
    "character."
   ]
  },
  {
   "cell_type": "code",
   "execution_count": 11,
   "metadata": {},
   "outputs": [
    {
     "name": "stdout",
     "output_type": "stream",
     "text": [
      "2134567890\n"
     ]
    }
   ],
   "source": [
    "findNumbers = r'\\d+'\n",
    "regexResults = re.search(findNumbers, 'not a number, not a number, numbers 2134567890, not a number')\n",
    "print(regexResults.group(0))"
   ]
  },
  {
   "cell_type": "markdown",
   "metadata": {},
   "source": [
    "Now we have the whole block of numbers, there are a huge number of special\n",
    "characters in regex, for the full description of Python's implementation look at\n",
    "the [re docs](https://docs.python.org/3/library/re.html) there is also a short\n",
    "[tutorial](https://docs.python.org/3/howto/regex.html#regex-howto)."
   ]
  },
  {
   "cell_type": "markdown",
   "metadata": {},
   "source": [
    "# <span style=\"color:red\">Section 1</span>\n",
    "<span style=\"color:red\">Construct cells immediately below this that describe and download webcontent relating to your anticipated final project. Use beautiful soup and at least five regular expressions to extract relevant, nontrivial *chunks* of that content (e.g., cleaned sentences, paragraphs, etc.) to a pandas `Dataframe`.</span>\n",
    "\n",
    "\n",
    "\n",
    "\n",
    "\n",
    "\n"
   ]
  },
  {
   "cell_type": "code",
   "execution_count": 4,
   "metadata": {},
   "outputs": [
    {
     "data": {
      "text/plain": [
       "<Response [200]>"
      ]
     },
     "execution_count": 4,
     "metadata": {},
     "output_type": "execute_result"
    }
   ],
   "source": [
    "#I'm giving the variable a name: stdsterkel_wikipage and attribute a website \n",
    "stdsterkel_wikipage = 'https://en.wikipedia.org/wiki/Studs_Terkel'\n",
    "#now, I'm getting the site\n",
    "requests.get(stdsterkel_wikipage)"
   ]
  },
  {
   "cell_type": "code",
   "execution_count": 5,
   "metadata": {},
   "outputs": [
    {
     "name": "stdout",
     "output_type": "stream",
     "text": [
      "<!DOCTYPE html>\n",
      "<html class=\"client-nojs\" lang=\"en\" dir=\"ltr\">\n",
      "<head>\n",
      "<meta charset=\"UTF-8\"/>\n",
      "<title>Studs Terkel - Wikipedia</title>\n",
      "<script>document.documentElement.className=\"client-js\";RLCONF={\"wgBreakFrames\":!1,\"wgSeparatorTransformTable\":[\"\",\"\"],\"wgDigitTransformTable\":[\"\",\"\"],\"wgDefaultDateFormat\":\"dmy\",\"wgMonthNames\":[\"\",\"January\",\"February\",\"March\",\"April\",\"May\",\"June\",\"July\",\"August\",\"September\",\"October\",\"November\",\"December\"],\"wgMonthNamesShort\":[\"\",\"Jan\",\"Feb\",\"Mar\",\"Apr\",\"May\",\"Jun\",\"Jul\",\"Aug\",\"Sep\",\"Oct\",\"Nov\",\"Dec\"],\"wgRequestId\":\"Xh5oAQpAAD8AAJz7AiUAAACE\",\"wgCSPNonce\":!1,\"wgCanonicalNamespace\":\"\",\"wgCanonicalSpecialPageName\":!1,\"wgNamespaceNumber\":0,\"wgPageName\":\"Studs_Terkel\",\"wgTitle\":\"Studs Terkel\",\"wgCurRevisionId\":935075350,\"wgRevisionId\":935075350,\"wgArticleId\":235411,\"wgIsArticle\":!0,\"wgIsRedirect\":!1,\"wgAction\":\"view\",\"wgUserName\":null,\"wgUserGroups\":[\"*\"],\"wgCategories\":[\"All articles with dead external links\",\"Articles with dead external links from June 2019\",\"Articles with short description\",\"Spoken articles\",\"Articles with hAudio microformats\",\n",
      "\"Wikipedia external links cleanup from June 2019\",\"Wikipedia spam cleanup from June 2019\",\"Articles with Curlie links\",\"Wikipedia articles with BNE identifiers\",\"Wikipedia articles with BNF identifiers\",\"Wikipedia articles with GND identifiers\",\"Wikipedia articles with ISNI identifiers\",\"Wikipedia articles with LCCN identifiers\",\"Wikipedia articles with MusicBrainz identifiers\",\"Wikipedia articles with NKC identifiers\",\"Wikipedia articles with NLI identifiers\",\"Wikipedia articles with NLK identifiers\",\"Wikipedia articles with NTA identifiers\",\"Wikipedia articles with SELIBR identifiers\",\"Wikipedia articles with SNAC-ID identifiers\",\"Wikipedia articles with SUDOC identifiers\",\"Wikipedia articles with Trove identifiers\",\"Wikipedia articles with VIAF identifiers\",\"Wikipedia articles with WorldCat-VIAF identifiers\",\"1912 births\",\"2008 deaths\",\"American agnostics\",\"American male journalists\",\"American memoirists\",\"American radio journalists\",\"Elijah Parish Lovejoy Award recipients\",\n",
      "\"Culture of Chicago\",\"Accidental deaths from falls\",\"Historians of the United States\",\"Jewish American male actors\",\"Jewish agnostics\",\"Jewish American writers\",\"Members of the American Academy of Arts and Letters\",\"Oral historians\",\"Pulitzer Prize for General Non-Fiction winners\",\"American people of Russian-Jewish descent\",\"Radio personalities from Chicago\",\"Writers from Chicago\",\"University of Chicago Law School alumni\",\"Works Progress Administration workers\",\"People of the New Deal arts projects\",\"National Humanities Medal recipients\",\"Jazz writers\",\"21st-century American non-fiction writers\",\"20th-century American historians\",\"Vaudeville performers\",\"20th-century American male writers\"],\"wgPageContentLanguage\":\"en\",\"wgPageContentModel\":\"wikitext\",\"wgRelevantPageName\":\"Studs_Terkel\",\"wgRelevantArticleId\":235411,\"wgIsProbablyEditable\":!0,\"wgRelevantPageIsProbablyEditable\":!0,\"wgRestrictionEdit\":[],\"wgRestrictionMove\":[\"sysop\"],\"wgMediaViewerOnClick\":!0,\n",
      "\"wgMediaViewerEnabledByDefault\":!0,\"wgPopupsReferencePreviews\":!1,\"wgPopupsConflictsWithNavPopupGadget\":!1,\"wgVisualEditor\":{\"pageLanguageCode\":\"en\",\"pageLanguageDir\":\"ltr\",\"pageVariantFallbacks\":\"en\"},\"wgMFDisplayWikibaseDescriptions\":{\"search\":!0,\"nearby\":!0,\"watchlist\":!0,\"tagline\":!1},\"wgWMESchemaEditAttemptStepOversample\":!1,\"wgULSCurrentAutonym\":\"English\",\"wgNoticeProject\":\"wikipedia\",\"wgWikibaseItemId\":\"Q529276\",\"wgCentralAuthMobileDomain\":!1,\"wgEditSubmitButtonLabelPublish\":!0};RLSTATE={\"ext.globalCssJs.user.styles\":\"ready\",\"site.styles\":\"ready\",\"noscript\":\"ready\",\"user.styles\":\"ready\",\"ext.globalCssJs.user\":\"ready\",\"user\":\"ready\",\"user.options\":\"ready\",\"user.tokens\":\"loading\",\"ext.cite.styles\":\"ready\",\"ext.tmh.thumbnail.styles\":\"ready\",\"mediawiki.legacy.shared\":\"ready\",\"mediawiki.legacy.commonPrint\":\"ready\",\"jquery.makeCollapsible.styles\":\"ready\",\"mediawiki.toc.styles\":\"ready\",\"wikibase.client.init\":\"ready\",\n",
      "\"ext.visualEditor.desktopArticleTarget.noscript\":\"ready\",\"ext.uls.interlanguage\":\"ready\",\"ext.wikimediaBadges\":\"ready\",\"mediawiki.skinning.interface\":\"ready\",\"skins.vector.styles\":\"ready\"};RLPAGEMODULES=[\"ext.cite.ux-enhancements\",\"mw.MediaWikiPlayer.loader\",\"mw.PopUpMediaTransform\",\"mw.TMHGalleryHook.js\",\"site\",\"mediawiki.page.startup\",\"mediawiki.page.ready\",\"jquery.makeCollapsible\",\"mediawiki.toc\",\"mediawiki.searchSuggest\",\"ext.gadget.ReferenceTooltips\",\"ext.gadget.watchlist-notice\",\"ext.gadget.DRN-wizard\",\"ext.gadget.charinsert\",\"ext.gadget.refToolbar\",\"ext.gadget.extra-toolbar-buttons\",\"ext.gadget.switcher\",\"ext.centralauth.centralautologin\",\"mmv.head\",\"mmv.bootstrap.autostart\",\"ext.popups\",\"ext.visualEditor.desktopArticleTarget.init\",\"ext.visualEditor.targetLoader\",\"ext.eventLogging\",\"ext.wikimediaEvents\",\"ext.navigationTiming\",\"ext.uls.compactlinks\",\"ext.uls.interface\",\"ext.cx.eventlogging.campaigns\",\"ext.quicksurveys.init\",\"ext.centralNotice.geoIP\",\"ext.centralNotice.startUp\",\n",
      "\"skins.vector.js\"];</script>\n",
      "<script>(RLQ=window.RLQ||[]).push(function(){mw.loader.implement(\"user.tokens@tffin\",function($,jQuery,require,module){/*@nomin*/mw.user.tokens.set({\"patrolToken\":\"+\\\\\",\"watchToken\":\"+\\\\\",\"csrfToken\":\"+\\\\\"});\n",
      "});});</script>\n",
      "<link rel=\"stylesheet\" href=\"/w/load.php?lang=en&amp;modules=ext.cite.styles%7Cext.tmh.thumbnail.styles%7Cext.uls.interlanguage%7Cext.visualEditor.desktopArticleTarget.noscript%7Cext.wikimediaBadges%7Cjquery.makeCollapsible.styles%7Cmediawiki.legacy.commonPrint%2Cshared%7Cmediawiki.skinning.interface%7Cmediawiki.toc.styles%7Cskins.vector.styles%7Cwikibase.client.init&amp;only=styles&amp;skin=vector\"/>\n",
      "<script async=\"\" src=\"/w/load.php?lang=en&amp;modules=startup&amp;only=scripts&amp;raw=1&amp;skin=vector\"></script>\n",
      "<meta name=\"ResourceLoaderDynamicStyles\" content=\"\"/>\n",
      "<link rel=\"stylesheet\" href=\"/w/load.php?lang=en&amp;modules=site.styles&amp;only=styles&amp;skin=vector\"/>\n",
      "<meta name=\"generator\" content=\"MediaWiki 1.35.0-wmf.14\"/>\n",
      "<meta name=\"referrer\" content=\"origin\"/>\n",
      "<meta name=\"referrer\" content=\"origin-when-crossorigin\"/>\n",
      "<meta name=\"referrer\" content=\"origin-when-cross-origin\"/>\n",
      "<meta property=\"og:image\" content=\"https://upload.wikimedia.org/wikipedia/commons/0/0b/Studs_Terkel_-_1979-1.jpg\"/>\n",
      "<link rel=\"alternate\" href=\"android-app://org.wikipedia/http/en.m.wikipedia.org/wiki/Studs_Terkel\"/>\n",
      "<link rel=\"alternate\" type=\"application/x-wiki\" title=\"Edit this page\" href=\"/w/index.php?title=Studs_Terkel&amp;action=edit\"/>\n",
      "<link rel=\"edit\" title=\"Edit this page\" href=\"/w/index.php?title=Studs_Terkel&amp;action=edit\"/>\n",
      "<link rel=\"apple-touch-icon\" href=\"/static/apple-touch/wikipedia.png\"/>\n",
      "<link rel=\"shortcut icon\" href=\"/static/favicon/wikipedia.ico\"/>\n",
      "<link rel=\"search\" type=\"application/opensearchdescription+xml\" href=\"/w/opensearch_desc.php\" title=\"Wikipedia (en)\"/>\n",
      "<link rel=\"EditURI\" type=\"application/rsd+xml\" href=\"//en.wikipedia.org/w/api.php?action=rsd\"/>\n",
      "<link rel=\"license\" href=\"//creativecommons.org/licenses/by-sa/3.0/\"/>\n",
      "<link rel=\"canonical\" href=\"https://en.wikipedia.org/wiki/Studs_Terkel\"/>\n",
      "<link rel=\"dns-prefetch\" href=\"//login.wikimedia.org\"/>\n",
      "<link rel=\"dns-prefetch\" href=\"//meta.wikimedia.org\" />\n",
      "<!--[if lt IE 9]><script src=\"/w/resources/lib/html5shiv/html5shiv.js\"></script><![endif]-->\n",
      "</head>\n",
      "<body class=\"mediawiki ltr sitedir-ltr mw-hide-empty-elt ns-0 ns-subject mw-editable page-Studs_Terkel rootpage-Studs_Terkel skin-vector action-view\">\n",
      "<div id=\"mw-page-base\" class=\"noprint\"></div>\n",
      "<div id=\"mw-head-base\" class=\"noprint\"></div>\n",
      "<div id=\"content\" class=\"mw-body\" role=\"main\">\n",
      "\t<a id=\"top\"></a>\n",
      "\t<div id=\"siteNotice\" class=\"mw-body-content\"><!-- CentralNotice --></div>\n",
      "\t<div class=\"mw-indicators mw-body-content\">\n",
      "<div id=\"mw-indicator-spoken-icon\" class=\"mw-indicator\"><a href=\"/wiki/File:Studs_Terkel.ogg\" title=\"Listen to this article\"><img alt=\"Listen to this article\" src=\"//upload.wikimedia.org/wikipedia/commons/thumb/4/47/Sound-icon.svg/20px-Sound-icon.svg.png\" decoding=\"async\" width=\"20\" height=\"15\" srcset=\"//upload.wikimedia.org/wikipedia/commons/thumb/4/47/Sound-icon.svg/30px-Sound-icon.svg.png 1.5x, //upload.wikimedia.org/wikipedia/commons/thumb/4/47/Sound-icon.svg/40px-Sound-icon.svg.png 2x\" data-file-width=\"128\" data-file-height=\"96\" /></a></div>\n",
      "</div>\n",
      "\n",
      "\t<h1 id=\"firstHeading\" class=\"firstHeading\" lang=\"en\">Studs Terkel</h1>\n",
      "\t\n",
      "\t<div id=\"bodyContent\" class=\"mw-body-content\">\n",
      "\t\t<div id=\"siteSub\" class=\"noprint\">From Wikipedia, the free encyclopedia</div>\n",
      "\t\t<div id=\"contentSub\"></div>\n",
      "\t\t\n",
      "\t\t\n",
      "\t\t\n",
      "\t\t<div id=\"jump-to-nav\"></div>\n",
      "\t\t<a class=\"mw-jump-link\" href=\"#mw-head\">Jump to navigation</a>\n",
      "\t\t<a class=\"mw-jump-link\" href=\"#p-search\">Jump to search</a>\n",
      "\t\t<div id=\"mw-content-text\" lang=\"en\" dir=\"ltr\" class=\"mw-content-ltr\"><div class=\"mw-parser-output\"><div class=\"shortdescription nomobile noexcerpt noprint searchaux\" style=\"display:none\">American author, historian and broadcaster</div>\n",
      "<table class=\"infobox vcard\" style=\"width:22em\"><tbody><tr><th colspan=\"2\" style=\"text-align:center;font-size:125%;font-weight:bold\"><div style=\"display:inline;\" class=\"fn\">Studs Terkel</div></th></tr><tr><td colspan=\"2\" style=\"text-align:center\"><a href=\"/wiki/File:Studs_Terkel_-_1979-1.jpg\" class=\"image\" title=\"Terkel in 1979\"><img alt=\"Terkel in 1979\" src=\"//upload.wikimedia.org/wikipedia/commons/thumb/0/0b/Studs_Terkel_-_1979-1.jpg/220px-Studs_Terkel_-_1979-1.jpg\" decoding=\"async\" width=\"220\" height=\"290\" srcset=\"//upload.wikimedia.org/wikipedia/commons/thumb/0/0b/Studs_Terkel_-_1979-1.jpg/330px-Studs_Terkel_-_1979-1.jpg 1.5x, //upload.wikimedia.org/wikipedia/commons/thumb/0/0b/Studs_Terkel_-_1979-1.jpg/440px-Studs_Terkel_-_1979-1.jpg 2x\" data-file-width=\"455\" data-file-height=\"600\" /></a><div>Terkel in 1979</div></td></tr><tr><th scope=\"row\" style=\"padding-top:0.225em;line-height:1.1em;padding-right:0.65em;\">Born</th><td style=\"line-height:1.4em;\">Louis Terkel<br /><span style=\"display:none\">(<span class=\"bday\">1912-05-16</span>)</span>May 16, 1912<br /><a href=\"/wiki/New_York_City,_New_York\" class=\"mw-redirect\" title=\"New York City, New York\">New York City, New York</a>, U.S.</td></tr><tr><th scope=\"row\" style=\"padding-top:0.225em;line-height:1.1em;padding-right:0.65em;\">Died</th><td style=\"line-height:1.4em;\">October 31, 2008<span style=\"display:none\">(2008-10-31)</span> (aged&#160;96)<br /><a href=\"/wiki/Chicago,_Illinois\" class=\"mw-redirect\" title=\"Chicago, Illinois\">Chicago, Illinois</a>, U.S.</td></tr><tr><th scope=\"row\" style=\"padding-top:0.225em;line-height:1.1em;padding-right:0.65em;\">Pen name</th><td class=\"nickname\" style=\"line-height:1.4em;\">Studs Terkel</td></tr><tr><th scope=\"row\" style=\"padding-top:0.225em;line-height:1.1em;padding-right:0.65em;\">Occupation</th><td class=\"role\" style=\"line-height:1.4em;\">Author, historian, radio personality, actor</td></tr><tr><th scope=\"row\" style=\"padding-top:0.225em;line-height:1.1em;padding-right:0.65em;\">Alma&#160;mater</th><td style=\"line-height:1.4em;\"><a href=\"/wiki/University_of_Chicago\" title=\"University of Chicago\">University of Chicago</a> (Ph.B., 1932; J.D., 1934)</td></tr><tr><th scope=\"row\" style=\"padding-top:0.225em;line-height:1.1em;padding-right:0.65em;\">Notable awards</th><td style=\"line-height:1.4em;\"><a href=\"/wiki/Pulitzer_Prize_for_General_Non-Fiction\" class=\"mw-redirect\" title=\"Pulitzer Prize for General Non-Fiction\">Pulitzer Prize for General Non-Fiction</a>, 1985</td></tr><tr><th scope=\"row\" style=\"padding-top:0.225em;line-height:1.1em;padding-right:0.65em;\">Spouse</th><td style=\"line-height:1.4em;\">Ida Goldberg (1939–1999)</td></tr><tr><th scope=\"row\" style=\"padding-top:0.225em;line-height:1.1em;padding-right:0.65em;\">Children</th><td style=\"line-height:1.4em;\">1</td></tr><tr><th colspan=\"2\" style=\"text-align:center\">Website</th></tr><tr><td colspan=\"2\" style=\"text-align:center;line-height:1.4em;\"><span class=\"url\"><a rel=\"nofollow\" class=\"external text\" href=\"http://studsterkel.org\">studsterkel<wbr />.org</a></span></td></tr></tbody></table>\n",
      "<p><b>Louis \"Studs\" Terkel</b> (May 16, 1912&#160;– October 31, 2008)<sup id=\"cite_ref-1\" class=\"reference\"><a href=\"#cite_note-1\">&#91;1&#93;</a></sup> was an American author, historian, actor, and broadcaster. He received the <a href=\"/wiki/Pulitzer_Prize_for_General_Non-Fiction\" class=\"mw-redirect\" title=\"Pulitzer Prize for General Non-Fiction\">Pulitzer Prize for General Non-Fiction</a> in 1985 for <i><a href=\"/wiki/The_Good_War\" title=\"The Good War\">The Good War</a></i> and is best remembered for his <a href=\"/wiki/Oral_history\" title=\"Oral history\">oral histories</a> of common Americans, and for hosting a long-running radio show in Chicago.\n",
      "</p>\n",
      "<div id=\"toc\" class=\"toc\"><input type=\"checkbox\" role=\"button\" id=\"toctogglecheckbox\" class=\"toctogglecheckbox\" style=\"display:none\" /><div class=\"toctitle\" lang=\"en\" dir=\"ltr\"><h2>Contents</h2><span class=\"toctogglespan\"><label class=\"toctogglelabel\" for=\"toctogglecheckbox\"></label></span></div>\n",
      "<ul>\n",
      "<li class=\"toclevel-1 tocsection-1\"><a href=\"#Early_life\"><span class=\"tocnumber\">1</span> <span class=\"toctext\">Early life</span></a></li>\n",
      "<li class=\"toclevel-1 tocsection-2\"><a href=\"#Career\"><span class=\"tocnumber\">2</span> <span class=\"toctext\">Career</span></a></li>\n",
      "<li class=\"toclevel-1 tocsection-3\"><a href=\"#Later_life\"><span class=\"tocnumber\">3</span> <span class=\"toctext\">Later life</span></a></li>\n",
      "<li class=\"toclevel-1 tocsection-4\"><a href=\"#Legacy_and_audio_recordings\"><span class=\"tocnumber\">4</span> <span class=\"toctext\">Legacy and audio recordings</span></a></li>\n",
      "<li class=\"toclevel-1 tocsection-5\"><a href=\"#Awards_and_honors\"><span class=\"tocnumber\">5</span> <span class=\"toctext\">Awards and honors</span></a></li>\n",
      "<li class=\"toclevel-1 tocsection-6\"><a href=\"#Selected_works\"><span class=\"tocnumber\">6</span> <span class=\"toctext\">Selected works</span></a></li>\n",
      "<li class=\"toclevel-1 tocsection-7\"><a href=\"#References\"><span class=\"tocnumber\">7</span> <span class=\"toctext\">References</span></a></li>\n",
      "<li class=\"toclevel-1 tocsection-8\"><a href=\"#External_links\"><span class=\"tocnumber\">8</span> <span class=\"toctext\">External links</span></a></li>\n",
      "</ul>\n",
      "</div>\n",
      "\n",
      "<h2><span class=\"mw-headline\" id=\"Early_life\">Early life</span><span class=\"mw-editsection\"><span class=\"mw-editsection-bracket\">[</span><a href=\"/w/index.php?title=Studs_Terkel&amp;action=edit&amp;section=1\" title=\"Edit section: Early life\">edit</a><span class=\"mw-editsection-bracket\">]</span></span></h2>\n",
      "<p>Terkel was born to <a href=\"/wiki/History_of_the_Jews_in_Russia\" title=\"History of the Jews in Russia\">Russian Jewish</a> immigrants, Samuel Terkel, a tailor, and Anna (Annie) Finkel, a seamstress, in New York City.<sup id=\"cite_ref-2\" class=\"reference\"><a href=\"#cite_note-2\">&#91;2&#93;</a></sup> At the age of eight, he moved with his family to <a href=\"/wiki/Chicago,_Illinois\" class=\"mw-redirect\" title=\"Chicago, Illinois\">Chicago</a>, <a href=\"/wiki/Illinois\" title=\"Illinois\">Illinois</a>, where he spent most of his life. He had two brothers, Ben (1907–1965) and Meyer (1905–1958). He attended <a href=\"/wiki/McKinley_High_School_(Chicago)\" title=\"McKinley High School (Chicago)\">McKinley High School</a>.<sup id=\"cite_ref-3\" class=\"reference\"><a href=\"#cite_note-3\">&#91;3&#93;</a></sup>\n",
      "</p><p>From 1926 to 1936, his parents ran a <a href=\"/wiki/Rooming_house\" title=\"Rooming house\">rooming house</a> that also served as a meeting place for people from all walks of life. Terkel credited his understanding of humanity and social interaction to the tenants and visitors who gathered in the lobby there, and the people who congregated in nearby <a href=\"/wiki/Bughouse_Square\" class=\"mw-redirect\" title=\"Bughouse Square\">Bughouse Square</a>. In 1939, he married Ida Goldberg (1912–1999), and the couple had one son. Although he received his undergraduate degree in 1932, and a <a href=\"/wiki/Juris_Doctor\" title=\"Juris Doctor\">J.D.</a> degree from the <a href=\"/wiki/University_of_Chicago\" title=\"University of Chicago\">University of Chicago</a> in 1934 (and was admitted to the Illinois Bar the following year), he decided instead of practicing law, he wanted to be a <a href=\"/wiki/Concierge\" title=\"Concierge\">concierge</a> at a hotel, and he soon joined a theater group.<sup id=\"cite_ref-4\" class=\"reference\"><a href=\"#cite_note-4\">&#91;4&#93;</a></sup>\n",
      "</p>\n",
      "<h2><span class=\"mw-headline\" id=\"Career\">Career</span><span class=\"mw-editsection\"><span class=\"mw-editsection-bracket\">[</span><a href=\"/w/index.php?title=Studs_Terkel&amp;action=edit&amp;section=2\" title=\"Edit section: Career\">edit</a><span class=\"mw-editsection-bracket\">]</span></span></h2>\n",
      "<p>A political <a href=\"/wiki/Left-wing_politics\" title=\"Left-wing politics\">leftist</a>, Terkel joined the <a href=\"/wiki/Works_Progress_Administration\" title=\"Works Progress Administration\">Works Progress Administration</a>'s <a href=\"/wiki/Federal_Writers%27_Project\" title=\"Federal Writers&#39; Project\">Federal Writers' Project</a>, working in <a href=\"/wiki/Radio_broadcasting\" title=\"Radio broadcasting\">radio</a>, doing work that varied from voicing <a href=\"/wiki/Soap_opera\" title=\"Soap opera\">soap opera</a> productions and announcing <a href=\"/wiki/Broadcast_journalism\" title=\"Broadcast journalism\">news</a> and <a href=\"/wiki/Sportscaster\" class=\"mw-redirect\" title=\"Sportscaster\">sports</a>, to presenting shows of recorded <a href=\"/wiki/Music\" title=\"Music\">music</a> and writing radio scripts and advertisements. His well-known radio program, titled <i>The Studs Terkel Program</i>, aired on 98.7 <a href=\"/wiki/WFMT\" title=\"WFMT\">WFMT</a> Chicago between 1952 and 1997.<sup id=\"cite_ref-5\" class=\"reference\"><a href=\"#cite_note-5\">&#91;5&#93;</a></sup> The one-hour program was broadcast each weekday during those forty-five years. On this program, he interviewed guests as diverse as <a href=\"/wiki/Martin_Luther_King\" class=\"mw-redirect\" title=\"Martin Luther King\">Martin Luther King</a>, <a href=\"/wiki/Leonard_Bernstein\" title=\"Leonard Bernstein\">Leonard Bernstein</a>, <a href=\"/wiki/Mort_Sahl\" title=\"Mort Sahl\">Mort Sahl</a>, <a href=\"/wiki/Bob_Dylan\" title=\"Bob Dylan\">Bob Dylan</a>, <a href=\"/wiki/Alexander_Frey\" title=\"Alexander Frey\">Alexander Frey</a>, <a href=\"/wiki/Dorothy_Parker\" title=\"Dorothy Parker\">Dorothy Parker</a>, <a href=\"/wiki/Tennessee_Williams\" title=\"Tennessee Williams\">Tennessee Williams</a>, <a href=\"/wiki/Jean_Shepherd\" title=\"Jean Shepherd\">Jean Shepherd</a>, and <a href=\"/wiki/Big_Bill_Broonzy\" title=\"Big Bill Broonzy\">Big Bill Broonzy</a>.\n",
      "</p><p>In the late 1940s and early 1950s, Terkel was also the central character of <i>Studs' Place</i>, an unscripted television drama about the owner of a <a href=\"/wiki/Greasy_spoon\" title=\"Greasy spoon\">greasy-spoon</a> diner in Chicago through which many famous people and interesting characters passed. This show, along with <a href=\"/wiki/Marlin_Perkins\" title=\"Marlin Perkins\">Marlin Perkins</a>'s <i><a href=\"/wiki/Zoo_Parade\" title=\"Zoo Parade\">Zoo Parade</a></i>, <i><a href=\"/wiki/Garroway_at_Large\" title=\"Garroway at Large\">Garroway at Large</a></i> and the children's show <i><a href=\"/wiki/Kukla,_Fran,_and_Ollie\" class=\"mw-redirect\" title=\"Kukla, Fran, and Ollie\">Kukla, Fran, and Ollie</a></i>, are widely considered canonical examples of the <a href=\"/w/index.php?title=Chicago_School_of_Television&amp;action=edit&amp;redlink=1\" class=\"new\" title=\"Chicago School of Television (page does not exist)\">Chicago School of Television</a>.\n",
      "</p><p>Terkel published his first book, <i><a href=\"/w/index.php?title=Giants_of_Jazz_(Terkel_book)&amp;action=edit&amp;redlink=1\" class=\"new\" title=\"Giants of Jazz (Terkel book) (page does not exist)\">Giants of Jazz</a></i>, in 1956. He followed it in 1967 with his first collection of <a href=\"/wiki/Oral_history\" title=\"Oral history\">oral histories</a>, <i>Division Street America</i> with 70 people talking about the effect on the human spirit of living in an American metropolis.<sup id=\"cite_ref-newpress_6-0\" class=\"\n"
     ]
    }
   ],
   "source": [
    "#I'm naming the next variable sturkel_wikiContentRequest and define it\n",
    "sturkel_wikiContentRequest = requests.get(stdsterkel_wikipage)\n",
    "#then I'm going to print it on a monitor - the first 20000 characters\n",
    "print(sturkel_wikiContentRequest.text[:20000])"
   ]
  },
  {
   "cell_type": "code",
   "execution_count": 10,
   "metadata": {},
   "outputs": [
    {
     "name": "stdout",
     "output_type": "stream",
     "text": [
      "\n",
      "\n",
      "\n",
      "\n",
      "Studs Terkel - Wikipedia\n",
      "document.documentElement.className=\"client-js\";RLCONF={\"wgBreakFrames\":!1,\"wgSeparatorTransformTable\":[\"\",\"\"],\"wgDigitTransformTable\":[\"\",\"\"],\"wgDefaultDateFormat\":\"dmy\",\"\n"
     ]
    }
   ],
   "source": [
    "#as the content of the html site is ugly and contains a lot of special characters, I want to clean that data. I'm using the pre-programmed function BeautifulSoup\n",
    "wikiContentSoup = bs4.BeautifulSoup(sturkel_wikiContentRequest.text, 'html.parser')\n",
    "#to show what BeautifulSoup does, I display the result below\n",
    "print(wikiContentSoup.text[:200])"
   ]
  },
  {
   "cell_type": "code",
   "execution_count": 12,
   "metadata": {},
   "outputs": [],
   "source": [
    "#now, I'm saving the data \n",
    "sturkel_content_analysis_save = 'studsturkel_content_analysis.html'\n",
    "\n",
    "#I'm unicoding the data and writing it to a file \n",
    "with open(sturkel_content_analysis_save, mode='w', encoding='utf-8') as f:\n",
    "    f.write(sturkel_wikiContentRequest.text)"
   ]
  },
  {
   "cell_type": "code",
   "execution_count": 13,
   "metadata": {},
   "outputs": [
    {
     "name": "stdout",
     "output_type": "stream",
     "text": [
      "Louis \"Studs\" Terkel (May 16, 1912 – October 31, 2008)[1] was an American author, historian, actor, and broadcaster. He received the Pulitzer Prize for General Non-Fiction in 1985 for The Good War and is best remembered for his oral histories of common Americans, and for hosting a long-running radio show in Chicago.\n",
      "\n",
      "Terkel was born to Russian Jewish immigrants, Samuel Terkel, a tailor, and Anna (Annie) Finkel, a seamstress, in New York City.[2] At the age of eight, he moved with his family to Chicago, Illinois, where he spent most of his life. He had two brothers, Ben (1907–1965) and Meyer (1905–1958). He attended McKinley High School.[3]\n",
      "\n",
      "From 1926 to 1936, his parents ran a rooming house that also served as a meeting place for people from all walks of life. Terkel credited his understanding of humanity and social interaction to the tenants and visitors who gathered in the lobby there, and the people who congregated in nearby Bughouse Square. In 1939, he married Ida Goldberg (1912–1999), and the couple had one son. Although he received his undergraduate degree in 1932, and a J.D. degree from the University of Chicago in 1934 (and was admitted to the Illinois Bar the following year), he decided instead of practicing law, he wanted to be a concierge at a hotel, and he soon joined a theater group.[4]\n",
      "\n"
     ]
    }
   ],
   "source": [
    "# I'm saying the program to find all <p>tags which identify the beginning of a new paragraph\n",
    "contentPTags = wikiContentSoup.body.findAll('p')\n",
    "for pTag in contentPTags[:3]:\n",
    "    print(pTag.text)"
   ]
  },
  {
   "cell_type": "code",
   "execution_count": 244,
   "metadata": {},
   "outputs": [
    {
     "name": "stdout",
     "output_type": "stream",
     "text": [
      "                                       paragraph-text\n",
      "0   Louis \"Studs\" Terkel (May 16, 1912 – October 3...\n",
      "1   Terkel was born to Russian Jewish immigrants, ...\n",
      "2   From 1926 to 1936, his parents ran a rooming h...\n",
      "3   A political leftist, Terkel joined the Works P...\n",
      "4   In the late 1940s and early 1950s, Terkel was ...\n",
      "5   Terkel published his first book, Giants of Jaz...\n",
      "6   He also served as a distinguished scholar-in-r...\n",
      "7   Terkel received his nickname while he was acti...\n",
      "8   Terkel was acclaimed for his efforts to preser...\n",
      "9   In 2004, Terkel received the Elijah Parish Lov...\n",
      "10  On May 22, 2006, Terkel, along with other plai...\n",
      "11  Having been blacklisted from working in televi...\n",
      "12  The lawsuit was dismissed by Judge Matthew F. ...\n",
      "13  In an interview in The Guardian celebrating hi...\n",
      "14  Terkel published a new personal memoir entitle...\n",
      "15  Terkel was a self-described agnostic, which he...\n",
      "16  One of his last interviews was for the documen...\n",
      "17  At his last public appearance, in 2007, Terkel...\n",
      "18  Terkel died in his Chicago home on Friday, Oct...\n",
      "19  In 1998, Terkel and WFMT, the radio station wh...\n",
      "20  In 2010, the Museum and the Library of Congres...\n",
      "21  In 2014 WFMT and the Chicago History Museum an...\n",
      "22  On Sept. 5, 2019, podcast The Radio Diaries, p...\n",
      "23  In 1982, Terkel was awarded an honorary Doctor...\n",
      "24  In 1985, Terkel received the Pulitzer Prize fo...\n",
      "25  President Clinton awarded Terkel the National ...\n",
      "26  The National Book Foundation awarded Terkel th...\n",
      "27  In 2001, Terkel was inducted into the Chicago ...\n",
      "28  In 2004, Terkel was inducted as a Laureate of ...\n",
      "29  In 2006, Terkel received the Lifetime Achievem...\n",
      "30  In 2010, Terkel was inducted into the Chicago ...\n",
      "31  Terkel was a recipient of a George Polk Career...\n",
      "32  Terkel, despite not being black, was inducted ...\n",
      "33                                                 \\n\n"
     ]
    }
   ],
   "source": [
    "# I'm making an empty list that I will later fill for all paragraphs in the text \n",
    "contentParagraphs = []\n",
    "for pTag in contentPTags:\n",
    "    #strings starting with r are raw so their \\'s are not modifier characters\n",
    "    #If we didn't start with r the string would be: '\\\\[\\\\d+\\\\]'\n",
    "    contentParagraphs.append(re.sub(r'\\[\\d+\\]', '', pTag.text))\n",
    "\n",
    "#convert to a DataFrame\n",
    "contentParagraphsDF = pandas.DataFrame({'paragraph-text' : contentParagraphs})\n",
    "print(contentParagraphsDF)\n",
    "#great, now every line is a paragraph :)"
   ]
  },
  {
   "cell_type": "code",
   "execution_count": 49,
   "metadata": {},
   "outputs": [
    {
     "data": {
      "text/plain": [
       "['Louis \"Studs\" Terkel (May 16, 1912\\xa0– October 31, 2008) was an American author, historian, actor, and broadcaster. He received the Pulitzer Prize for General Non-Fiction in 1985 for The Good War and is best remembered for his oral histories of common Americans, and for hosting a long-running radio show in Chicago.\\n',\n",
       " 'Terkel was born to Russian Jewish immigrants, Samuel Terkel, a tailor, and Anna (Annie) Finkel, a seamstress, in New York City. At the age of eight, he moved with his family to Chicago, Illinois, where he spent most of his life. He had two brothers, Ben (1907–1965) and Meyer (1905–1958). He attended McKinley High School.\\n',\n",
       " 'From 1926 to 1936, his parents ran a rooming house that also served as a meeting place for people from all walks of life. Terkel credited his understanding of humanity and social interaction to the tenants and visitors who gathered in the lobby there, and the people who congregated in nearby Bughouse Square. In 1939, he married Ida Goldberg (1912–1999), and the couple had one son. Although he received his undergraduate degree in 1932, and a J.D. degree from the University of Chicago in 1934 (and was admitted to the Illinois Bar the following year), he decided instead of practicing law, he wanted to be a concierge at a hotel, and he soon joined a theater group.\\n',\n",
       " \"A political leftist, Terkel joined the Works Progress Administration's Federal Writers' Project, working in radio, doing work that varied from voicing soap opera productions and announcing news and sports, to presenting shows of recorded music and writing radio scripts and advertisements. His well-known radio program, titled The Studs Terkel Program, aired on 98.7 WFMT Chicago between 1952 and 1997. The one-hour program was broadcast each weekday during those forty-five years. On this program, he interviewed guests as diverse as Martin Luther King, Leonard Bernstein, Mort Sahl, Bob Dylan, Alexander Frey, Dorothy Parker, Tennessee Williams, Jean Shepherd, and Big Bill Broonzy.\\n\",\n",
       " \"In the late 1940s and early 1950s, Terkel was also the central character of Studs' Place, an unscripted television drama about the owner of a greasy-spoon diner in Chicago through which many famous people and interesting characters passed. This show, along with Marlin Perkins's Zoo Parade, Garroway at Large and the children's show Kukla, Fran, and Ollie, are widely considered canonical examples of the Chicago School of Television.\\n\",\n",
       " 'Terkel published his first book, Giants of Jazz, in 1956. He followed it in 1967 with his first collection of oral histories, Division Street America with 70 people talking about the effect on the human spirit of living in an American metropolis.\\n',\n",
       " \"He also served as a distinguished scholar-in-residence at the Chicago History Museum. He appeared in the film Eight Men Out, based on the Black Sox Scandal, in which he played newspaper reporter Hugh Fullerton, who tries to uncover the White Sox players' plans to throw the 1919 World Series. Terkel found it particularly amusing to play this role, as he was a big fan of the Chicago White Sox (as well as a vocal critic of major league baseball during the 1994 baseball strike), and gave a moving congratulatory speech to the White Sox organization after their 2005 World Series championship during a television interview.\\n\",\n",
       " \"Terkel received his nickname while he was acting in a play with another person named Louis. To keep the two straight, the director of the production gave Terkel the nickname Studs after the fictional character about whom Terkel was reading at the time—Studs Lonigan, of James T. Farrell's trilogy.\\n\",\n",
       " 'Terkel was acclaimed for his efforts to preserve American oral history. His 1985 book \"The Good War\": An Oral History of World War Two, which detailed ordinary peoples\\' accounts of the country\\'s involvement in World War II, won the Pulitzer Prize. For Hard Times: An Oral History of the Great Depression, Terkel assembled recollections of the Great Depression that spanned the socioeconomic spectrum, from Okies, through prison inmates, to the wealthy. His 1974 book, Working, in which (as reflected by its subtitle) People Talk About What They Do All Day and How They Feel About What They Do, also was highly acclaimed. Working was made into a short-lived Broadway show of the same title in 1978 and was telecast on PBS in 1982. In 1995, he received the Chicago History Museum \"Making History Award\" for Distinction in Journalism and Communications. In 1997, Terkel was elected a member of The American Academy of Arts and Letters. Two years later, he received the George Polk Career Award in 1999.\\n',\n",
       " 'In 2004, Terkel received the Elijah Parish Lovejoy Award as well as an honorary Doctor of Laws degree from Colby College. In August 2005, Terkel underwent successful open-heart surgery. At the age of ninety-three, he was one of the oldest people to undergo this form of surgery and doctors reported his recovery to be remarkable for someone of that advanced age. Terkel smoked two cigars a day until 2004.\\n',\n",
       " 'On May 22, 2006, Terkel, along with other plaintiffs, including Quentin Young, filed a suit in federal district court against AT&T Inc., to stop the telecommunications carrier from giving customer telephone records to the National Security Agency without a court order.\\n',\n",
       " 'Having been blacklisted from working in television during the McCarthy era, I know the harm of government using private corporations to intrude into the lives of innocent Americans. When the government uses the telephone companies to create massive databases of all our phone calls it has gone too far.\\n',\n",
       " 'The lawsuit was dismissed by Judge Matthew F. Kennelly on July 26, 2006. Judge Kennelly cited a \"state secrets privilege\" designed to protect national security from being harmed by lawsuits.\\n',\n",
       " 'In an interview in The Guardian celebrating his 95th birthday, Terkel discussed his own \"diverse and idiosyncratic taste in music, from Bob Dylan to Alexander Frey, Louis Armstrong to Woody Guthrie\".\\n',\n",
       " 'Terkel published a new personal memoir entitled Touch and Go in fall 2007.\\n',\n",
       " 'Terkel was a self-described agnostic, which he jokingly defined as \"a cowardly atheist\" during a 2004 interview with Krista Tippett on American Public Media\\'s Speaking of Faith.\\n',\n",
       " 'One of his last interviews was for the documentary Soul of a People on Smithsonian Channel. He spoke about his participation in the Works Progress Administration.\\n',\n",
       " 'At his last public appearance, in 2007, Terkel said he was \"still in touch—but ready to go\". He gave one of his last interviews on the BBC Hardtalk program on February 4, 2008. He spoke of the imminent election of Barack Obama as President of the United States, and offered him some advice, in October 2008.\\n',\n",
       " 'Terkel died in his Chicago home on Friday, October 31, 2008, at the age of ninety-six. He had been suffering ever since a fall in his home earlier that month.\\n',\n",
       " \"In 1998, Terkel and WFMT, the radio station which broadcast Terkel's long-running program, donated approximately 7,000 tape recordings of Terkel's interviews and broadcasts to the Chicago History Museum. \\n\",\n",
       " 'In 2010, the Museum and the Library of Congress announced a multi-year joint collaboration to digitally preserve and make available at both institutions these recordings, which the Library of Congress called, \"a remarkably rich history of the ideas and perspectives of both common and influential people living in the second half of the 20th century.\" \"For Studs, there was not a voice that should not be heard, a story that could not be told,\" said Gary T. Johnson, Museum president. \"He believed that everyone had the right to be heard and had something important to say. He was there to listen, to chronicle, and to make sure their stories are remembered.\"\\n',\n",
       " 'In 2014 WFMT and the Chicago History Museum announced the creation of the website, Studsterkel.org (see studsterkel.wfmt.com), which will house the entire archive of Studs Terkel interviews.\\n',\n",
       " 'On Sept. 5, 2019, podcast The Radio Diaries, produced by Radiotopia on PRX, released an episode called \"The Working Tapes of Studs Terkel.\" In it, Terkel\\'s taped interviews with working people are played and examined.\\n',\n",
       " 'In 1982, Terkel was awarded an honorary Doctor of Humane Letters from the University of Illinois at Chicago.\\n',\n",
       " 'In 1985, Terkel received the Pulitzer Prize for General Non-Fiction for his book The Good War.\\n',\n",
       " 'President Clinton awarded Terkel the National Humanities Medal in 1997.\\n',\n",
       " 'The National Book Foundation awarded Terkel the 1997 Medal for Distinguished Contribution to American Letters.\\n',\n",
       " 'In 2001, Terkel was inducted into the Chicago Gay and Lesbian Hall of Fame as a Friend of the Community.\\n',\n",
       " \"In 2004, Terkel was inducted as a Laureate of The Lincoln Academy of Illinois and awarded the Order of Lincoln (the State's highest honor) by the Governor of Illinois in the area of Communications.\\n\",\n",
       " 'In 2006, Terkel received the Lifetime Achievement Award from the Dayton Literary Peace Prize, the first and only annual U.S. literary award recognizing the power of the written word to promote peace.\\n',\n",
       " 'In 2010, Terkel was inducted into the Chicago Literary Hall of Fame.\\n',\n",
       " 'Terkel was a recipient of a George Polk Career Award and the National Book Critics Circle 2003 Ivan Sandrof Lifetime Achievement Award.\\n',\n",
       " 'Terkel, despite not being black, was inducted into the Hall of Fame of Black Writers at the insistence of Haki Madhubuti.\\n',\n",
       " '\\n']"
      ]
     },
     "execution_count": 49,
     "metadata": {},
     "output_type": "execute_result"
    }
   ],
   "source": [
    "contentParagraphs"
   ]
  },
  {
   "cell_type": "code",
   "execution_count": 33,
   "metadata": {},
   "outputs": [
    {
     "name": "stdout",
     "output_type": "stream",
     "text": [
      "16\n"
     ]
    }
   ],
   "source": [
    "# I'm searching for the first number in the first paragraph\n",
    "findNumbers = r'\\d+'\n",
    "regexResults = re.search(findNumbers, contentParagraphs[0])\n",
    "print(regexResults.group(0))"
   ]
  },
  {
   "cell_type": "code",
   "execution_count": 34,
   "metadata": {},
   "outputs": [
    {
     "name": "stdout",
     "output_type": "stream",
     "text": [
      "1912\n"
     ]
    }
   ],
   "source": [
    "#I only want to find years, i.e. not day of the month etc. in the first paragraph\n",
    "findYears = r'\\d\\d\\d\\d'\n",
    "regexResults = re.search(findYears, contentParagraphs[0])\n",
    "print(regexResults.group(0))"
   ]
  },
  {
   "cell_type": "code",
   "execution_count": 57,
   "metadata": {},
   "outputs": [
    {
     "name": "stdout",
     "output_type": "stream",
     "text": [
      "From\n"
     ]
    }
   ],
   "source": [
    "findNonWhitespace = r'\\S+'\n",
    "regexResults = re.search(findNonWhitespace, contentParagraphs[2])\n",
    "print(regexResults.group(0))\n",
    "\n",
    "#to find out the number of words in a wikipedia article (or in this paragraph) I would count the number of hits that I get from regex."
   ]
  },
  {
   "cell_type": "markdown",
   "metadata": {},
   "source": [
    "\n",
    "# Spidering\n",
    "\n",
    "What if we want to to get a bunch of different pages from wikipedia. We would\n",
    "need to get the url for each of the pages we want. Typically, we want pages that\n",
    "are linked to by other pages and so we will need to parse pages and identify the\n",
    "links. Right now we will be retrieving all links in the body of the content\n",
    "analysis page.\n",
    "\n",
    "To do this we will need to find all the `<a>` (anchor) tags with `href`s\n",
    "(hyperlink references) inside of `<p>` tags. `href` can have many\n",
    "[different](http://stackoverflow.com/questions/4855168/what-is-href-and-why-is-\n",
    "it-used) [forms](https://en.wikipedia.org/wiki/Hyperlink#Hyperlinks_in_HTML) so\n",
    "dealing with them can be tricky, but generally, you will want to extract\n",
    "absolute or relative links. An absolute link is one you can follow without\n",
    "modification, while a relative link requires a base url that you will then\n",
    "append. Wikipedia uses relative urls for its internal links: below is an example\n",
    "for dealing with them."
   ]
  },
  {
   "cell_type": "code",
   "execution_count": 83,
   "metadata": {},
   "outputs": [
    {
     "name": "stdout",
     "output_type": "stream",
     "text": [
      "[('https://en.wikipedia.org/wiki/Works_Progress_Administration', 3, 'Works Progress Administration'), ('https://en.wikipedia.org/wiki/Federal_Writers%27_Project', 3, \"Federal Writers' Project\"), ('https://en.wikipedia.org/wiki/Radio_broadcasting', 3, 'radio'), ('https://en.wikipedia.org/wiki/Soap_opera', 3, 'soap opera'), ('https://en.wikipedia.org/wiki/Broadcast_journalism', 3, 'news'), ('https://en.wikipedia.org/wiki/Music', 3, 'music'), ('https://en.wikipedia.org/wiki/WFMT', 3, 'WFMT'), ('https://en.wikipedia.org/wiki/Leonard_Bernstein', 3, 'Leonard Bernstein'), ('https://en.wikipedia.org/wiki/Mort_Sahl', 3, 'Mort Sahl'), ('https://en.wikipedia.org/wiki/Bob_Dylan', 3, 'Bob Dylan'), ('https://en.wikipedia.org/wiki/Alexander_Frey', 3, 'Alexander Frey'), ('https://en.wikipedia.org/wiki/Dorothy_Parker', 3, 'Dorothy Parker'), ('https://en.wikipedia.org/wiki/Tennessee_Williams', 3, 'Tennessee Williams'), ('https://en.wikipedia.org/wiki/Jean_Shepherd', 3, 'Jean Shepherd'), ('https://en.wikipedia.org/wiki/Big_Bill_Broonzy', 3, 'Big Bill Broonzy'), ('https://en.wikipedia.org/wiki/Greasy_spoon', 4, 'greasy-spoon'), ('https://en.wikipedia.org/wiki/Marlin_Perkins', 4, 'Marlin Perkins'), ('https://en.wikipedia.org/wiki/Zoo_Parade', 4, 'Zoo Parade'), ('https://en.wikipedia.org/wiki/Garroway_at_Large', 4, 'Garroway at Large'), ('https://en.wikipedia.org/wiki/Oral_history', 5, 'oral histories'), ('https://en.wikipedia.org/wiki/Chicago_History_Museum', 6, 'Chicago History Museum'), ('https://en.wikipedia.org/wiki/Eight_Men_Out', 6, 'Eight Men Out'), ('https://en.wikipedia.org/wiki/Black_Sox_Scandal', 6, 'Black Sox Scandal'), ('https://en.wikipedia.org/wiki/Hugh_Fullerton', 6, 'Hugh Fullerton'), ('https://en.wikipedia.org/wiki/1919_World_Series', 6, '1919 World Series'), ('https://en.wikipedia.org/wiki/Chicago_White_Sox', 6, 'Chicago White Sox'), ('https://en.wikipedia.org/wiki/2005_World_Series', 6, '2005 World Series'), ('https://en.wikipedia.org/wiki/Nickname', 7, 'nickname'), ('https://en.wikipedia.org/wiki/Studs_Lonigan', 7, 'Studs Lonigan'), ('https://en.wikipedia.org/wiki/James_T._Farrell', 7, 'James T. Farrell'), ('https://en.wikipedia.org/wiki/Oral_history', 8, 'American oral history'), ('https://en.wikipedia.org/wiki/The_Good_War', 8, '\"The Good War\": An Oral History of World War Two'), ('https://en.wikipedia.org/wiki/Pulitzer_Prize', 8, 'Pulitzer Prize'), ('https://en.wikipedia.org/wiki/Hard_Times:_An_Oral_History_of_the_Great_Depression', 8, 'Hard Times: An Oral History of the Great Depression'), ('https://en.wikipedia.org/wiki/Great_Depression', 8, 'Great Depression'), ('https://en.wikipedia.org/wiki/Okie', 8, 'Okies'), ('https://en.wikipedia.org/wiki/Working_(Terkel_book)', 8, 'Working'), ('https://en.wikipedia.org/wiki/Working_(musical)', 8, 'Broadway show of the same title'), ('https://en.wikipedia.org/wiki/PBS', 8, 'PBS'), ('https://en.wikipedia.org/wiki/Chicago_History_Museum', 8, 'Chicago History Museum'), ('https://en.wikipedia.org/wiki/George_Polk_Awards', 8, 'George Polk Career Award'), ('https://en.wikipedia.org/wiki/Elijah_Parish_Lovejoy_Award', 9, 'Elijah Parish Lovejoy Award'), ('https://en.wikipedia.org/wiki/Colby_College', 9, 'Colby College'), ('https://en.wikipedia.org/wiki/Quentin_Young', 10, 'Quentin Young'), ('https://en.wikipedia.org/wiki/National_Security_Agency', 10, 'National Security Agency'), ('https://en.wikipedia.org/wiki/State_secrets_privilege', 12, 'state secrets privilege'), ('https://en.wikipedia.org/wiki/The_Guardian', 13, 'The Guardian'), ('https://en.wikipedia.org/wiki/Bob_Dylan', 13, 'Bob Dylan'), ('https://en.wikipedia.org/wiki/Alexander_Frey', 13, 'Alexander Frey'), ('https://en.wikipedia.org/wiki/Louis_Armstrong', 13, 'Louis Armstrong'), ('https://en.wikipedia.org/wiki/Woody_Guthrie', 13, 'Woody Guthrie'), ('https://en.wikipedia.org/wiki/Agnosticism', 15, 'agnostic'), ('https://en.wikipedia.org/wiki/Krista_Tippett', 15, 'Krista Tippett'), ('https://en.wikipedia.org/wiki/American_Public_Media', 15, 'American Public Media'), ('https://en.wikipedia.org/wiki/Smithsonian_Channel', 16, 'Smithsonian Channel'), ('https://en.wikipedia.org/wiki/Works_Progress_Administration', 16, 'Works Progress Administration'), ('https://en.wikipedia.org/wiki/BBC', 17, 'BBC'), ('https://en.wikipedia.org/wiki/Barack_Obama', 17, 'Barack Obama'), ('https://en.wikipedia.org/wiki/Chicago_History_Museum', 19, 'Chicago History Museum'), ('https://en.wikipedia.org/wiki/Chicago_History_Museum', 21, 'Chicago History Museum'), ('https://en.wikipedia.org/wiki/Radiotopia', 22, 'Radiotopia'), ('https://en.wikipedia.org/wiki/University_of_Illinois_at_Chicago', 23, 'University of Illinois at Chicago'), ('https://en.wikipedia.org/wiki/The_Good_War', 24, 'The Good War'), ('https://en.wikipedia.org/wiki/National_Humanities_Medal', 25, 'National Humanities Medal'), ('https://en.wikipedia.org/wiki/National_Book_Foundation', 26, 'National Book Foundation'), ('https://en.wikipedia.org/wiki/The_Lincoln_Academy_of_Illinois', 28, 'The Lincoln Academy of Illinois'), ('https://en.wikipedia.org/wiki/National_Book_Critics_Circle', 31, 'National Book Critics Circle')]\n"
     ]
    }
   ],
   "source": [
    "wikipedia_base_url = 'https://en.wikipedia.org'\n",
    "\n",
    "otherPAgeURLS = []\n",
    "#We also want to know where the links come from so we also will get:\n",
    "#the paragraph number\n",
    "#the word the link is in\n",
    "for paragraphNum, pTag in enumerate(contentPTags):\n",
    "    #we only want hrefs that link to wiki pages\n",
    "    tagLinks = pTag.findAll('a', href=re.compile('/wiki/'), class_=False)\n",
    "    for aTag in tagLinks:\n",
    "        #We need to extract the url from the <a> tag\n",
    "        relurl = aTag.get('href')\n",
    "        linkText = aTag.text\n",
    "        #wikipedia_base_url is the base we can use the urllib joining function to merge them\n",
    "        #Giving a nice structured tupe like this means we can use tuple expansion later\n",
    "        otherPAgeURLS.append((\n",
    "            urllib.parse.urljoin(wikipedia_base_url, relurl),\n",
    "            paragraphNum,\n",
    "            linkText,\n",
    "        ))\n",
    "print(otherPAgeURLS[10:])"
   ]
  },
  {
   "cell_type": "markdown",
   "metadata": {},
   "source": [
    "We will be adding these new texts to our DataFrame `contentParagraphsDF` so we\n",
    "will need to add 2 more columns to keep track of paragraph numbers and sources."
   ]
  },
  {
   "cell_type": "code",
   "execution_count": 62,
   "metadata": {},
   "outputs": [
    {
     "data": {
      "text/html": [
       "<div>\n",
       "<style scoped>\n",
       "    .dataframe tbody tr th:only-of-type {\n",
       "        vertical-align: middle;\n",
       "    }\n",
       "\n",
       "    .dataframe tbody tr th {\n",
       "        vertical-align: top;\n",
       "    }\n",
       "\n",
       "    .dataframe thead th {\n",
       "        text-align: right;\n",
       "    }\n",
       "</style>\n",
       "<table border=\"1\" class=\"dataframe\">\n",
       "  <thead>\n",
       "    <tr style=\"text-align: right;\">\n",
       "      <th></th>\n",
       "      <th>paragraph-text</th>\n",
       "      <th>source</th>\n",
       "      <th>paragraph-number</th>\n",
       "    </tr>\n",
       "  </thead>\n",
       "  <tbody>\n",
       "    <tr>\n",
       "      <td>0</td>\n",
       "      <td>Louis \"Studs\" Terkel (May 16, 1912 – October 3...</td>\n",
       "      <td>https://en.wikipedia.org/wiki/Studs_Terkel</td>\n",
       "      <td>0</td>\n",
       "    </tr>\n",
       "    <tr>\n",
       "      <td>1</td>\n",
       "      <td>Terkel was born to Russian Jewish immigrants, ...</td>\n",
       "      <td>https://en.wikipedia.org/wiki/Studs_Terkel</td>\n",
       "      <td>1</td>\n",
       "    </tr>\n",
       "    <tr>\n",
       "      <td>2</td>\n",
       "      <td>From 1926 to 1936, his parents ran a rooming h...</td>\n",
       "      <td>https://en.wikipedia.org/wiki/Studs_Terkel</td>\n",
       "      <td>2</td>\n",
       "    </tr>\n",
       "    <tr>\n",
       "      <td>3</td>\n",
       "      <td>A political leftist, Terkel joined the Works P...</td>\n",
       "      <td>https://en.wikipedia.org/wiki/Studs_Terkel</td>\n",
       "      <td>3</td>\n",
       "    </tr>\n",
       "    <tr>\n",
       "      <td>4</td>\n",
       "      <td>In the late 1940s and early 1950s, Terkel was ...</td>\n",
       "      <td>https://en.wikipedia.org/wiki/Studs_Terkel</td>\n",
       "      <td>4</td>\n",
       "    </tr>\n",
       "    <tr>\n",
       "      <td>5</td>\n",
       "      <td>Terkel published his first book, Giants of Jaz...</td>\n",
       "      <td>https://en.wikipedia.org/wiki/Studs_Terkel</td>\n",
       "      <td>5</td>\n",
       "    </tr>\n",
       "    <tr>\n",
       "      <td>6</td>\n",
       "      <td>He also served as a distinguished scholar-in-r...</td>\n",
       "      <td>https://en.wikipedia.org/wiki/Studs_Terkel</td>\n",
       "      <td>6</td>\n",
       "    </tr>\n",
       "    <tr>\n",
       "      <td>7</td>\n",
       "      <td>Terkel received his nickname while he was acti...</td>\n",
       "      <td>https://en.wikipedia.org/wiki/Studs_Terkel</td>\n",
       "      <td>7</td>\n",
       "    </tr>\n",
       "    <tr>\n",
       "      <td>8</td>\n",
       "      <td>Terkel was acclaimed for his efforts to preser...</td>\n",
       "      <td>https://en.wikipedia.org/wiki/Studs_Terkel</td>\n",
       "      <td>8</td>\n",
       "    </tr>\n",
       "    <tr>\n",
       "      <td>9</td>\n",
       "      <td>In 2004, Terkel received the Elijah Parish Lov...</td>\n",
       "      <td>https://en.wikipedia.org/wiki/Studs_Terkel</td>\n",
       "      <td>9</td>\n",
       "    </tr>\n",
       "    <tr>\n",
       "      <td>10</td>\n",
       "      <td>On May 22, 2006, Terkel, along with other plai...</td>\n",
       "      <td>https://en.wikipedia.org/wiki/Studs_Terkel</td>\n",
       "      <td>10</td>\n",
       "    </tr>\n",
       "    <tr>\n",
       "      <td>11</td>\n",
       "      <td>Having been blacklisted from working in televi...</td>\n",
       "      <td>https://en.wikipedia.org/wiki/Studs_Terkel</td>\n",
       "      <td>11</td>\n",
       "    </tr>\n",
       "    <tr>\n",
       "      <td>12</td>\n",
       "      <td>The lawsuit was dismissed by Judge Matthew F. ...</td>\n",
       "      <td>https://en.wikipedia.org/wiki/Studs_Terkel</td>\n",
       "      <td>12</td>\n",
       "    </tr>\n",
       "    <tr>\n",
       "      <td>13</td>\n",
       "      <td>In an interview in The Guardian celebrating hi...</td>\n",
       "      <td>https://en.wikipedia.org/wiki/Studs_Terkel</td>\n",
       "      <td>13</td>\n",
       "    </tr>\n",
       "    <tr>\n",
       "      <td>14</td>\n",
       "      <td>Terkel published a new personal memoir entitle...</td>\n",
       "      <td>https://en.wikipedia.org/wiki/Studs_Terkel</td>\n",
       "      <td>14</td>\n",
       "    </tr>\n",
       "    <tr>\n",
       "      <td>15</td>\n",
       "      <td>Terkel was a self-described agnostic, which he...</td>\n",
       "      <td>https://en.wikipedia.org/wiki/Studs_Terkel</td>\n",
       "      <td>15</td>\n",
       "    </tr>\n",
       "    <tr>\n",
       "      <td>16</td>\n",
       "      <td>One of his last interviews was for the documen...</td>\n",
       "      <td>https://en.wikipedia.org/wiki/Studs_Terkel</td>\n",
       "      <td>16</td>\n",
       "    </tr>\n",
       "    <tr>\n",
       "      <td>17</td>\n",
       "      <td>At his last public appearance, in 2007, Terkel...</td>\n",
       "      <td>https://en.wikipedia.org/wiki/Studs_Terkel</td>\n",
       "      <td>17</td>\n",
       "    </tr>\n",
       "    <tr>\n",
       "      <td>18</td>\n",
       "      <td>Terkel died in his Chicago home on Friday, Oct...</td>\n",
       "      <td>https://en.wikipedia.org/wiki/Studs_Terkel</td>\n",
       "      <td>18</td>\n",
       "    </tr>\n",
       "    <tr>\n",
       "      <td>19</td>\n",
       "      <td>In 1998, Terkel and WFMT, the radio station wh...</td>\n",
       "      <td>https://en.wikipedia.org/wiki/Studs_Terkel</td>\n",
       "      <td>19</td>\n",
       "    </tr>\n",
       "    <tr>\n",
       "      <td>20</td>\n",
       "      <td>In 2010, the Museum and the Library of Congres...</td>\n",
       "      <td>https://en.wikipedia.org/wiki/Studs_Terkel</td>\n",
       "      <td>20</td>\n",
       "    </tr>\n",
       "    <tr>\n",
       "      <td>21</td>\n",
       "      <td>In 2014 WFMT and the Chicago History Museum an...</td>\n",
       "      <td>https://en.wikipedia.org/wiki/Studs_Terkel</td>\n",
       "      <td>21</td>\n",
       "    </tr>\n",
       "    <tr>\n",
       "      <td>22</td>\n",
       "      <td>On Sept. 5, 2019, podcast The Radio Diaries, p...</td>\n",
       "      <td>https://en.wikipedia.org/wiki/Studs_Terkel</td>\n",
       "      <td>22</td>\n",
       "    </tr>\n",
       "    <tr>\n",
       "      <td>23</td>\n",
       "      <td>In 1982, Terkel was awarded an honorary Doctor...</td>\n",
       "      <td>https://en.wikipedia.org/wiki/Studs_Terkel</td>\n",
       "      <td>23</td>\n",
       "    </tr>\n",
       "    <tr>\n",
       "      <td>24</td>\n",
       "      <td>In 1985, Terkel received the Pulitzer Prize fo...</td>\n",
       "      <td>https://en.wikipedia.org/wiki/Studs_Terkel</td>\n",
       "      <td>24</td>\n",
       "    </tr>\n",
       "    <tr>\n",
       "      <td>25</td>\n",
       "      <td>President Clinton awarded Terkel the National ...</td>\n",
       "      <td>https://en.wikipedia.org/wiki/Studs_Terkel</td>\n",
       "      <td>25</td>\n",
       "    </tr>\n",
       "    <tr>\n",
       "      <td>26</td>\n",
       "      <td>The National Book Foundation awarded Terkel th...</td>\n",
       "      <td>https://en.wikipedia.org/wiki/Studs_Terkel</td>\n",
       "      <td>26</td>\n",
       "    </tr>\n",
       "    <tr>\n",
       "      <td>27</td>\n",
       "      <td>In 2001, Terkel was inducted into the Chicago ...</td>\n",
       "      <td>https://en.wikipedia.org/wiki/Studs_Terkel</td>\n",
       "      <td>27</td>\n",
       "    </tr>\n",
       "    <tr>\n",
       "      <td>28</td>\n",
       "      <td>In 2004, Terkel was inducted as a Laureate of ...</td>\n",
       "      <td>https://en.wikipedia.org/wiki/Studs_Terkel</td>\n",
       "      <td>28</td>\n",
       "    </tr>\n",
       "    <tr>\n",
       "      <td>29</td>\n",
       "      <td>In 2006, Terkel received the Lifetime Achievem...</td>\n",
       "      <td>https://en.wikipedia.org/wiki/Studs_Terkel</td>\n",
       "      <td>29</td>\n",
       "    </tr>\n",
       "    <tr>\n",
       "      <td>30</td>\n",
       "      <td>In 2010, Terkel was inducted into the Chicago ...</td>\n",
       "      <td>https://en.wikipedia.org/wiki/Studs_Terkel</td>\n",
       "      <td>30</td>\n",
       "    </tr>\n",
       "    <tr>\n",
       "      <td>31</td>\n",
       "      <td>Terkel was a recipient of a George Polk Career...</td>\n",
       "      <td>https://en.wikipedia.org/wiki/Studs_Terkel</td>\n",
       "      <td>31</td>\n",
       "    </tr>\n",
       "    <tr>\n",
       "      <td>32</td>\n",
       "      <td>Terkel, despite not being black, was inducted ...</td>\n",
       "      <td>https://en.wikipedia.org/wiki/Studs_Terkel</td>\n",
       "      <td>32</td>\n",
       "    </tr>\n",
       "    <tr>\n",
       "      <td>33</td>\n",
       "      <td>\\n</td>\n",
       "      <td>https://en.wikipedia.org/wiki/Studs_Terkel</td>\n",
       "      <td>33</td>\n",
       "    </tr>\n",
       "  </tbody>\n",
       "</table>\n",
       "</div>"
      ],
      "text/plain": [
       "                                       paragraph-text  \\\n",
       "0   Louis \"Studs\" Terkel (May 16, 1912 – October 3...   \n",
       "1   Terkel was born to Russian Jewish immigrants, ...   \n",
       "2   From 1926 to 1936, his parents ran a rooming h...   \n",
       "3   A political leftist, Terkel joined the Works P...   \n",
       "4   In the late 1940s and early 1950s, Terkel was ...   \n",
       "5   Terkel published his first book, Giants of Jaz...   \n",
       "6   He also served as a distinguished scholar-in-r...   \n",
       "7   Terkel received his nickname while he was acti...   \n",
       "8   Terkel was acclaimed for his efforts to preser...   \n",
       "9   In 2004, Terkel received the Elijah Parish Lov...   \n",
       "10  On May 22, 2006, Terkel, along with other plai...   \n",
       "11  Having been blacklisted from working in televi...   \n",
       "12  The lawsuit was dismissed by Judge Matthew F. ...   \n",
       "13  In an interview in The Guardian celebrating hi...   \n",
       "14  Terkel published a new personal memoir entitle...   \n",
       "15  Terkel was a self-described agnostic, which he...   \n",
       "16  One of his last interviews was for the documen...   \n",
       "17  At his last public appearance, in 2007, Terkel...   \n",
       "18  Terkel died in his Chicago home on Friday, Oct...   \n",
       "19  In 1998, Terkel and WFMT, the radio station wh...   \n",
       "20  In 2010, the Museum and the Library of Congres...   \n",
       "21  In 2014 WFMT and the Chicago History Museum an...   \n",
       "22  On Sept. 5, 2019, podcast The Radio Diaries, p...   \n",
       "23  In 1982, Terkel was awarded an honorary Doctor...   \n",
       "24  In 1985, Terkel received the Pulitzer Prize fo...   \n",
       "25  President Clinton awarded Terkel the National ...   \n",
       "26  The National Book Foundation awarded Terkel th...   \n",
       "27  In 2001, Terkel was inducted into the Chicago ...   \n",
       "28  In 2004, Terkel was inducted as a Laureate of ...   \n",
       "29  In 2006, Terkel received the Lifetime Achievem...   \n",
       "30  In 2010, Terkel was inducted into the Chicago ...   \n",
       "31  Terkel was a recipient of a George Polk Career...   \n",
       "32  Terkel, despite not being black, was inducted ...   \n",
       "33                                                 \\n   \n",
       "\n",
       "                                        source  paragraph-number  \n",
       "0   https://en.wikipedia.org/wiki/Studs_Terkel                 0  \n",
       "1   https://en.wikipedia.org/wiki/Studs_Terkel                 1  \n",
       "2   https://en.wikipedia.org/wiki/Studs_Terkel                 2  \n",
       "3   https://en.wikipedia.org/wiki/Studs_Terkel                 3  \n",
       "4   https://en.wikipedia.org/wiki/Studs_Terkel                 4  \n",
       "5   https://en.wikipedia.org/wiki/Studs_Terkel                 5  \n",
       "6   https://en.wikipedia.org/wiki/Studs_Terkel                 6  \n",
       "7   https://en.wikipedia.org/wiki/Studs_Terkel                 7  \n",
       "8   https://en.wikipedia.org/wiki/Studs_Terkel                 8  \n",
       "9   https://en.wikipedia.org/wiki/Studs_Terkel                 9  \n",
       "10  https://en.wikipedia.org/wiki/Studs_Terkel                10  \n",
       "11  https://en.wikipedia.org/wiki/Studs_Terkel                11  \n",
       "12  https://en.wikipedia.org/wiki/Studs_Terkel                12  \n",
       "13  https://en.wikipedia.org/wiki/Studs_Terkel                13  \n",
       "14  https://en.wikipedia.org/wiki/Studs_Terkel                14  \n",
       "15  https://en.wikipedia.org/wiki/Studs_Terkel                15  \n",
       "16  https://en.wikipedia.org/wiki/Studs_Terkel                16  \n",
       "17  https://en.wikipedia.org/wiki/Studs_Terkel                17  \n",
       "18  https://en.wikipedia.org/wiki/Studs_Terkel                18  \n",
       "19  https://en.wikipedia.org/wiki/Studs_Terkel                19  \n",
       "20  https://en.wikipedia.org/wiki/Studs_Terkel                20  \n",
       "21  https://en.wikipedia.org/wiki/Studs_Terkel                21  \n",
       "22  https://en.wikipedia.org/wiki/Studs_Terkel                22  \n",
       "23  https://en.wikipedia.org/wiki/Studs_Terkel                23  \n",
       "24  https://en.wikipedia.org/wiki/Studs_Terkel                24  \n",
       "25  https://en.wikipedia.org/wiki/Studs_Terkel                25  \n",
       "26  https://en.wikipedia.org/wiki/Studs_Terkel                26  \n",
       "27  https://en.wikipedia.org/wiki/Studs_Terkel                27  \n",
       "28  https://en.wikipedia.org/wiki/Studs_Terkel                28  \n",
       "29  https://en.wikipedia.org/wiki/Studs_Terkel                29  \n",
       "30  https://en.wikipedia.org/wiki/Studs_Terkel                30  \n",
       "31  https://en.wikipedia.org/wiki/Studs_Terkel                31  \n",
       "32  https://en.wikipedia.org/wiki/Studs_Terkel                32  \n",
       "33  https://en.wikipedia.org/wiki/Studs_Terkel                33  "
      ]
     },
     "execution_count": 62,
     "metadata": {},
     "output_type": "execute_result"
    }
   ],
   "source": [
    "contentParagraphsDF['source'] = [stdsterkel_wikipage] * len(contentParagraphsDF['paragraph-text'])\n",
    "contentParagraphsDF['paragraph-number'] = range(len(contentParagraphsDF['paragraph-text']))\n",
    "\n",
    "contentParagraphsDF"
   ]
  },
  {
   "cell_type": "markdown",
   "metadata": {},
   "source": [
    "Then we can add two more columns to our `Dataframe` and define a function to\n",
    "parse\n",
    "each linked page and add its text to our DataFrame."
   ]
  },
  {
   "cell_type": "code",
   "execution_count": 63,
   "metadata": {},
   "outputs": [],
   "source": [
    "contentParagraphsDF['source-paragraph-number'] = [None] * len(contentParagraphsDF['paragraph-text'])\n",
    "contentParagraphsDF['source-paragraph-text'] = [None] * len(contentParagraphsDF['paragraph-text'])\n",
    "\n",
    "def getTextFromWikiPage(targetURL, sourceParNum, sourceText):\n",
    "    #Make a dict to store data before adding it to the DataFrame\n",
    "    parsDict = {'source' : [], 'paragraph-number' : [], 'paragraph-text' : [], 'source-paragraph-number' : [],  'source-paragraph-text' : []}\n",
    "    #Now we get the page\n",
    "    r = requests.get(targetURL)\n",
    "    soup = bs4.BeautifulSoup(r.text, 'html.parser')\n",
    "    #enumerating gives use the paragraph number\n",
    "    for parNum, pTag in enumerate(soup.body.findAll('p')):\n",
    "        #same regex as before\n",
    "        parsDict['paragraph-text'].append(re.sub(r'\\[\\d+\\]', '', pTag.text))\n",
    "        parsDict['paragraph-number'].append(parNum)\n",
    "        parsDict['source'].append(targetURL)\n",
    "        parsDict['source-paragraph-number'].append(sourceParNum)\n",
    "        parsDict['source-paragraph-text'].append(sourceText)\n",
    "    return pandas.DataFrame(parsDict)"
   ]
  },
  {
   "cell_type": "markdown",
   "metadata": {},
   "source": [
    "And run it on our list of link tags"
   ]
  },
  {
   "cell_type": "code",
   "execution_count": 64,
   "metadata": {},
   "outputs": [
    {
     "data": {
      "text/html": [
       "<div>\n",
       "<style scoped>\n",
       "    .dataframe tbody tr th:only-of-type {\n",
       "        vertical-align: middle;\n",
       "    }\n",
       "\n",
       "    .dataframe tbody tr th {\n",
       "        vertical-align: top;\n",
       "    }\n",
       "\n",
       "    .dataframe thead th {\n",
       "        text-align: right;\n",
       "    }\n",
       "</style>\n",
       "<table border=\"1\" class=\"dataframe\">\n",
       "  <thead>\n",
       "    <tr style=\"text-align: right;\">\n",
       "      <th></th>\n",
       "      <th>paragraph-number</th>\n",
       "      <th>paragraph-text</th>\n",
       "      <th>source</th>\n",
       "      <th>source-paragraph-number</th>\n",
       "      <th>source-paragraph-text</th>\n",
       "    </tr>\n",
       "  </thead>\n",
       "  <tbody>\n",
       "    <tr>\n",
       "      <td>0</td>\n",
       "      <td>0</td>\n",
       "      <td>Louis \"Studs\" Terkel (May 16, 1912 – October 3...</td>\n",
       "      <td>https://en.wikipedia.org/wiki/Studs_Terkel</td>\n",
       "      <td>None</td>\n",
       "      <td>None</td>\n",
       "    </tr>\n",
       "    <tr>\n",
       "      <td>1</td>\n",
       "      <td>1</td>\n",
       "      <td>Terkel was born to Russian Jewish immigrants, ...</td>\n",
       "      <td>https://en.wikipedia.org/wiki/Studs_Terkel</td>\n",
       "      <td>None</td>\n",
       "      <td>None</td>\n",
       "    </tr>\n",
       "    <tr>\n",
       "      <td>2</td>\n",
       "      <td>2</td>\n",
       "      <td>From 1926 to 1936, his parents ran a rooming h...</td>\n",
       "      <td>https://en.wikipedia.org/wiki/Studs_Terkel</td>\n",
       "      <td>None</td>\n",
       "      <td>None</td>\n",
       "    </tr>\n",
       "    <tr>\n",
       "      <td>3</td>\n",
       "      <td>3</td>\n",
       "      <td>A political leftist, Terkel joined the Works P...</td>\n",
       "      <td>https://en.wikipedia.org/wiki/Studs_Terkel</td>\n",
       "      <td>None</td>\n",
       "      <td>None</td>\n",
       "    </tr>\n",
       "    <tr>\n",
       "      <td>4</td>\n",
       "      <td>4</td>\n",
       "      <td>In the late 1940s and early 1950s, Terkel was ...</td>\n",
       "      <td>https://en.wikipedia.org/wiki/Studs_Terkel</td>\n",
       "      <td>None</td>\n",
       "      <td>None</td>\n",
       "    </tr>\n",
       "    <tr>\n",
       "      <td>...</td>\n",
       "      <td>...</td>\n",
       "      <td>...</td>\n",
       "      <td>...</td>\n",
       "      <td>...</td>\n",
       "      <td>...</td>\n",
       "    </tr>\n",
       "    <tr>\n",
       "      <td>234</td>\n",
       "      <td>142</td>\n",
       "      <td>Notable Russian Jews in Germany include Valery...</td>\n",
       "      <td>https://en.wikipedia.org/wiki/History_of_the_J...</td>\n",
       "      <td>1</td>\n",
       "      <td>Russian Jewish</td>\n",
       "    </tr>\n",
       "    <tr>\n",
       "      <td>235</td>\n",
       "      <td>143</td>\n",
       "      <td>The fifth largest Russian Jewish community is ...</td>\n",
       "      <td>https://en.wikipedia.org/wiki/History_of_the_J...</td>\n",
       "      <td>1</td>\n",
       "      <td>Russian Jewish</td>\n",
       "    </tr>\n",
       "    <tr>\n",
       "      <td>236</td>\n",
       "      <td>144</td>\n",
       "      <td>Jews from the former Soviet Union settled in A...</td>\n",
       "      <td>https://en.wikipedia.org/wiki/History_of_the_J...</td>\n",
       "      <td>1</td>\n",
       "      <td>Russian Jewish</td>\n",
       "    </tr>\n",
       "    <tr>\n",
       "      <td>237</td>\n",
       "      <td>145</td>\n",
       "      <td>Hundreds of Russian Jews have moved to Finland...</td>\n",
       "      <td>https://en.wikipedia.org/wiki/History_of_the_J...</td>\n",
       "      <td>1</td>\n",
       "      <td>Russian Jewish</td>\n",
       "    </tr>\n",
       "    <tr>\n",
       "      <td>238</td>\n",
       "      <td>146</td>\n",
       "      <td>Austria, Belgium, Britain, Italy, Netherlands,...</td>\n",
       "      <td>https://en.wikipedia.org/wiki/History_of_the_J...</td>\n",
       "      <td>1</td>\n",
       "      <td>Russian Jewish</td>\n",
       "    </tr>\n",
       "  </tbody>\n",
       "</table>\n",
       "<p>239 rows × 5 columns</p>\n",
       "</div>"
      ],
      "text/plain": [
       "     paragraph-number                                     paragraph-text  \\\n",
       "0                   0  Louis \"Studs\" Terkel (May 16, 1912 – October 3...   \n",
       "1                   1  Terkel was born to Russian Jewish immigrants, ...   \n",
       "2                   2  From 1926 to 1936, his parents ran a rooming h...   \n",
       "3                   3  A political leftist, Terkel joined the Works P...   \n",
       "4                   4  In the late 1940s and early 1950s, Terkel was ...   \n",
       "..                ...                                                ...   \n",
       "234               142  Notable Russian Jews in Germany include Valery...   \n",
       "235               143  The fifth largest Russian Jewish community is ...   \n",
       "236               144  Jews from the former Soviet Union settled in A...   \n",
       "237               145  Hundreds of Russian Jews have moved to Finland...   \n",
       "238               146  Austria, Belgium, Britain, Italy, Netherlands,...   \n",
       "\n",
       "                                                source  \\\n",
       "0           https://en.wikipedia.org/wiki/Studs_Terkel   \n",
       "1           https://en.wikipedia.org/wiki/Studs_Terkel   \n",
       "2           https://en.wikipedia.org/wiki/Studs_Terkel   \n",
       "3           https://en.wikipedia.org/wiki/Studs_Terkel   \n",
       "4           https://en.wikipedia.org/wiki/Studs_Terkel   \n",
       "..                                                 ...   \n",
       "234  https://en.wikipedia.org/wiki/History_of_the_J...   \n",
       "235  https://en.wikipedia.org/wiki/History_of_the_J...   \n",
       "236  https://en.wikipedia.org/wiki/History_of_the_J...   \n",
       "237  https://en.wikipedia.org/wiki/History_of_the_J...   \n",
       "238  https://en.wikipedia.org/wiki/History_of_the_J...   \n",
       "\n",
       "    source-paragraph-number source-paragraph-text  \n",
       "0                      None                  None  \n",
       "1                      None                  None  \n",
       "2                      None                  None  \n",
       "3                      None                  None  \n",
       "4                      None                  None  \n",
       "..                      ...                   ...  \n",
       "234                       1        Russian Jewish  \n",
       "235                       1        Russian Jewish  \n",
       "236                       1        Russian Jewish  \n",
       "237                       1        Russian Jewish  \n",
       "238                       1        Russian Jewish  \n",
       "\n",
       "[239 rows x 5 columns]"
      ]
     },
     "execution_count": 64,
     "metadata": {},
     "output_type": "execute_result"
    }
   ],
   "source": [
    "for urlTuple in otherPAgeURLS[:3]:\n",
    "    #ignore_index means the indices will not be reset after each append\n",
    "    contentParagraphsDF = contentParagraphsDF.append(getTextFromWikiPage(*urlTuple),ignore_index=True)\n",
    "contentParagraphsDF"
   ]
  },
  {
   "cell_type": "code",
   "execution_count": null,
   "metadata": {},
   "outputs": [],
   "source": []
  },
  {
   "cell_type": "markdown",
   "metadata": {},
   "source": [
    "\n",
    "# <span style=\"color:red\">Section 2</span>\n",
    "<span style=\"color:red\">Construct cells immediately below this that spider webcontent from another site with content relating to your anticipated final project. Specifically, identify urls on a core page, then follow and extract content from them into a pandas `Dataframe`. In addition, demonstrate a *recursive* spider, which follows more than one level of links (i.e., follows links from a site, then follows links on followed sites to new sites, etc.), making sure to define a reasonable endpoint so that you do not wander the web forever :-).</span>\n",
    "\n"
   ]
  },
  {
   "cell_type": "code",
   "execution_count": 196,
   "metadata": {},
   "outputs": [
    {
     "name": "stdout",
     "output_type": "stream",
     "text": [
      "[('https://en.wikipedia.org/wiki/The_Good_War', 0, 'The Good War'), ('https://en.wikipedia.org/wiki/Oral_history', 0, 'oral histories'), ('https://en.wikipedia.org/wiki/History_of_the_Jews_in_Russia', 1, 'Russian Jewish'), ('https://en.wikipedia.org/wiki/Illinois', 1, 'Illinois'), ('https://en.wikipedia.org/wiki/McKinley_High_School_(Chicago)', 1, 'McKinley High School'), ('https://en.wikipedia.org/wiki/Rooming_house', 2, 'rooming house'), ('https://en.wikipedia.org/wiki/Juris_Doctor', 2, 'J.D.'), ('https://en.wikipedia.org/wiki/University_of_Chicago', 2, 'University of Chicago'), ('https://en.wikipedia.org/wiki/Concierge', 2, 'concierge'), ('https://en.wikipedia.org/wiki/Left-wing_politics', 3, 'leftist')]\n"
     ]
    }
   ],
   "source": [
    "#I do this for Studs Terkel \n",
    "\n",
    "wikipedia_base_url = 'https://en.wikipedia.org'\n",
    "\n",
    "otherPAgeURLS = []\n",
    "#We also want to know where the links come from so we also will get:\n",
    "#the paragraph number\n",
    "#the word the link is in\n",
    "for paragraphNum, pTag in enumerate(contentPTags):\n",
    "    #we only want hrefs that link to wiki pages\n",
    "    tagLinks = pTag.findAll('a', href=re.compile('/wiki/'), class_=False)\n",
    "    for aTag in tagLinks:\n",
    "        #We need to extract the url from the <a> tag\n",
    "        relurl = aTag.get('href')\n",
    "        linkText = aTag.text\n",
    "        #wikipedia_base_url is the base we can use the urllib joining function to merge them\n",
    "        #Giving a nice structured tupe like this means we can use tuple expansion later\n",
    "        otherPAgeURLS.append((\n",
    "            urllib.parse.urljoin(wikipedia_base_url, relurl),\n",
    "            paragraphNum,\n",
    "            linkText,\n",
    "        ))\n",
    "print(otherPAgeURLS[:10])\n",
    "\n"
   ]
  },
  {
   "cell_type": "code",
   "execution_count": null,
   "metadata": {},
   "outputs": [],
   "source": [
    "contentParagraphsDF['source'] = [stdsterkel_wikipage] * len(contentParagraphsDF['paragraph-text'])\n",
    "contentParagraphsDF['paragraph-number'] = range(len(contentParagraphsDF['paragraph-text']))\n",
    "\n",
    "contentParagraphsDF"
   ]
  },
  {
   "cell_type": "code",
   "execution_count": null,
   "metadata": {},
   "outputs": [],
   "source": [
    "contentParagraphsDF['source-paragraph-number'] = [None] * len(contentParagraphsDF['paragraph-text'])\n",
    "contentParagraphsDF['source-paragraph-text'] = [None] * len(contentParagraphsDF['paragraph-text'])\n",
    "\n",
    "def getTextFromWikiPage(targetURL, sourceParNum, sourceText):\n",
    "    #Make a dict to store data before adding it to the DataFrame\n",
    "    parsDict = {'source' : [], 'paragraph-number' : [], 'paragraph-text' : [], 'source-paragraph-number' : [],  'source-paragraph-text' : []}\n",
    "    #Now we get the page\n",
    "    r = requests.get(targetURL)\n",
    "    soup = bs4.BeautifulSoup(r.text, 'html.parser')\n",
    "    #enumerating gives use the paragraph number\n",
    "    for parNum, pTag in enumerate(soup.body.findAll('p')):\n",
    "        #same regex as before\n",
    "        parsDict['paragraph-text'].append(re.sub(r'\\[\\d+\\]', '', pTag.text))\n",
    "        parsDict['paragraph-number'].append(parNum)\n",
    "        parsDict['source'].append(targetURL)\n",
    "        parsDict['source-paragraph-number'].append(sourceParNum)\n",
    "        parsDict['source-paragraph-text'].append(sourceText)\n",
    "    return pandas.DataFrame(parsDict)"
   ]
  },
  {
   "cell_type": "code",
   "execution_count": 79,
   "metadata": {},
   "outputs": [
    {
     "data": {
      "text/html": [
       "<div>\n",
       "<style scoped>\n",
       "    .dataframe tbody tr th:only-of-type {\n",
       "        vertical-align: middle;\n",
       "    }\n",
       "\n",
       "    .dataframe tbody tr th {\n",
       "        vertical-align: top;\n",
       "    }\n",
       "\n",
       "    .dataframe thead th {\n",
       "        text-align: right;\n",
       "    }\n",
       "</style>\n",
       "<table border=\"1\" class=\"dataframe\">\n",
       "  <thead>\n",
       "    <tr style=\"text-align: right;\">\n",
       "      <th></th>\n",
       "      <th>paragraph-number</th>\n",
       "      <th>paragraph-text</th>\n",
       "      <th>source</th>\n",
       "      <th>source-paragraph-number</th>\n",
       "      <th>source-paragraph-text</th>\n",
       "    </tr>\n",
       "  </thead>\n",
       "  <tbody>\n",
       "    <tr>\n",
       "      <td>0</td>\n",
       "      <td>0</td>\n",
       "      <td>Louis \"Studs\" Terkel (May 16, 1912 – October 3...</td>\n",
       "      <td>https://en.wikipedia.org/wiki/Studs_Terkel</td>\n",
       "      <td>None</td>\n",
       "      <td>None</td>\n",
       "    </tr>\n",
       "    <tr>\n",
       "      <td>1</td>\n",
       "      <td>1</td>\n",
       "      <td>Terkel was born to Russian Jewish immigrants, ...</td>\n",
       "      <td>https://en.wikipedia.org/wiki/Studs_Terkel</td>\n",
       "      <td>None</td>\n",
       "      <td>None</td>\n",
       "    </tr>\n",
       "    <tr>\n",
       "      <td>2</td>\n",
       "      <td>2</td>\n",
       "      <td>From 1926 to 1936, his parents ran a rooming h...</td>\n",
       "      <td>https://en.wikipedia.org/wiki/Studs_Terkel</td>\n",
       "      <td>None</td>\n",
       "      <td>None</td>\n",
       "    </tr>\n",
       "    <tr>\n",
       "      <td>3</td>\n",
       "      <td>3</td>\n",
       "      <td>A political leftist, Terkel joined the Works P...</td>\n",
       "      <td>https://en.wikipedia.org/wiki/Studs_Terkel</td>\n",
       "      <td>None</td>\n",
       "      <td>None</td>\n",
       "    </tr>\n",
       "    <tr>\n",
       "      <td>4</td>\n",
       "      <td>4</td>\n",
       "      <td>In the late 1940s and early 1950s, Terkel was ...</td>\n",
       "      <td>https://en.wikipedia.org/wiki/Studs_Terkel</td>\n",
       "      <td>None</td>\n",
       "      <td>None</td>\n",
       "    </tr>\n",
       "    <tr>\n",
       "      <td>...</td>\n",
       "      <td>...</td>\n",
       "      <td>...</td>\n",
       "      <td>...</td>\n",
       "      <td>...</td>\n",
       "      <td>...</td>\n",
       "    </tr>\n",
       "    <tr>\n",
       "      <td>439</td>\n",
       "      <td>142</td>\n",
       "      <td>Notable Russian Jews in Germany include Valery...</td>\n",
       "      <td>https://en.wikipedia.org/wiki/History_of_the_J...</td>\n",
       "      <td>1</td>\n",
       "      <td>Russian Jewish</td>\n",
       "    </tr>\n",
       "    <tr>\n",
       "      <td>440</td>\n",
       "      <td>143</td>\n",
       "      <td>The fifth largest Russian Jewish community is ...</td>\n",
       "      <td>https://en.wikipedia.org/wiki/History_of_the_J...</td>\n",
       "      <td>1</td>\n",
       "      <td>Russian Jewish</td>\n",
       "    </tr>\n",
       "    <tr>\n",
       "      <td>441</td>\n",
       "      <td>144</td>\n",
       "      <td>Jews from the former Soviet Union settled in A...</td>\n",
       "      <td>https://en.wikipedia.org/wiki/History_of_the_J...</td>\n",
       "      <td>1</td>\n",
       "      <td>Russian Jewish</td>\n",
       "    </tr>\n",
       "    <tr>\n",
       "      <td>442</td>\n",
       "      <td>145</td>\n",
       "      <td>Hundreds of Russian Jews have moved to Finland...</td>\n",
       "      <td>https://en.wikipedia.org/wiki/History_of_the_J...</td>\n",
       "      <td>1</td>\n",
       "      <td>Russian Jewish</td>\n",
       "    </tr>\n",
       "    <tr>\n",
       "      <td>443</td>\n",
       "      <td>146</td>\n",
       "      <td>Austria, Belgium, Britain, Italy, Netherlands,...</td>\n",
       "      <td>https://en.wikipedia.org/wiki/History_of_the_J...</td>\n",
       "      <td>1</td>\n",
       "      <td>Russian Jewish</td>\n",
       "    </tr>\n",
       "  </tbody>\n",
       "</table>\n",
       "<p>444 rows × 5 columns</p>\n",
       "</div>"
      ],
      "text/plain": [
       "     paragraph-number                                     paragraph-text  \\\n",
       "0                   0  Louis \"Studs\" Terkel (May 16, 1912 – October 3...   \n",
       "1                   1  Terkel was born to Russian Jewish immigrants, ...   \n",
       "2                   2  From 1926 to 1936, his parents ran a rooming h...   \n",
       "3                   3  A political leftist, Terkel joined the Works P...   \n",
       "4                   4  In the late 1940s and early 1950s, Terkel was ...   \n",
       "..                ...                                                ...   \n",
       "439               142  Notable Russian Jews in Germany include Valery...   \n",
       "440               143  The fifth largest Russian Jewish community is ...   \n",
       "441               144  Jews from the former Soviet Union settled in A...   \n",
       "442               145  Hundreds of Russian Jews have moved to Finland...   \n",
       "443               146  Austria, Belgium, Britain, Italy, Netherlands,...   \n",
       "\n",
       "                                                source  \\\n",
       "0           https://en.wikipedia.org/wiki/Studs_Terkel   \n",
       "1           https://en.wikipedia.org/wiki/Studs_Terkel   \n",
       "2           https://en.wikipedia.org/wiki/Studs_Terkel   \n",
       "3           https://en.wikipedia.org/wiki/Studs_Terkel   \n",
       "4           https://en.wikipedia.org/wiki/Studs_Terkel   \n",
       "..                                                 ...   \n",
       "439  https://en.wikipedia.org/wiki/History_of_the_J...   \n",
       "440  https://en.wikipedia.org/wiki/History_of_the_J...   \n",
       "441  https://en.wikipedia.org/wiki/History_of_the_J...   \n",
       "442  https://en.wikipedia.org/wiki/History_of_the_J...   \n",
       "443  https://en.wikipedia.org/wiki/History_of_the_J...   \n",
       "\n",
       "    source-paragraph-number source-paragraph-text  \n",
       "0                      None                  None  \n",
       "1                      None                  None  \n",
       "2                      None                  None  \n",
       "3                      None                  None  \n",
       "4                      None                  None  \n",
       "..                      ...                   ...  \n",
       "439                       1        Russian Jewish  \n",
       "440                       1        Russian Jewish  \n",
       "441                       1        Russian Jewish  \n",
       "442                       1        Russian Jewish  \n",
       "443                       1        Russian Jewish  \n",
       "\n",
       "[444 rows x 5 columns]"
      ]
     },
     "execution_count": 79,
     "metadata": {},
     "output_type": "execute_result"
    }
   ],
   "source": [
    "for urlTuple in otherPAgeURLS[:3]:\n",
    "    #ignore_index means the indices will not be reset after each append\n",
    "    contentParagraphsDF = contentParagraphsDF.append(getTextFromWikiPage(*urlTuple),ignore_index=True)\n",
    "contentParagraphsDF"
   ]
  },
  {
   "cell_type": "code",
   "execution_count": 199,
   "metadata": {},
   "outputs": [
    {
     "name": "stdout",
     "output_type": "stream",
     "text": [
      "https://en.wikipedia.org/wiki/The_Good_War\n",
      "https://en.wikipedia.org/wiki/Oral_history\n",
      "https://en.wikipedia.org/wiki/History_of_the_Jews_in_Russia\n",
      "https://en.wikipedia.org/wiki/Illinois\n",
      "https://en.wikipedia.org/wiki/McKinley_High_School_(Chicago)\n",
      "https://en.wikipedia.org/wiki/Rooming_house\n",
      "https://en.wikipedia.org/wiki/Juris_Doctor\n",
      "https://en.wikipedia.org/wiki/University_of_Chicago\n",
      "https://en.wikipedia.org/wiki/Concierge\n",
      "https://en.wikipedia.org/wiki/Left-wing_politics\n",
      "https://en.wikipedia.org/wiki/Works_Progress_Administration\n",
      "https://en.wikipedia.org/wiki/Federal_Writers%27_Project\n",
      "https://en.wikipedia.org/wiki/Radio_broadcasting\n",
      "https://en.wikipedia.org/wiki/Soap_opera\n",
      "https://en.wikipedia.org/wiki/Broadcast_journalism\n",
      "https://en.wikipedia.org/wiki/Music\n",
      "https://en.wikipedia.org/wiki/WFMT\n",
      "https://en.wikipedia.org/wiki/Leonard_Bernstein\n",
      "https://en.wikipedia.org/wiki/Mort_Sahl\n",
      "https://en.wikipedia.org/wiki/Bob_Dylan\n",
      "https://en.wikipedia.org/wiki/Alexander_Frey\n",
      "https://en.wikipedia.org/wiki/Dorothy_Parker\n",
      "https://en.wikipedia.org/wiki/Tennessee_Williams\n",
      "https://en.wikipedia.org/wiki/Jean_Shepherd\n",
      "https://en.wikipedia.org/wiki/Big_Bill_Broonzy\n",
      "https://en.wikipedia.org/wiki/Greasy_spoon\n",
      "https://en.wikipedia.org/wiki/Marlin_Perkins\n",
      "https://en.wikipedia.org/wiki/Zoo_Parade\n",
      "https://en.wikipedia.org/wiki/Garroway_at_Large\n",
      "https://en.wikipedia.org/wiki/Oral_history\n",
      "https://en.wikipedia.org/wiki/Chicago_History_Museum\n",
      "https://en.wikipedia.org/wiki/Eight_Men_Out\n",
      "https://en.wikipedia.org/wiki/Black_Sox_Scandal\n",
      "https://en.wikipedia.org/wiki/Hugh_Fullerton\n",
      "https://en.wikipedia.org/wiki/1919_World_Series\n",
      "https://en.wikipedia.org/wiki/Chicago_White_Sox\n",
      "https://en.wikipedia.org/wiki/2005_World_Series\n",
      "https://en.wikipedia.org/wiki/Nickname\n",
      "https://en.wikipedia.org/wiki/Studs_Lonigan\n",
      "https://en.wikipedia.org/wiki/James_T._Farrell\n",
      "https://en.wikipedia.org/wiki/Oral_history\n",
      "https://en.wikipedia.org/wiki/The_Good_War\n",
      "https://en.wikipedia.org/wiki/Pulitzer_Prize\n",
      "https://en.wikipedia.org/wiki/Hard_Times:_An_Oral_History_of_the_Great_Depression\n",
      "https://en.wikipedia.org/wiki/Great_Depression\n",
      "https://en.wikipedia.org/wiki/Okie\n",
      "https://en.wikipedia.org/wiki/Working_(Terkel_book)\n",
      "https://en.wikipedia.org/wiki/Working_(musical)\n",
      "https://en.wikipedia.org/wiki/PBS\n",
      "https://en.wikipedia.org/wiki/Chicago_History_Museum\n",
      "https://en.wikipedia.org/wiki/George_Polk_Awards\n",
      "https://en.wikipedia.org/wiki/Elijah_Parish_Lovejoy_Award\n",
      "https://en.wikipedia.org/wiki/Colby_College\n",
      "https://en.wikipedia.org/wiki/Quentin_Young\n",
      "https://en.wikipedia.org/wiki/National_Security_Agency\n",
      "https://en.wikipedia.org/wiki/State_secrets_privilege\n",
      "https://en.wikipedia.org/wiki/The_Guardian\n",
      "https://en.wikipedia.org/wiki/Bob_Dylan\n",
      "https://en.wikipedia.org/wiki/Alexander_Frey\n",
      "https://en.wikipedia.org/wiki/Louis_Armstrong\n",
      "https://en.wikipedia.org/wiki/Woody_Guthrie\n",
      "https://en.wikipedia.org/wiki/Agnosticism\n",
      "https://en.wikipedia.org/wiki/Krista_Tippett\n",
      "https://en.wikipedia.org/wiki/American_Public_Media\n",
      "https://en.wikipedia.org/wiki/Smithsonian_Channel\n",
      "https://en.wikipedia.org/wiki/Works_Progress_Administration\n",
      "https://en.wikipedia.org/wiki/BBC\n",
      "https://en.wikipedia.org/wiki/Barack_Obama\n",
      "https://en.wikipedia.org/wiki/Chicago_History_Museum\n",
      "https://en.wikipedia.org/wiki/Chicago_History_Museum\n",
      "https://en.wikipedia.org/wiki/Radiotopia\n",
      "https://en.wikipedia.org/wiki/University_of_Illinois_at_Chicago\n",
      "https://en.wikipedia.org/wiki/The_Good_War\n",
      "https://en.wikipedia.org/wiki/National_Humanities_Medal\n",
      "https://en.wikipedia.org/wiki/National_Book_Foundation\n",
      "https://en.wikipedia.org/wiki/The_Lincoln_Academy_of_Illinois\n",
      "https://en.wikipedia.org/wiki/National_Book_Critics_Circle\n"
     ]
    }
   ],
   "source": [
    "for item in otherPAgeURLS:\n",
    "    url = (item[0])\n",
    "    newContentRequest = requests.get(url)\n",
    "    wikiContentSoup = bs4.BeautifulSoup(newContentRequest.text, 'html.parser')\n",
    "\n",
    "#below, it shows all the links that the program has found on the Studsterkel_Wikipage"
   ]
  },
  {
   "cell_type": "code",
   "execution_count": 237,
   "metadata": {},
   "outputs": [],
   "source": [
    "#Now, I construct a recursive spider\n",
    "#I create a function that requests my start-wikipage, applies BeautifulSoup, finds all <p>tags and builds a list for the URLs\n",
    "#the function will search in all paragraphs for <a>tags and combine them with the base URL\n",
    "\n",
    "def get_pageURLs(start_wikiURL):\n",
    "    fun_start_wikiContentRequest = requests.get(start_wikiURL)\n",
    "    fun_start_wikiContentSoup = bs4.BeautifulSoup(fun_start_wikiContentRequest.text, 'html.parser')\n",
    "    fun_start_contentPTags = fun_start_wikiContentSoup.body.findAll('p')\n",
    "    fun_otherPageURLs = []   \n",
    "       for pTag in fun_start_contentPTags:\n",
    "        tagLinks = pTag.findAll('a', href=re.compile('/wiki/'), class_=False)\n",
    "        \n",
    "        for aTag in tagLinks:\n",
    "            relurl = aTag.get('href')\n",
    "            fun_otherPageURLs.append(urllib.parse.urljoin(wikipedia_base_url, relurl))\n",
    "    return fun_otherPageURLs"
   ]
  },
  {
   "cell_type": "code",
   "execution_count": 240,
   "metadata": {},
   "outputs": [],
   "source": [
    "#Now, I create a loop that appies the function\n",
    "#in the first round, i=0, the program will find all pagerURLS from the stdsterkel_wikipage\n",
    "#in the second round, i≠0, the program will find every URL from every link that was previously found\n",
    "#I'm then collecting all links from the steps in a single list \n",
    "\n",
    "def rec_spider(start_wikiURL, stop_level):\n",
    "    final_otherPageURLs = []\n",
    "    \n",
    "    for i in range(stop_level):\n",
    "        if i == 0:\n",
    "            final_otherPageURLs = get_pageURLs(start_wikiURL)\n",
    "        else:\n",
    "            i_otherPageURLs = [get_pageURLs(x) for x in final_otherPageURLs]\n",
    "            flat_i_otherPageURLs = [item for sublist in i_otherPageURLs for item in sublist]\n",
    "            final_otherPageURLs = list(set(final_otherPageURLs) | set(flat_i_otherPageURLs))\n",
    "        \n",
    "    return final_otherPageURLs"
   ]
  },
  {
   "cell_type": "code",
   "execution_count": 243,
   "metadata": {},
   "outputs": [
    {
     "data": {
      "text/plain": [
       "7559"
      ]
     },
     "execution_count": 243,
     "metadata": {},
     "output_type": "execute_result"
    }
   ],
   "source": [
    "#I'm now applying the spider for the stdsterkel_wikipage for two rounds\n",
    "\n",
    "studsterkel_reclist = rec_spider(stdsterkel_wikipage,2)\n",
    "len(studsterkel_reclist)\n",
    "\n",
    "#my result is that all in all there are 7559 links in the stdsterkel_wikipage and all the pages that are linked to the page"
   ]
  },
  {
   "cell_type": "markdown",
   "metadata": {},
   "source": [
    "## API (Tumblr)\n",
    "\n",
    "Generally website owners do not like you scraping their sites. If done badly,\n",
    "scarping can act like a DOS attack so you should be careful how often you make\n",
    "calls to a site. Some sites want automated tools to access their data, so they\n",
    "create [application programming interface\n",
    "(APIs)](https://en.wikipedia.org/wiki/Application_programming_interface). An API\n",
    "specifies a procedure for an application (or script) to access their data. Often\n",
    "this is though a [representational state transfer\n",
    "(REST)](https://en.wikipedia.org/wiki/Representational_state_transfer) web\n",
    "service, which just means if you make correctly formatted HTTP requests they\n",
    "will return nicely formatted data.\n",
    "\n",
    "A nice example for us to study is [Tumblr](https://www.tumblr.com), they have a\n",
    "[simple RESTful API](https://www.tumblr.com/docs/en/api/v1) that allows you to\n",
    "read posts without any complicated html parsing.\n",
    "\n",
    "We can get the first 20 posts from a blog by making an http GET request to\n",
    "`'http://{blog}.tumblr.com/api/read/json'`, were `{blog}` is the name of the\n",
    "target blog. Lets try and get the posts from [http://lolcats-lol-\n",
    "cat.tumblr.com/](http://lolcats-lol-cat.tumblr.com/) (Note the blog says at the\n",
    "top 'One hour one pic lolcats', but the canonical name that Tumblr uses is in\n",
    "the URL 'lolcats-lol-cat')."
   ]
  },
  {
   "cell_type": "code",
   "execution_count": null,
   "metadata": {},
   "outputs": [],
   "source": [
    "tumblrAPItarget = 'http://{}.tumblr.com/api/read/json'\n",
    "\n",
    "r = requests.get(tumblrAPItarget.format('lolcats-lol-cat'))\n",
    "\n",
    "print(r.text[:1000])"
   ]
  },
  {
   "cell_type": "markdown",
   "metadata": {},
   "source": [
    "This might not look very good on first inspection, but it has far fewer angle\n",
    "braces than html, which makes it easier to parse. What we have is\n",
    "[JSON](https://en.wikipedia.org/wiki/JSON) a 'human readable' text based data\n",
    "transmission format based on javascript. Luckily, we can readily convert it to a\n",
    "python `dict`."
   ]
  },
  {
   "cell_type": "code",
   "execution_count": null,
   "metadata": {},
   "outputs": [],
   "source": [
    "#We need to load only the stuff between the curly braces\n",
    "d = json.loads(r.text[len('var tumblr_api_read = '):-2])\n",
    "print(d.keys())\n",
    "print(len(d['posts']))"
   ]
  },
  {
   "cell_type": "markdown",
   "metadata": {},
   "source": [
    "If we read the [API specification](https://www.tumblr.com/docs/en/api/v1), we\n",
    "will see there are a lot of things we can get if we add things to our GET\n",
    "request. First we can retrieve posts by their id number. Let's first get post\n",
    "`146020177084`."
   ]
  },
  {
   "cell_type": "code",
   "execution_count": null,
   "metadata": {},
   "outputs": [],
   "source": [
    "r = requests.get(tumblrAPItarget.format('lolcats-lol-cat'), params = {'id' : 146020177084})\n",
    "d = json.loads(r.text[len('var tumblr_api_read = '):-2])\n",
    "d['posts'][0].keys()\n",
    "d['posts'][0]['photo-url-1280']\n",
    "\n",
    "with open('lolcat.gif', 'wb') as f:\n",
    "    gifRequest = requests.get(d['posts'][0]['photo-url-1280'], stream = True)\n",
    "    f.write(gifRequest.content)"
   ]
  },
  {
   "cell_type": "markdown",
   "metadata": {},
   "source": [
    "<img src='lolcat.gif'>\n",
    "\n",
    "Such beauty; such vigor (If you can't see it you have to refresh the page). Now\n",
    "we could retrieve the text from all posts as well\n",
    "as related metadata, like the post date, caption or tags. We could also get\n",
    "links to all the images."
   ]
  },
  {
   "cell_type": "code",
   "execution_count": null,
   "metadata": {},
   "outputs": [],
   "source": [
    "#Putting a max in case the blog has millions of images\n",
    "#The given max will be rounded up to the nearest multiple of 50\n",
    "def tumblrImageScrape(blogName, maxImages = 200):\n",
    "    #Restating this here so the function isn't dependent on any external variables\n",
    "    tumblrAPItarget = 'http://{}.tumblr.com/api/read/json'\n",
    "\n",
    "    #There are a bunch of possible locations for the photo url\n",
    "    possiblePhotoSuffixes = [1280, 500, 400, 250, 100]\n",
    "\n",
    "    #These are the pieces of information we will be gathering,\n",
    "    #at the end we will convert this to a DataFrame.\n",
    "    #There are a few other datums we could gather like the captions\n",
    "    #you can read the Tumblr documentation to learn how to get them\n",
    "    #https://www.tumblr.com/docs/en/api/v1\n",
    "    postsData = {\n",
    "        'id' : [],\n",
    "        'photo-url' : [],\n",
    "        'date' : [],\n",
    "        'tags' : [],\n",
    "        'photo-type' : []\n",
    "    }\n",
    "\n",
    "    #Tumblr limits us to a max of 50 posts per request\n",
    "    for requestNum in range(maxImages // 50):\n",
    "        requestParams = {\n",
    "            'start' : requestNum * 50,\n",
    "            'num' : 50,\n",
    "            'type' : 'photo'\n",
    "        }\n",
    "        r = requests.get(tumblrAPItarget.format(blogName), params = requestParams)\n",
    "        requestDict = json.loads(r.text[len('var tumblr_api_read = '):-2])\n",
    "        for postDict in requestDict['posts']:\n",
    "            #We are dealing with uncleaned data, we can't trust it.\n",
    "            #Specifically, not all posts are guaranteed to have the fields we want\n",
    "            try:\n",
    "                postsData['id'].append(postDict['id'])\n",
    "                postsData['date'].append(postDict['date'])\n",
    "                postsData['tags'].append(postDict['tags'])\n",
    "            except KeyError as e:\n",
    "                raise KeyError(\"Post {} from {} is missing: {}\".format(postDict['id'], blogName, e))\n",
    "\n",
    "            foundSuffix = False\n",
    "            for suffix in possiblePhotoSuffixes:\n",
    "                try:\n",
    "                    photoURL = postDict['photo-url-{}'.format(suffix)]\n",
    "                    postsData['photo-url'].append(photoURL)\n",
    "                    postsData['photo-type'].append(photoURL.split('.')[-1])\n",
    "                    foundSuffix = True\n",
    "                    break\n",
    "                except KeyError:\n",
    "                    pass\n",
    "            if not foundSuffix:\n",
    "                #Make sure your error messages are useful\n",
    "                #You will be one of the users\n",
    "                raise KeyError(\"Post {} from {} is missing a photo url\".format(postDict['id'], blogName))\n",
    "\n",
    "    return pandas.DataFrame(postsData)\n",
    "tumblrImageScrape('lolcats-lol-cat', 50)"
   ]
  },
  {
   "cell_type": "markdown",
   "metadata": {},
   "source": [
    "Now we have the urls of a bunch of images and can run OCR on them to gather\n",
    "compelling meme narratives, accompanied by cats.\n",
    "\n",
    "# Files\n",
    "\n",
    "What if the text we want isn't on a webpage? There are a many other sources of\n",
    "text available, typically organized into *files*.\n",
    "\n",
    "## Raw text (and encoding)\n",
    "\n",
    "The most basic form of storing text is as a _raw text_ document. Source code\n",
    "(`.py`, `.r`, etc) is usually raw text as are text files (`.txt`) and those with\n",
    "many other extension (e.g., .csv, .dat, etc.). Opening an unknown file with a\n",
    "text editor is often a great way of learning what the file is.\n",
    "\n",
    "We can create a text file in python with the `open()` function"
   ]
  },
  {
   "cell_type": "code",
   "execution_count": null,
   "metadata": {},
   "outputs": [],
   "source": [
    "#example_text_file = 'sometextfile.txt'\n",
    "#stringToWrite = 'A line\\nAnother line\\nA line with a few unusual symbols \\u2421 \\u241B \\u20A0 \\u20A1 \\u20A2 \\u20A3 \\u0D60\\n'\n",
    "stringToWrite = 'A line\\nAnother line\\nA line with a few unusual symbols ␡ ␛ ₠ ₡ ₢ ₣ ൠ\\n'\n",
    "\n",
    "with open(example_text_file, mode = 'w', encoding='utf-8') as f:\n",
    "    f.write(stringToWrite)"
   ]
  },
  {
   "cell_type": "markdown",
   "metadata": {},
   "source": [
    "Notice the `encoding='utf-8'` argument, which specifies how we map the bits from\n",
    "the file to the glyphs (and whitespace characters like tab (`'\\t'`) or newline\n",
    "(`'\\n'`)) on the screen. When dealing only with latin letters, arabic numerals\n",
    "and the other symbols on America keyboards you usually do not have to worry\n",
    "about encodings as the ones used today are backwards compatible with\n",
    "[ASCII](https://en.wikipedia.org/wiki/ASCII), which gives the binary\n",
    "representation of 128 characters.\n",
    "\n",
    "Some of you, however, will want to use other characters (e.g., Chinese\n",
    "characters). To solve this there is\n",
    "[Unicode](https://en.wikipedia.org/wiki/Unicode) which assigns numbers to\n",
    "symbols, e.g., 041 is `'A'` and 03A3 is `'Σ'` (numbers starting with 0 are\n",
    "hexadecimal). Often non/beyond-ASCII characters are called Unicode characters.\n",
    "Unicode contains 1,114,112 characters, about 10\\% of which have been assigned.\n",
    "Unfortunately there are many ways used to map combinations of bits to Unicode\n",
    "symbols. The ones you are likely to encounter are called by Python _utf-8_,\n",
    "_utf-16_ and _latin-1_. _utf-8_ is the standard for Linux and Mac OS while both\n",
    "_utf-16_ and _latin-1_ are used by windows. If you use the wrong encoding,\n",
    "characters can appear wrong, sometimes change in number or Python could raise an\n",
    "exception. Lets see what happens when we open the file we just created with\n",
    "different encodings."
   ]
  },
  {
   "cell_type": "code",
   "execution_count": null,
   "metadata": {},
   "outputs": [],
   "source": [
    "with open(example_text_file, encoding='utf-8') as f:\n",
    "    print(\"This is with the correct encoding:\")\n",
    "    print(f.read())\n",
    "\n",
    "with open(example_text_file, encoding='latin-1') as f:\n",
    "    print(\"This is with the wrong encoding:\")\n",
    "    print(f.read())"
   ]
  },
  {
   "cell_type": "markdown",
   "metadata": {},
   "source": [
    "Notice that with _latin-1_ the unicode characters are mixed up and there are too\n",
    "many of them. You need to keep in mind encoding when obtaining text files.\n",
    "Determining the encoding can sometime involve substantial work."
   ]
  },
  {
   "cell_type": "markdown",
   "metadata": {},
   "source": [
    "We can also load many text files at once. LEts tart by looking at the Shakespeare files in the `data` directory "
   ]
  },
  {
   "cell_type": "code",
   "execution_count": null,
   "metadata": {},
   "outputs": [],
   "source": [
    "with open('../data/Shakespeare/midsummer_nights_dream.txt') as f:\n",
    "    midsummer = f.read()\n",
    "print(midsummer[-700:])"
   ]
  },
  {
   "cell_type": "markdown",
   "metadata": {},
   "source": [
    "Then to load all the files in `../data/Shakespeare` we can use a for loop with `scandir`:"
   ]
  },
  {
   "cell_type": "code",
   "execution_count": null,
   "metadata": {},
   "outputs": [],
   "source": [
    "targetDir = '../data/Shakespeare' #Change this to your own directory of texts\n",
    "shakespearText = []\n",
    "shakespearFileName = []\n",
    "\n",
    "for file in (file for file in os.scandir(targetDir) if file.is_file() and not file.name.startswith('.')):\n",
    "    with open(file.path) as f:\n",
    "        shakespearText.append(f.read())\n",
    "    shakespearFileName.append(file.name)"
   ]
  },
  {
   "cell_type": "markdown",
   "metadata": {},
   "source": [
    "Then we can put them all in pandas DataFrame"
   ]
  },
  {
   "cell_type": "code",
   "execution_count": null,
   "metadata": {},
   "outputs": [],
   "source": [
    "shakespear_df = pandas.DataFrame({'text' : shakespearText}, index = shakespearFileName)\n",
    "shakespear_df"
   ]
  },
  {
   "cell_type": "markdown",
   "metadata": {},
   "source": [
    "Getting your text in a format like this is the first step of most analysis"
   ]
  },
  {
   "cell_type": "markdown",
   "metadata": {},
   "source": [
    "## PDF\n",
    "\n",
    "Another common way text will be stored is in a PDF file. First we will download\n",
    "a pdf in Python. To do that lets grab a chapter from\n",
    "_Speech and Language Processing_, chapter 21 is on Information Extraction which\n",
    "seems apt. It is stored as a pdf at [https://web.stanford.edu/~jurafsky/slp3/21.\n",
    "pdf](https://web.stanford.edu/~jurafsky/slp3/21.pdf) although we are downloading\n",
    "from a copy just in case Jurafsky changes their website."
   ]
  },
  {
   "cell_type": "code",
   "execution_count": null,
   "metadata": {},
   "outputs": [],
   "source": [
    "#information_extraction_pdf = 'https://github.com/KnowledgeLab/content_analysis/raw/data/21.pdf'\n",
    "\n",
    "infoExtractionRequest = requests.get(information_extraction_pdf, stream=True)\n",
    "print(infoExtractionRequest.text[:1000])"
   ]
  },
  {
   "cell_type": "markdown",
   "metadata": {},
   "source": [
    "It says `'pdf'`, so thats a good sign. The rest though looks like we are having\n",
    "issues with an encoding. The random characters are not caused by our encoding\n",
    "being wrong, however. They are cause by there not being an encoding for those\n",
    "parts at all. PDFs are nominally binary files, meaning there are sections of\n",
    "binary that are specific to pdf and nothing else so you need something that\n",
    "knows about pdf to read them. To do that we will be using\n",
    "[`PyPDF2`](https://github.com/mstamy2/PyPDF2), a PDF processing library for\n",
    "Python 3.\n",
    "\n",
    "\n",
    "Because PDFs are a very complicated file format pdfminer requires a large amount\n",
    "of boilerplate code to extract text, we have written a function that takes in an\n",
    "open PDF file and returns the text so you don't have to."
   ]
  },
  {
   "cell_type": "code",
   "execution_count": null,
   "metadata": {},
   "outputs": [],
   "source": [
    "def readPDF(pdfFile):\n",
    "    #Based on code from http://stackoverflow.com/a/20905381/4955164\n",
    "    #Using utf-8, if there are a bunch of random symbols try changing this\n",
    "    codec = 'utf-8'\n",
    "    rsrcmgr = pdfminer.pdfinterp.PDFResourceManager()\n",
    "    retstr = io.StringIO()\n",
    "    layoutParams = pdfminer.layout.LAParams()\n",
    "    device = pdfminer.converter.TextConverter(rsrcmgr, retstr, laparams = layoutParams, codec = codec)\n",
    "    #We need a device and an interpreter\n",
    "    interpreter = pdfminer.pdfinterp.PDFPageInterpreter(rsrcmgr, device)\n",
    "    password = ''\n",
    "    maxpages = 0\n",
    "    caching = True\n",
    "    pagenos=set()\n",
    "    for page in pdfminer.pdfpage.PDFPage.get_pages(pdfFile, pagenos, maxpages=maxpages, password=password,caching=caching, check_extractable=True):\n",
    "        interpreter.process_page(page)\n",
    "    device.close()\n",
    "    returnedString = retstr.getvalue()\n",
    "    retstr.close()\n",
    "    return returnedString"
   ]
  },
  {
   "cell_type": "markdown",
   "metadata": {},
   "source": [
    "First we need to take the response object and convert it into a 'file like'\n",
    "object so that pdfminer can read it. To do this we will use `io`'s `BytesIO`."
   ]
  },
  {
   "cell_type": "code",
   "execution_count": null,
   "metadata": {},
   "outputs": [],
   "source": [
    "infoExtractionBytes = io.BytesIO(infoExtractionRequest.content)"
   ]
  },
  {
   "cell_type": "markdown",
   "metadata": {},
   "source": [
    "Now we can give it to pdfminer."
   ]
  },
  {
   "cell_type": "code",
   "execution_count": null,
   "metadata": {},
   "outputs": [],
   "source": [
    "print(readPDF(infoExtractionBytes)[:550])"
   ]
  },
  {
   "cell_type": "markdown",
   "metadata": {},
   "source": [
    "From here we can either look at the full text or fiddle with our PDF reader and\n",
    "get more information about individual blocks of text.\n",
    "\n",
    "## Word Docs\n",
    "\n",
    "The other type of document you are likely to encounter is the `.docx`, these are\n",
    "actually a version of [XML](https://en.wikipedia.org/wiki/Office_Open_XML), just\n",
    "like HTML, and like HTML we will use a specialized parser.\n",
    "\n",
    "For this class we will use [`python-docx`](https://python-\n",
    "docx.readthedocs.io/en/latest/) which provides a nice simple interface for\n",
    "reading `.docx` files"
   ]
  },
  {
   "cell_type": "code",
   "execution_count": 127,
   "metadata": {},
   "outputs": [
    {
     "name": "stdout",
     "output_type": "stream",
     "text": [
      "Week 1 - Retreiving and Preparing Text for Machines\n",
      "This week, we begin by \"begging, borrowing and stealing\" text from several contexts of human communication (e.g., PDFs, HTML, Word) and preparing it for machines to \"read\" and analyze. This notebook outlines scraping text from the web, from images, PDF and Word documents. Then we detail \"spidering\" or walking through hyperlinks to build samples of online content, and using APIs, Application Programming Interfaces, provided by webservices to access their content. Along the way, we will use regular expressions, outlined in the reading, to remove unwanted formatting and ornamentation. Finally, we discuss various text encodings, filtering and data structures in which text can be placed for analysis.\n",
      "For this notebook we will be using the following packages:\n",
      "#All these packages need to be installed from pip\n",
      "import requests #for http requests\n",
      "import bs4 #called `beautifulsoup4`, an html parser\n",
      "import pandas #gives us DataFrames\n",
      "import docx #reading MS doc files, install as `python-docx`\n",
      "import PIL.Image #called `pillow`, an image processing library\n",
      "import pytesseract #an interface to Tesseract, you will need Tesseract\n",
      "\n",
      "#Stuff for pdfs\n",
      "#Install as `pdfminer2`\n",
      "import pdfminer.pdfinterp\n",
      "import pdfminer.converter\n",
      "import pdfminer.layout\n",
      "import pdfminer.pdfpage\n",
      "\n",
      "#These come with Python\n",
      "import re #for regexs\n",
      "import urllib.parse #For joining urls\n",
      "import io #for making http requests look like files\n",
      "import json #For Tumblr API responses\n",
      "import os.path #For checking if files exist\n",
      "import os #For making directories\n",
      "We will also be working on the following files/urls\n",
      "wikipedia_base_url = 'https://en.wikipedia.org'\n",
      "wikipedia_content_analysis = 'https://en.wikipedia.org/wiki/Content_analysis'\n",
      "content_analysis_save = 'wikipedia_content_analysis.html'\n",
      "example_text_file = 'sometextfile.txt'\n",
      "information_extraction_pdf = 'https://github.com/KnowledgeLab/content_analysis/raw/data/21.pdf'\n",
      "\n",
      "ocr_file = 'data/tesseractTest.png'\n",
      "Scraping\n"
     ]
    }
   ],
   "source": [
    "example_docx = 'https://github.com/KnowledgeLab/content_analysis/raw/data/example_doc.docx'\n",
    "\n",
    "r = requests.get(example_docx, stream=True)\n",
    "d = docx.Document(io.BytesIO(r.content))\n",
    "for paragraph in d.paragraphs[:7]:\n",
    "    print(paragraph.text)"
   ]
  },
  {
   "cell_type": "code",
   "execution_count": 128,
   "metadata": {},
   "outputs": [
    {
     "name": "stdout",
     "output_type": "stream",
     "text": [
      "SSCS Anniversary Dining Guide\n",
      "For a thorough list of options in the U of C vicinity, visit ; select recommendations are below. Please check websites if you’re looking for alcohol, as many of these restaurants are BYOB. If you’re walking, as always, please be alert and consider staying in a group. Street parking can be limited and frustrating, but some hints are below.\n",
      "\n",
      "If you’re looking for fine dining, the best restaurant in the area is probably La Petite Folie, . It offers a $32 prix fixe till 6:30, but you may want a reservation (773-493-1394) and might feel rushed if you want to attend all SSCS events. Just under a mile away in the Hyde Park Shopping Center at 55th and Lake Park, with a free parking lot.\n",
      "\n",
      "About a third to a half mile away, on 57th Street:\n",
      "57th Street is home to a strip of restaurants popular with the U of C crowd, as well as 57th Street Books and the beloved Powell’s Used Books (at Harper Ave). Leaving Swift Hall, turn right to University Avenue. On University Avenue, walk one block north (left) to 57th, then a few blocks east (right) past Woodlawn, where you’ll find the following: \n",
      "Edwardo’s Pizza: Classic Chicago pizza and rival to the more-distant Giordano’s (which is rumored to use lard in its crust). Also has pastas, but who’s ever ordered pasta at Edwardo’s? A stuffed can take forty-five minutes; some like the thin-crust option, which is quite crisp. 1321 East 57th Street, Chicago, IL 60637. (773) 241-7960 \n",
      "The Medici (pronounced MED-i-chee, or just “The Med”): Classic hangout with a variety of inexpensive options including burgers, sandwiches, veggie chili, and individual pan pizzas--but no alcohol. 1327 E 57th St., Chicago IL 60637. http://www.medici57.com/. 773-667-7394\n",
      "Noodles, Etc.: Often crowded pan-Asian eatery. 1333 East 57th St., Chicago, IL 60637. .  773-684-2801\n",
      "Salonica: Classic diner, which used to have “Pan-Cakes Specialists” charmingly inscribed on the awning. All-day breakfast plus burgers, Greek entrees, and the usual diner fare. No alcohol, but if they have their organic, family-grown Greek olive oil in stock, consider picking up a bottle (just don’t try it in your carry-on). 1440 E. 57th St., Chicago IL 60637. http://www.salonica57.com/location.html. 773-752-3899\n",
      "\n",
      "Also very close, on 55th Street: \n",
      "Leaving Swift Hall, turn right to University Avenue. On University Avenue, walk three blocks north (left) to 55th, then one block east (right) to Woodlawn:\n",
      "Seven Ten Lanes: Yup, a bowling alley, with a self-described “great beer list” and burgers that some recommend. 1055 E. 55th St. Chicago, IL 60615. . 773-347-2695 \n",
      "\n"
     ]
    }
   ],
   "source": [
    "#I want to collect a word document from the internet (a list of restaurants in Hyde Park)\n",
    "\n",
    "dining_docx = 'https://sscs.press.jhu.edu/annual_meeting/diningguide.docx'\n",
    "\n",
    "r = requests.get(dining_docx, stream=True)\n",
    "d = docx.Document(io.BytesIO(r.content))\n",
    "for paragraph in d.paragraphs[:15]:\n",
    "    print(paragraph.text)"
   ]
  },
  {
   "cell_type": "markdown",
   "metadata": {},
   "source": [
    "This procedure uses the `io.BytesIO` class again, since `docx.Document` expects\n",
    "a file. Another way to do it is to save the document to a file and then read it\n",
    "like any other file. If we do this we can either delete the file afterwords, or\n",
    "save it and avoid downloading the following time.\n",
    "\n",
    "This function is useful as a part of many different tasks so it and others like it will be added to the helper package `lucem_illud_2020` so we can use it later without having to retype it."
   ]
  },
  {
   "cell_type": "code",
   "execution_count": 129,
   "metadata": {},
   "outputs": [],
   "source": [
    "def downloadIfNeeded(targetURL, outputFile, **openkwargs):\n",
    "    if not os.path.isfile(outputFile):\n",
    "        outputDir = os.path.dirname(outputFile)\n",
    "        #This function is a more general os.mkdir()\n",
    "        if len(outputDir) > 0:\n",
    "            os.makedirs(outputDir, exist_ok = True)\n",
    "        r = requests.get(targetURL, stream=True)\n",
    "        #Using a closure like this is generally better than having to\n",
    "        #remember to close the file. There are ways to make this function\n",
    "        #work as a closure too\n",
    "        with open(outputFile, 'wb') as f:\n",
    "            f.write(r.content)\n",
    "    return open(outputFile, **openkwargs)"
   ]
  },
  {
   "cell_type": "markdown",
   "metadata": {},
   "source": [
    "This function will download, save and open `outputFile` as `outputFile` or just\n",
    "open it if `outputFile` exists. By default `open()` will open the file as read\n",
    "only text with the local encoding, which may cause issues if its not a text\n",
    "file."
   ]
  },
  {
   "cell_type": "code",
   "execution_count": 135,
   "metadata": {},
   "outputs": [
    {
     "name": "stdout",
     "output_type": "stream",
     "text": [
      "File is not a zip file\n"
     ]
    }
   ],
   "source": [
    "try:\n",
    "    d = docx.Document(downloadIfNeeded(example_docx, example_docx_save))\n",
    "except Exception as e:\n",
    "    print(e)"
   ]
  },
  {
   "cell_type": "code",
   "execution_count": 137,
   "metadata": {},
   "outputs": [
    {
     "name": "stdout",
     "output_type": "stream",
     "text": [
      "<docx.document.Document object at 0x1a2766bd20>\n"
     ]
    }
   ],
   "source": [
    "try:\n",
    "    d = docx.Document(downloadIfNeeded(dining_docx, dining_docx_save))\n",
    "except Exception as e:\n",
    "    print(d)"
   ]
  },
  {
   "cell_type": "markdown",
   "metadata": {},
   "source": [
    "We need to tell `open()` to read in binary mode (`'rb'`), this is why we added\n",
    "`**openkwargs`, this allows us to pass any keyword arguments (kwargs) from\n",
    "`downloadIfNeeded` to `open()`."
   ]
  },
  {
   "cell_type": "code",
   "execution_count": 145,
   "metadata": {},
   "outputs": [
    {
     "name": "stdout",
     "output_type": "stream",
     "text": [
      "                                            docx-text\n",
      "0                       SSCS Anniversary Dining Guide\n",
      "1   For a thorough list of options in the U of C v...\n",
      "2   If you’re looking for fine dining, the best re...\n",
      "3   About a third to a half mile away, on 57th Str...\n",
      "4   57th Street is home to a strip of restaurants ...\n",
      "5   Edwardo’s Pizza: Classic Chicago pizza and riv...\n",
      "6   The Medici (pronounced MED-i-chee, or just “Th...\n",
      "7   Noodles, Etc.: Often crowded pan-Asian eatery....\n",
      "8   Salonica: Classic diner, which used to have “P...\n",
      "9                   Also very close, on 55th Street: \n",
      "10  Leaving Swift Hall, turn right to University A...\n",
      "11  Seven Ten Lanes: Yup, a bowling alley, with a ...\n",
      "12  About half a mile away, at 55th Street and Woo...\n",
      "13  Leaving Swift Hall, turn right to University A...\n",
      "14  Jimmy’s Woodlawn Tap: If you want just a burge...\n",
      "15  About three quarters of a mile away, in Kimbar...\n",
      "16  Leaving Swift Hall, turn right to University A...\n",
      "17  Cedars Mediterranean Kitchen: Casual eatery wi...\n",
      "18  Harold’s Chicken Shack: Casual (and messy) cla...\n",
      "19  Leona’s: Popular Chicago chain known for big p...\n",
      "20  Just under a mile, heading east (lakeward) on ...\n",
      "21  Leaving Swift Hall, turn right to University A...\n",
      "22  The Sit-Down Café and Sushi Bar: Fun cafe with...\n",
      "23  Fast food: Pepe’s Mexican (fast) food, Hyde Pa...\n",
      "24  About 1.2 miles: A bit further down 53rd Stree...\n",
      "25  If you find free street parking on 53rd or a s...\n",
      "26  Leaving Swift Hall, turn right to University A...\n",
      "27  The Valois (val-OYZ) Restaurant: This cafeteri...\n",
      "28  Rajun Cajun: Where else can get your chana mas...\n",
      "29  Chant: Asian fusion fine dining with a farm-to...\n",
      "30  Pizza Capri: Small Chicago chain with tasty pi...\n",
      "31  Turn right (south) down Harper just a touch to...\n",
      "32  About 1.2 miles, heading toward the lake on 56...\n",
      "33  On the other side of the Metra tracks. If you ...\n",
      "34  Leaving Swift Hall, turn right to University A...\n",
      "35  Piccolo Mondo: Decent Italian with a pleasant ...\n",
      "36  Kikuya: BYOB with sushi and noodles; entrees $...\n",
      "37  The Nile: Delicious, inexpensive chicken shawe...\n",
      "38  Jarunee/Thai 55: BYOB. 1607 East 55th Street, ...\n",
      "39  Siam: Tasty, inexpensive BYOB. 1639-43 E 55th ...\n",
      "40  Snail: Another good choice among the three Tha...\n"
     ]
    }
   ],
   "source": [
    "d = docx.Document(downloadIfNeeded(example_docx, example_docx_save, mode = 'rb'))\n",
    "textlist=[]\n",
    "for paragraph in d.paragraphs:\n",
    "    #print(paragraph.text)\n",
    "    if (paragraph.text!=\"\"):\n",
    "        textlist.append(paragraph.text)\n",
    "contentDF = pandas.DataFrame({'docx-text' : textlist})\n",
    "print(contentDF)"
   ]
  },
  {
   "cell_type": "code",
   "execution_count": 139,
   "metadata": {},
   "outputs": [
    {
     "name": "stdout",
     "output_type": "stream",
     "text": [
      "SSCS Anniversary Dining Guide\n",
      "For a thorough list of options in the U of C vicinity, visit ; select recommendations are below. Please check websites if you’re looking for alcohol, as many of these restaurants are BYOB. If you’re walking, as always, please be alert and consider staying in a group. Street parking can be limited and frustrating, but some hints are below.\n",
      "\n",
      "If you’re looking for fine dining, the best restaurant in the area is probably La Petite Folie, . It offers a $32 prix fixe till 6:30, but you may want a reservation (773-493-1394) and might feel rushed if you want to attend all SSCS events. Just under a mile away in the Hyde Park Shopping Center at 55th and Lake Park, with a free parking lot.\n",
      "\n",
      "About a third to a half mile away, on 57th Street:\n",
      "57th Street is home to a strip of restaurants popular with the U of C crowd, as well as 57th Street Books and the beloved Powell’s Used Books (at Harper Ave). Leaving Swift Hall, turn right to University Avenue. On University Avenue, walk one block north (left) to 57th, then a few blocks east (right) past Woodlawn, where you’ll find the following: \n",
      "Edwardo’s Pizza: Classic Chicago pizza and rival to the more-distant Giordano’s (which is rumored to use lard in its crust). Also has pastas, but who’s ever ordered pasta at Edwardo’s? A stuffed can take forty-five minutes; some like the thin-crust option, which is quite crisp. 1321 East 57th Street, Chicago, IL 60637. (773) 241-7960 \n"
     ]
    }
   ],
   "source": [
    "d = docx.Document(downloadIfNeeded(dining_docx, dining_docx_save, mode = 'rb'))\n",
    "for paragraph in d.paragraphs[:7]:\n",
    "    print(paragraph.text)"
   ]
  },
  {
   "cell_type": "markdown",
   "metadata": {},
   "source": [
    "Now we can read the file with `docx.Document` and not have to wait for it to be\n",
    "downloaded every time."
   ]
  },
  {
   "cell_type": "markdown",
   "metadata": {},
   "source": [
    "\n",
    "# <span style=\"color:red\">Section 3</span>\n",
    "<span style=\"color:red\">Construct cells immediately below this that extract and organize textual content from text, PDF or Word into a pandas dataframe.</span>\n"
   ]
  },
  {
   "cell_type": "code",
   "execution_count": 189,
   "metadata": {},
   "outputs": [
    {
     "name": "stdout",
     "output_type": "stream",
     "text": [
      "SSCS Anniversary Dining Guide\n",
      "For a thorough list of options in the U of C vicinity, visit ; select recommendations are below. Please check websites if you’re looking for alcohol, as many of these restaurants are BYOB. If you’re walking, as always, please be alert and consider staying in a group. Street parking can be limited and frustrating, but some hints are below.\n",
      "\n",
      "If you’re looking for fine dining, the best restaurant in the area is probably La Petite Folie, . It offers a $32 prix fixe till 6:30, but you may want a reservation (773-493-1394) and might feel rushed if you want to attend all SSCS events. Just under a mile away in the Hyde Park Shopping Center at 55th and Lake Park, with a free parking lot.\n",
      "\n",
      "About a third to a half mile away, on 57th Street:\n",
      "57th Street is home to a strip of restaurants popular with the U of C crowd, as well as 57th Street Books and the beloved Powell’s Used Books (at Harper Ave). Leaving Swift Hall, turn right to University Avenue. On University Avenue, walk one block north (left) to 57th, then a few blocks east (right) past Woodlawn, where you’ll find the following: \n",
      "Edwardo’s Pizza: Classic Chicago pizza and rival to the more-distant Giordano’s (which is rumored to use lard in its crust). Also has pastas, but who’s ever ordered pasta at Edwardo’s? A stuffed can take forty-five minutes; some like the thin-crust option, which is quite crisp. 1321 East 57th Street, Chicago, IL 60637. (773) 241-7960 \n"
     ]
    }
   ],
   "source": [
    "p_list = []\n",
    "\n",
    "d = docx.Document(downloadIfNeeded(dining_docx, dining_docx_save, mode = 'rb'))\n",
    "for paragraph in d.paragraphs[:7]:\n",
    "    print(paragraph.text)\n",
    "    p_list.append(paragraph.text)\n",
    "    "
   ]
  },
  {
   "cell_type": "code",
   "execution_count": 190,
   "metadata": {},
   "outputs": [
    {
     "data": {
      "text/plain": [
       "['SSCS Anniversary Dining Guide',\n",
       " 'For a thorough list of options in the U of C vicinity, visit ; select recommendations are below. Please check websites if you’re looking for alcohol, as many of these restaurants are BYOB. If you’re walking, as always, please be alert and consider staying in a group. Street parking can be limited and frustrating, but some hints are below.',\n",
       " '',\n",
       " 'If you’re looking for fine dining, the best restaurant in the area is probably La Petite Folie, . It offers a $32 prix fixe till 6:30, but you may want a reservation (773-493-1394) and might feel rushed if you want to attend all SSCS events. Just under a mile away in the Hyde Park Shopping Center at 55th and Lake Park, with a free parking lot.\\n',\n",
       " 'About a third to a half mile away, on 57th Street:',\n",
       " '57th Street is home to a strip of restaurants popular with the U of C crowd, as well as 57th Street Books and the beloved Powell’s Used Books (at Harper Ave). Leaving Swift Hall, turn right to University Avenue. On University Avenue, walk one block north (left) to 57th, then a few blocks east (right) past Woodlawn, where you’ll find the following: ',\n",
       " 'Edwardo’s Pizza: Classic Chicago pizza and rival to the more-distant Giordano’s (which is rumored to use lard in its crust). Also has pastas, but who’s ever ordered pasta at Edwardo’s? A stuffed can take forty-five minutes; some like the thin-crust option, which is quite crisp. 1321 East 57th Street, Chicago, IL 60637. (773) 241-7960 ']"
      ]
     },
     "execution_count": 190,
     "metadata": {},
     "output_type": "execute_result"
    }
   ],
   "source": [
    "p_list"
   ]
  },
  {
   "cell_type": "code",
   "execution_count": 200,
   "metadata": {},
   "outputs": [
    {
     "data": {
      "text/plain": [
       "[[], [], [], [], [], [], []]"
      ]
     },
     "execution_count": 200,
     "metadata": {},
     "output_type": "execute_result"
    }
   ],
   "source": [
    "#I'm searching for a telephone number\n",
    "\n",
    "text = paragraph.text\n",
    "TelephoneNumber = r'^[2-9]\\d{2}-\\d{3}-\\d{4}|[2-9]\\d{2} \\d{3}-\\d{4}'\n",
    "xx = []\n",
    "for line in p_list:\n",
    "    xx.append(re.findall(TelephoneNumber, line))\n",
    "    \n",
    "xx"
   ]
  },
  {
   "cell_type": "code",
   "execution_count": 213,
   "metadata": {},
   "outputs": [
    {
     "data": {
      "text/plain": [
       "[[], [], [], ['773-493-1394'], [], [], []]"
      ]
     },
     "execution_count": 213,
     "metadata": {},
     "output_type": "execute_result"
    }
   ],
   "source": [
    "text = paragraph.text\n",
    "TelephoneNumber = re.compile(r'\\d\\d\\d-\\d\\d\\d-\\d\\d\\d\\d')\n",
    "xx = []\n",
    "for line in p_list:\n",
    "    xx.append(re.findall(TelephoneNumber, line))\n",
    "    \n",
    "xx"
   ]
  },
  {
   "cell_type": "markdown",
   "metadata": {},
   "source": [
    "### Other sources:\n",
    "\n",
    "Other popular sources for internet data:\n",
    "\n",
    "[reddit](https://www.reddit.com/) - https://praw.readthedocs.io/en/v2.1.21/\n",
    "\n",
    "[twitter](https://twitter.com/) - https://pypi.org/project/python-twitter/\n",
    "\n",
    "[project gutenburg](https://www.gutenberg.org/) - https://github.com/ageitgey/Gutenberg \n",
    "\n"
   ]
  }
 ],
 "metadata": {
  "kernelspec": {
   "display_name": "Python 3",
   "language": "python",
   "name": "python3"
  },
  "language_info": {
   "codemirror_mode": {
    "name": "ipython",
    "version": 3
   },
   "file_extension": ".py",
   "mimetype": "text/x-python",
   "name": "python",
   "nbconvert_exporter": "python",
   "pygments_lexer": "ipython3",
   "version": "3.7.4"
  }
 },
 "nbformat": 4,
 "nbformat_minor": 2
}
