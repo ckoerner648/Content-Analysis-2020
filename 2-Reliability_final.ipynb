{
 "cells": [
  {
   "cell_type": "markdown",
   "metadata": {},
   "source": [
    "# Week 2 - Sampling & Reliability\n",
    "\n",
    "Up until this week, we have assumed that the corpus you have used for analysis assignments represented a *meaningful* assemblage of texts from which reasonable inferences could be drawn about the social game, social world and social actors that produced it. \n",
    "\n",
    "This week, we ask you to build a corpus for preliminary analysis and articulate what your sample represents in context of your final project. We begin by exploring how we can get *human* readings of content at scale. We want to gather and utilize human responses for several reasons. First, we may want to use crowdsourced human scores as the primary method of coding, extracting or organizing content (as it was in two of the assigned readings). Second, we may want to validate or tune a computational algorithm we may have developed in terms of how it is associated with human meanings or experience. Finally, we may want to use human coding on a sample of data as the basis for training a model or algorithm to then extrapolate *human-like* annotations to the entire population. Here intelligent sampling is critical to maximize effective maching training. \n",
    "\n",
    "For this notebook we will be using the following packages"
   ]
  },
  {
   "cell_type": "code",
   "execution_count": 1,
   "metadata": {},
   "outputs": [],
   "source": [
    "#Special module written for this class\n",
    "#This provides access to data and to helper functions from previous weeks\n",
    "#Make sure you update it before starting this notebook\n",
    "import lucem_illud_2020 #pip install -U git+git://github.com/Computational-Content-Analysis-2020/lucem_illud_2020.git\n",
    "\n",
    "#All these packages need to be installed from pip\n",
    "import numpy as np #For arrays\n",
    "import scipy as sp #For some stats\n",
    "import pandas #Gives us DataFrames\n",
    "import matplotlib.pyplot as plt #For graphics\n",
    "import seaborn #Makes the graphics look nicer\n",
    "import pyanno #On python3 make sure to pip install pyanno3\n",
    "\n",
    "#We need to import these this way due to how pyanno is setup\n",
    "from pyanno.measures import pairwise_matrix, agreement, cohens_kappa, cohens_weighted_kappa, fleiss_kappa, krippendorffs_alpha, pearsons_rho, scotts_pi, spearmans_rho\n",
    "from pyanno.annotations import AnnotationsContainer\n",
    "from pyanno.models import ModelA, ModelBt, ModelB\n",
    "\n",
    "from functools import reduce\n",
    "from itertools import permutations\n",
    "import math\n",
    "\n",
    "\n",
    "#This 'magic' command makes the plots work better\n",
    "#in the notebook, don't use it outside of a notebook.\n",
    "#Also you can ignore the warning\n",
    "%matplotlib inline\n",
    "\n",
    "import os #For looking through files\n",
    "import os.path #For managing file paths"
   ]
  },
  {
   "cell_type": "markdown",
   "metadata": {},
   "source": [
    "## <span style=\"color:red\">*Pitch the Domain of your Project*</span>\n",
    "\n",
    "<span style=\"color:red\">In the two cells immediately following, describe **WHAT** you are planning to analyze for your final project (i.e., texts, contexts and the social game, world and actors you intend to learn about through your analysis) (<200 words) and **WHY** you are going to do it (i.e., why would theory and/or the average person benefit from knowing the results of your investigation) (<200 words)? [**Note**: your individual or collective project can change over the course of the quarter if new data and/or analysis opportunities arise or if old ones fade away.]"
   ]
  },
  {
   "cell_type": "markdown",
   "metadata": {},
   "source": [
    "## ***What?*** \n",
    "<200 words\n",
    "#My survey elicits the respondents understandings of differents kinds or work and different aspects of work. \n",
    "#In my pilot study, I ask 4 people 6 different questions. Each questions has 3 possible answers to chose from. \n",
    "#For my final project, I plan to collect thousands of answers through Mechanical Turk.\n",
    "#Here are my questions: \n",
    "#1. Social status: Compared to a nurse, do you think a doctor has a higher or a lower social status? \n",
    "(a) lower, (b) same, (c) higher\n",
    "#2. Salary: Compared to a high-school teacher, do you think a professor earns more or less? \n",
    "(a) less, (b) same, (c) more\n",
    "#3. Gender-perception: How do you tend to imagine a journalist – as a male or a female? \n",
    "(a) male, (b) undecided, (c) female\n",
    "#4. Hard-working: Compared to a garbageman, do you think an academic works harder or less hard? \n",
    "(a) harder, (b) same, (c) less hard\n",
    "#5. Work vs. non-work: Do you consider child care (at home, by parents, without any salaries being paid) as work or as an activity that cannot be considered work?  \n",
    "(a) work, (b) undecided, (c) non-work\n",
    "#6. Work vs. non-work: Do you consider a man who repairs the roof of a house, installs electricity, tils the bathroom, lays wooden floor as a cash-in-hand job (black market that is labeled illicit by the U.S. government) as work or as an activity that cannot be considered work?  \n",
    "(a) work, (b) undecided, (c) non-work"
   ]
  },
  {
   "cell_type": "markdown",
   "metadata": {},
   "source": [
    "## ***Why?***\n",
    "<200 words\n",
    "#Work is a central category for social life in the Unites States. \n",
    "#People do not only work, but also base their perceptions of themselves and others on their ideas about work. \n",
    "#The economic environment has changed a lot over the last decade–and so have working conditions and work arrangements. I suppose that this has an effect on peoples' perception of the abstract category of work.  "
   ]
  },
  {
   "cell_type": "markdown",
   "metadata": {},
   "source": [
    "## <span style=\"color:red\">*Pitch Your Sample*</span>\n",
    "\n",
    "<span style=\"color:red\">In the cell immediately following, describe the rationale behind your proposed sample design for your final project. What is the social game, social work, or social actors about whom you are seeking to make inferences? What are its virtues with respect to your research questions? What are its limitations? What are alternatives? What would be a reasonable path to \"scale up\" your sample for further analysis (i.e., high-profile publication)? (<200 words)."
   ]
  },
  {
   "cell_type": "markdown",
   "metadata": {},
   "source": [
    "# Example Annotation Dataset"
   ]
  },
  {
   "cell_type": "markdown",
   "metadata": {},
   "source": [
    "Load Rzhetsky et al (2009)'s sample dataset, which can be found [here](https://github.com/enthought/uchicago-pyanno/tree/master/data). This data is the result of a content analytic / content extraction study in which Andrey Rzhetsky and colleagues from the National Library of Medicine, published [here](http://journals.plos.org/ploscompbiol/article?id=10.1371/journal.pcbi.1000391) in [PLOS Computational Biology](http://journals.plos.org/ploscompbiol/), gave eight annotators 10,000 sentence chunks from biomedical text in biomedical abstracts and articles, then asked them, in a loop design schematically illustrated below that provided 3 independent codings for each document. The sampling strategy pursued diversity by drawing from PubMed abstracts (1000) and full-text articles (9000: 20% from abstracts, 10% from introductions, 20% from methods, 25% from results, and 25% from discussions.) The dataset extract here involves respondents codes for sentences in terms of their *Evidence*: {0, 1, 2, 3, -1} where 0 is the complete lack of evidence, 3 is direct evidence present within the sentence, and -1 is didn't respond. (They also crowdsourced and analyzed *polarity*, *certainty*, and *number*). For example, consider the following two abutting sentence chunks: *\"Because null mutations in toxR and toxT abolish CT and TcpA expression in the El Tor biotype and also attenuate virulence...\"* [i.e., average certainty = 0], *\"...it is likely that the ToxR regulon has functional similarities between the two biotypes despite the clear differences in the inducing parameters observed in vitro\"* [i.e., average certainty = 1].\""
   ]
  },
  {
   "cell_type": "code",
   "execution_count": 2,
   "metadata": {},
   "outputs": [
    {
     "data": {
      "text/html": [
       "<img source=\"loopdesign.png\">\n"
      ],
      "text/plain": [
       "<IPython.core.display.HTML object>"
      ]
     },
     "metadata": {},
     "output_type": "display_data"
    }
   ],
   "source": [
    "%%html\n",
    "<img source=\"loopdesign.png\">"
   ]
  },
  {
   "cell_type": "markdown",
   "metadata": {},
   "source": [
    "[Click here for loop design](loopdesign.png)"
   ]
  },
  {
   "cell_type": "code",
   "execution_count": 3,
   "metadata": {},
   "outputs": [],
   "source": [
    "x = np.loadtxt(\"/Users/carinakoerner/Documents/Content-Analysis-2020/week3/testdata_numerical.txt\")\n",
    "anno = AnnotationsContainer.from_array(x, missing_values=[-1])"
   ]
  },
  {
   "cell_type": "markdown",
   "metadata": {},
   "source": [
    "Interrogate the AnnotationsContainer object."
   ]
  },
  {
   "cell_type": "code",
   "execution_count": 4,
   "metadata": {},
   "outputs": [
    {
     "data": {
      "text/plain": [
       "array([[ 1,  2,  3, ..., -1, -1, -1],\n",
       "       [ 0,  0,  0, ..., -1, -1, -1],\n",
       "       [ 2,  2,  1, ..., -1, -1, -1],\n",
       "       ...,\n",
       "       [ 2,  2, -1, ..., -1, -1,  1],\n",
       "       [ 2,  2, -1, ..., -1, -1,  3],\n",
       "       [ 1,  1, -1, ..., -1, -1,  0]])"
      ]
     },
     "execution_count": 4,
     "metadata": {},
     "output_type": "execute_result"
    }
   ],
   "source": [
    "anno.annotations"
   ]
  },
  {
   "cell_type": "code",
   "execution_count": 5,
   "metadata": {},
   "outputs": [
    {
     "data": {
      "text/plain": [
       "[1.0, 2.0, 3.0, 4.0]"
      ]
     },
     "execution_count": 5,
     "metadata": {},
     "output_type": "execute_result"
    }
   ],
   "source": [
    "anno.labels"
   ]
  },
  {
   "cell_type": "code",
   "execution_count": 6,
   "metadata": {},
   "outputs": [
    {
     "data": {
      "text/plain": [
       "[-1]"
      ]
     },
     "execution_count": 6,
     "metadata": {},
     "output_type": "execute_result"
    }
   ],
   "source": [
    "anno.missing_values"
   ]
  },
  {
   "cell_type": "markdown",
   "metadata": {},
   "source": [
    "# Annotation Statistics"
   ]
  },
  {
   "cell_type": "markdown",
   "metadata": {},
   "source": [
    "First, we assume categorical codes...that each code is qualitatively distinct from each other. Two measures are primarily used for this: Scott's $\\pi$, Cohen's $\\kappa$, and Krippendorff's $\\alpha$ which each measure the extent of agreement between two annotators, but take into account the possibility of the agreement occurring by chance in slightly different ways. Any agreement measure begins with the frequency of codes:"
   ]
  },
  {
   "cell_type": "code",
   "execution_count": 7,
   "metadata": {},
   "outputs": [
    {
     "data": {
      "text/plain": [
       "array([0.11666667, 0.245     , 0.34083333, 0.2975    ])"
      ]
     },
     "execution_count": 7,
     "metadata": {},
     "output_type": "execute_result"
    }
   ],
   "source": [
    "pyanno.measures.agreement.labels_frequency(anno.annotations,4)"
   ]
  },
  {
   "cell_type": "markdown",
   "metadata": {},
   "source": [
    "Now consider the \"confusion matrix\" or matrix of coded agreements between any two coders:"
   ]
  },
  {
   "cell_type": "code",
   "execution_count": 8,
   "metadata": {},
   "outputs": [
    {
     "name": "stdout",
     "output_type": "stream",
     "text": [
      "[[ 8.  7.  3.  2.]\n",
      " [ 9. 30. 13.  3.]\n",
      " [ 2.  9. 42. 11.]\n",
      " [ 1.  7. 14. 39.]]\n"
     ]
    },
    {
     "data": {
      "image/png": "[encoded data removed]",
      "text/plain": [
       "<Figure size 432x288 with 2 Axes>"
      ]
     },
     "metadata": {
      "needs_background": "light"
     },
     "output_type": "display_data"
    }
   ],
   "source": [
    "c = pyanno.measures.agreement.confusion_matrix(anno.annotations[:,0], anno.annotations[:,1],4)\n",
    "print(c)\n",
    "ac = seaborn.heatmap(c)\n",
    "plt.show()"
   ]
  },
  {
   "cell_type": "markdown",
   "metadata": {},
   "source": [
    "Scott's $\\pi$ is computed as:\n",
    "\n",
    "$\\pi = \\frac{\\text{Pr}(a)-\\text{Pr}(e)}{1-\\text{Pr}(e)}$\n",
    "\n",
    "Where Pr($a$) is relative observed agreement, and Pr($e$) is expected agreement using joint proportions calculated from the confusion matrix or matrix of coded agreements between any two coders:"
   ]
  },
  {
   "cell_type": "code",
   "execution_count": 9,
   "metadata": {},
   "outputs": [
    {
     "data": {
      "text/plain": [
       "0.4386478265891502"
      ]
     },
     "execution_count": 9,
     "metadata": {},
     "output_type": "execute_result"
    }
   ],
   "source": [
    "scotts_pi(anno.annotations[:,0], anno.annotations[:,1])"
   ]
  },
  {
   "cell_type": "markdown",
   "metadata": {},
   "source": [
    "The generalization of Scott's $\\pi$ to $n$ coders is Fleiss' $\\kappa$ (Fleiss called it $\\kappa$ because he thought he was generalizing Cohen's $\\kappa$)"
   ]
  },
  {
   "cell_type": "code",
   "execution_count": 10,
   "metadata": {},
   "outputs": [
    {
     "data": {
      "text/plain": [
       "0.40417653771912765"
      ]
     },
     "execution_count": 10,
     "metadata": {},
     "output_type": "execute_result"
    }
   ],
   "source": [
    "fleiss_kappa(anno.annotations[::])"
   ]
  },
  {
   "cell_type": "markdown",
   "metadata": {},
   "source": [
    "Krippendorff's $\\alpha$ generalizes of Fleiss' $\\kappa$ to $n$ coders and takes into account the fact that annotations here are not categorically different, but ordinal, by adding a weight matrix in which off-diagonal cells contain weights indicating the seriousness of the disagreement between each score. When produced with no arguments, it simply produces an arithmetic distance (e.g., 3-1=2), such that cells one off the diagonal are weighted 1, two off 2, etc."
   ]
  },
  {
   "cell_type": "code",
   "execution_count": 11,
   "metadata": {},
   "outputs": [
    {
     "data": {
      "text/plain": [
       "0.6472588223831547"
      ]
     },
     "execution_count": 11,
     "metadata": {},
     "output_type": "execute_result"
    }
   ],
   "source": [
    "krippendorffs_alpha(anno.annotations[::])"
   ]
  },
  {
   "cell_type": "markdown",
   "metadata": {},
   "source": [
    "Like Scott's $\\pi$, Cohen's $\\kappa$ also takes into account the possibility of the agreement occurring by chance, but in the following way:\n",
    "\n",
    "$\\kappa = \\frac{p_o-p_e}{1-p_e}=1-\\frac{1-p_o}{p_e}$\n",
    "\n",
    "where $p_o$ is the relative observed agreement among raters, and $p_e$ is the hypothetical probability of chance agreement, using the observed data to calculate the probabilities of each observer randomly saying each category. If the raters are in complete agreement then $\\kappa = 1$. If there is no agreement among the raters other than what would be expected by chance (as given by $p_e$), $\\kappa ≤ 0 $. Here, Cohen's $\\kappa$ statistic for the first two annotators is computed. This is probably the most common metric of agreement."
   ]
  },
  {
   "cell_type": "code",
   "execution_count": 12,
   "metadata": {},
   "outputs": [
    {
     "data": {
      "text/plain": [
       "0.43917037219392857"
      ]
     },
     "execution_count": 12,
     "metadata": {},
     "output_type": "execute_result"
    }
   ],
   "source": [
    "cohens_kappa(anno.annotations[:,0], anno.annotations[:,1])"
   ]
  },
  {
   "cell_type": "code",
   "execution_count": 13,
   "metadata": {},
   "outputs": [
    {
     "name": "stdout",
     "output_type": "stream",
     "text": [
      "[[1.         0.43917037 0.47677621        nan        nan        nan\n",
      "  0.45819119 0.43381462]\n",
      " [0.43917037 1.         0.38432922 0.41344423        nan        nan\n",
      "         nan 0.33643611]\n",
      " [0.47677621 0.38432922 1.         0.39583333 0.51704894        nan\n",
      "         nan        nan]\n",
      " [       nan 0.41344423 0.39583333 1.         0.34597068 0.4446844\n",
      "         nan        nan]\n",
      " [       nan        nan 0.51704894 0.34597068 1.         0.37938644\n",
      "  0.43039733        nan]\n",
      " [       nan        nan        nan 0.4446844  0.37938644 1.\n",
      "  0.38341929 0.31214748]\n",
      " [0.45819119        nan        nan        nan 0.43039733 0.38341929\n",
      "  1.         0.394806  ]\n",
      " [0.43381462 0.33643611        nan        nan        nan 0.31214748\n",
      "  0.394806   1.        ]]\n"
     ]
    }
   ],
   "source": [
    "m = pairwise_matrix(cohens_kappa, anno.annotations)\n",
    "print(m)"
   ]
  },
  {
   "cell_type": "code",
   "execution_count": 14,
   "metadata": {},
   "outputs": [
    {
     "data": {
      "image/png": "[encoded data removed]",
      "text/plain": [
       "<Figure size 432x288 with 2 Axes>"
      ]
     },
     "metadata": {
      "needs_background": "light"
     },
     "output_type": "display_data"
    }
   ],
   "source": [
    "ax = seaborn.heatmap(m)\n",
    "plt.show()"
   ]
  },
  {
   "cell_type": "markdown",
   "metadata": {},
   "source": [
    "You can see that this 8 by 3 loop design will be less stable than an 8 choose 3 combinatorial design, because each codes with more others. "
   ]
  },
  {
   "cell_type": "markdown",
   "metadata": {},
   "source": [
    "One can also assess the average Cohen's $\\kappa$ for all pairs of coders that have coded against one another:"
   ]
  },
  {
   "cell_type": "code",
   "execution_count": 15,
   "metadata": {},
   "outputs": [
    {
     "data": {
      "text/plain": [
       "0.40911598940065674"
      ]
     },
     "execution_count": 15,
     "metadata": {},
     "output_type": "execute_result"
    }
   ],
   "source": [
    "def pairwise_metric_average(metric, array):\n",
    "    \"\"\"Calculate the pairwise metric average for the real elements of metric function run on an array of annotations\"\"\"\n",
    "    p = permutations(range(array[0,:].size),2)\n",
    "    m = [metric(array[:,x[0]], array[:,x[1]]) for x in p]\n",
    "    clean_m = [c for c in m if not math.isnan(c)]\n",
    "    return reduce(lambda a, b: a + b, clean_m)/len(clean_m)    \n",
    " \n",
    "pairwise_metric_average(cohens_kappa, anno.annotations)"
   ]
  },
  {
   "cell_type": "markdown",
   "metadata": {},
   "source": [
    "As recognized with Krippendorff's flexible $\\alpha$, our scores are *not* categorical, but rather ordered and her considered metric. Weighted $\\kappa$ allows you to count disagreements differently and is useful when codes are ordered as they are here. Here a weight matrix is added to the calculation, in which off-diagonal cells contain weights indicating the seriousness of the disagreement between each score. When automatically produced, it simply produces an arithmetic distance (e.g., 3-1=2), such that cells one off the diagonal are weighted 1, two off 2, etc. Here\n",
    "\n",
    "$\\kappa = 1-\\frac{\\sum^k_{i=1}\\sum^k_{j=1}w_{ij}x_{ij}}{\\sum^k_{i=1}\\sum^k_{j=1}w_{ij}m_{ij}}$\n",
    "\n",
    "where $\\kappa$ = $n$ codes and $w_{ij}$,$x_{ij}$, and $m_{ij}$ represent elements in the weight, observed, and expected matrices, respectively. (Obviously, when diagonal cells contain weights of 0 and off-diagonal cells weights of 1, this equals $\\kappa$)."
   ]
  },
  {
   "cell_type": "code",
   "execution_count": 16,
   "metadata": {},
   "outputs": [
    {
     "data": {
      "text/plain": [
       "0.5330240507874497"
      ]
     },
     "execution_count": 16,
     "metadata": {},
     "output_type": "execute_result"
    }
   ],
   "source": [
    "cohens_weighted_kappa(anno.annotations[:,0], anno.annotations[:,1])"
   ]
  },
  {
   "cell_type": "code",
   "execution_count": null,
   "metadata": {},
   "outputs": [],
   "source": []
  },
  {
   "cell_type": "markdown",
   "metadata": {},
   "source": [
    "Or averaged over the total:"
   ]
  },
  {
   "cell_type": "code",
   "execution_count": 17,
   "metadata": {},
   "outputs": [
    {
     "data": {
      "text/plain": [
       "0.5299113458717166"
      ]
     },
     "execution_count": 17,
     "metadata": {},
     "output_type": "execute_result"
    }
   ],
   "source": [
    "pairwise_metric_average(cohens_weighted_kappa,anno.annotations)"
   ]
  },
  {
   "cell_type": "markdown",
   "metadata": {},
   "source": [
    "Alternatively, if the annontation data can be understood as indicating real values, we can assess not agreement, but rather the correlation of values (Pearson's $\\rho$) or correlation of ranks (Spearman's $\\rho$) for pairs of coders:"
   ]
  },
  {
   "cell_type": "code",
   "execution_count": 18,
   "metadata": {},
   "outputs": [
    {
     "data": {
      "image/png": "[encoded data removed]",
      "text/plain": [
       "<Figure size 432x288 with 2 Axes>"
      ]
     },
     "metadata": {
      "needs_background": "light"
     },
     "output_type": "display_data"
    },
    {
     "data": {
      "image/png": "[encoded data removed]",
      "text/plain": [
       "<Figure size 432x288 with 2 Axes>"
      ]
     },
     "metadata": {
      "needs_background": "light"
     },
     "output_type": "display_data"
    }
   ],
   "source": [
    "n = pairwise_matrix(pearsons_rho, anno.annotations)\n",
    "m = pairwise_matrix(spearmans_rho, anno.annotations)\n",
    "an = seaborn.heatmap(n)\n",
    "plt.show()\n",
    "am = seaborn.heatmap(m)\n",
    "plt.show()"
   ]
  },
  {
   "cell_type": "markdown",
   "metadata": {},
   "source": [
    "Or averaged over all comparable pairs:"
   ]
  },
  {
   "cell_type": "code",
   "execution_count": 130,
   "metadata": {},
   "outputs": [
    {
     "name": "stdout",
     "output_type": "stream",
     "text": [
      "0.8736418467076548 0.8740702792797542\n"
     ]
    }
   ],
   "source": [
    "print(pairwise_metric_average(pearsons_rho,anno.annotations), pairwise_metric_average(spearmans_rho,anno.annotations))"
   ]
  },
  {
   "cell_type": "markdown",
   "metadata": {},
   "source": [
    "## <span style=\"color:red\">*Your turn*</span>\n",
    "\n",
    "<span style=\"color:red\">Perform a content annotation survey of some kind in which at least 3 people evaluate and code each piece of content, using Amazon Mechanical Turk as described in the MTurk slides in the Assignment link on Canvas, or by hand with friends.  With the resulting data, calculate, visualize and discuss inter-coder agreement or covariation with appropriate metrics. What does this means for the reliability of human assessments regarding content in your domain?"
   ]
  },
  {
   "cell_type": "code",
   "execution_count": 20,
   "metadata": {},
   "outputs": [],
   "source": [
    "#I have saved my survey data under the name practicedata_ck.txt.\n",
    "x = np.loadtxt(\"/Users/carinakoerner/Documents/Content-Analysis-2020/week3/practicedata_ck.txt\")\n",
    "anno = AnnotationsContainer.from_array(x, missing_values=[-1])"
   ]
  },
  {
   "cell_type": "code",
   "execution_count": 21,
   "metadata": {},
   "outputs": [
    {
     "data": {
      "text/plain": [
       "array([[2, 2, 2, 2],\n",
       "       [2, 2, 2, 2],\n",
       "       [2, 2, 1, 1],\n",
       "       [1, 1, 1, 1],\n",
       "       [0, 0, 0, 0],\n",
       "       [0, 0, 1, 0]])"
      ]
     },
     "execution_count": 21,
     "metadata": {},
     "output_type": "execute_result"
    }
   ],
   "source": [
    "#These are the results of my survey.\n",
    "anno.annotations"
   ]
  },
  {
   "cell_type": "code",
   "execution_count": 103,
   "metadata": {},
   "outputs": [
    {
     "data": {
      "text/plain": [
       "array([0.29166667, 0.29166667, 0.41666667])"
      ]
     },
     "execution_count": 103,
     "metadata": {},
     "output_type": "execute_result"
    }
   ],
   "source": [
    "#I adjust the number of classes in the code\n",
    "pyanno.measures.agreement.labels_frequency(anno.annotations,3)"
   ]
  },
  {
   "cell_type": "code",
   "execution_count": 106,
   "metadata": {},
   "outputs": [
    {
     "name": "stdout",
     "output_type": "stream",
     "text": [
      "[[2. 0. 0.]\n",
      " [0. 1. 0.]\n",
      " [0. 0. 3.]]\n"
     ]
    },
    {
     "data": {
      "image/png": "[encoded data removed]",
      "text/plain": [
       "<Figure size 432x288 with 2 Axes>"
      ]
     },
     "metadata": {
      "needs_background": "light"
     },
     "output_type": "display_data"
    }
   ],
   "source": [
    "#I change the code so it fits my survey: I have 4 respondents, 6 questions, and 3 answer choices.\n",
    "c = pyanno.measures.agreement.confusion_matrix(anno.annotations[:,0], anno.annotations[:,1],3)\n",
    "print(c)\n",
    "ac = seaborn.heatmap(c)\n",
    "plt.show()\n",
    "\n",
    "#The confusion matrix tells how many of my respondents agree and how many of them disagree.\n",
    "#The code looks only at two people. \n",
    "#The two people agreed on 6 questions.\n",
    "#That means the two persons agreed on all questions and have no disagreement. "
   ]
  },
  {
   "cell_type": "code",
   "execution_count": 107,
   "metadata": {},
   "outputs": [
    {
     "data": {
      "text/plain": [
       "1.0"
      ]
     },
     "execution_count": 107,
     "metadata": {},
     "output_type": "execute_result"
    }
   ],
   "source": [
    "#Scott's pi is similar to Cohen's kappa - it measures the agreement between two raters (description of Cohen's kappa see below). \n",
    "#It makes the assumption that annotators have the same distribution of responses.\n",
    "\n",
    "scotts_pi(anno.annotations[:,0], anno.annotations[:,1])"
   ]
  },
  {
   "cell_type": "code",
   "execution_count": null,
   "metadata": {},
   "outputs": [],
   "source": [
    "#My scott's pi is pretty good, sicnaling perfect agreement between the first two raters.\n",
    "#However, the measurement excludes the other raters. "
   ]
  },
  {
   "cell_type": "code",
   "execution_count": 108,
   "metadata": {},
   "outputs": [
    {
     "data": {
      "text/plain": [
       "0.7037037037037038"
      ]
     },
     "execution_count": 108,
     "metadata": {},
     "output_type": "execute_result"
    }
   ],
   "source": [
    "#Fleiss’ kappa is a measurement to calculate the agreement of more than two raters. \n",
    "#It works with nominal and ordinal data. \n",
    "#For the calculation, the relative agreement between the raters is calculated. \n",
    "#and from that, the agreement by chance is subtracted. To standardize the coefficient, the result is divided by (1-agreement by chance). \n",
    "#It’s range is from 0 (no agreement) to 1 (perfect agreement). \n",
    "\n",
    "fleiss_kappa(anno.annotations[::])"
   ]
  },
  {
   "cell_type": "code",
   "execution_count": null,
   "metadata": {},
   "outputs": [],
   "source": [
    "#The Fleiss' kappa for my survey is 0.73. That is pretty good. It signals substantial agreement among my raters."
   ]
  },
  {
   "cell_type": "code",
   "execution_count": 109,
   "metadata": {},
   "outputs": [
    {
     "data": {
      "text/plain": [
       "0.8654970760233919"
      ]
     },
     "execution_count": 109,
     "metadata": {},
     "output_type": "execute_result"
    }
   ],
   "source": [
    "#For that reason, Krippendorffs alpha is the most informative measure for my survey. \n",
    "#Krippendorffs alpha is a statistical test to measure inter-rater reliability with ordinary data.\n",
    "#It can be used with any number of annotators without or with missing data.\n",
    "\n",
    "krippendorffs_alpha(anno.annotations[::])"
   ]
  },
  {
   "cell_type": "code",
   "execution_count": null,
   "metadata": {},
   "outputs": [],
   "source": [
    "#The Krippendorffs alpha for my survey is pretty good, the coefficient is 0.86. \n",
    "#In general, Krippendorff alpha above 0.8 indicates a good inter-rater reliability. \n",
    "#Krippendorff between 0.8 and 0.67 indicates a low inter-rater reliability. \n",
    "#Krippendorff alpha below 0.67 indicates a very low inter-rater reliability. "
   ]
  },
  {
   "cell_type": "code",
   "execution_count": 27,
   "metadata": {},
   "outputs": [
    {
     "data": {
      "text/plain": [
       "1.0"
      ]
     },
     "execution_count": 27,
     "metadata": {},
     "output_type": "execute_result"
    }
   ],
   "source": [
    "#Cohen's kappa is a coefficient for qualitative–or so to say categorical data. \n",
    "#It allows two raters. Cohen's kappa measures the instances for which the raters have the same result. \n",
    "#Cohen's kappa is calculated by the observed agreement of the raters from which the possible agreement by chance is subtracted. \n",
    "#The coefficient is standardized by dividing the result thought (1-observed agreement).\n",
    "#The range for Cohen's kappa is from -1 to 1. \n",
    "#An agreement of 0 reflects only agreement by radom chance\n",
    "cohens_kappa(anno.annotations[:,0], anno.annotations[:,1])"
   ]
  },
  {
   "cell_type": "code",
   "execution_count": null,
   "metadata": {},
   "outputs": [],
   "source": [
    "#For rater 1 and 2 in my survey, Cohens kappa is 1. That means that the two raters have full agreement.  "
   ]
  },
  {
   "cell_type": "code",
   "execution_count": 110,
   "metadata": {},
   "outputs": [
    {
     "name": "stdout",
     "output_type": "stream",
     "text": [
      "[[1.   1.   0.52 0.75]\n",
      " [1.   1.   0.52 0.75]\n",
      " [0.52 0.52 1.   0.75]\n",
      " [0.75 0.75 0.75 1.  ]]\n"
     ]
    }
   ],
   "source": [
    "#The following matrix shows inter-rater reliability for each permutations of pairs within the dataset. \n",
    "m = pairwise_matrix(cohens_kappa, anno.annotations)\n",
    "print(m)"
   ]
  },
  {
   "cell_type": "code",
   "execution_count": 29,
   "metadata": {},
   "outputs": [
    {
     "data": {
      "image/png": "[encoded data removed]",
      "text/plain": [
       "<Figure size 432x288 with 2 Axes>"
      ]
     },
     "metadata": {
      "needs_background": "light"
     },
     "output_type": "display_data"
    }
   ],
   "source": [
    "#I visualize the previous measurements\n",
    "ax = seaborn.heatmap(m)\n",
    "plt.show()"
   ]
  },
  {
   "cell_type": "code",
   "execution_count": 30,
   "metadata": {},
   "outputs": [
    {
     "data": {
      "text/plain": [
       "0.7149999999999999"
      ]
     },
     "execution_count": 30,
     "metadata": {},
     "output_type": "execute_result"
    }
   ],
   "source": [
    "def pairwise_metric_average(metric, array):\n",
    "    \"\"\"Calculate the pairwise metric average for the real elements of metric function run on an array of annotations\"\"\"\n",
    "    p = permutations(range(array[0,:].size),2)\n",
    "    m = [metric(array[:,x[0]], array[:,x[1]]) for x in p]\n",
    "    clean_m = [c for c in m if not math.isnan(c)]\n",
    "    return reduce(lambda a, b: a + b, clean_m)/len(clean_m)    \n",
    " \n",
    "pairwise_metric_average(cohens_kappa, anno.annotations)"
   ]
  },
  {
   "cell_type": "code",
   "execution_count": 31,
   "metadata": {},
   "outputs": [
    {
     "data": {
      "text/plain": [
       "1.0"
      ]
     },
     "execution_count": 31,
     "metadata": {},
     "output_type": "execute_result"
    }
   ],
   "source": [
    "#The weighted kappa allows wightened estimation of disagreement.\n",
    "#For my survey, cohen's kappa was 1, so I expect the weightened cohens kappa to be 1, too. \n",
    "cohens_weighted_kappa(anno.annotations[:,0], anno.annotations[:,1])"
   ]
  },
  {
   "cell_type": "code",
   "execution_count": 32,
   "metadata": {},
   "outputs": [
    {
     "data": {
      "text/plain": [
       "0.782843137254902"
      ]
     },
     "execution_count": 32,
     "metadata": {},
     "output_type": "execute_result"
    }
   ],
   "source": [
    "pairwise_metric_average(cohens_weighted_kappa,anno.annotations)"
   ]
  },
  {
   "cell_type": "code",
   "execution_count": 33,
   "metadata": {},
   "outputs": [
    {
     "data": {
      "image/png": "[encoded data removed]",
      "text/plain": [
       "<Figure size 432x288 with 2 Axes>"
      ]
     },
     "metadata": {
      "needs_background": "light"
     },
     "output_type": "display_data"
    },
    {
     "data": {
      "image/png": "[encoded data removed]",
      "text/plain": [
       "<Figure size 432x288 with 2 Axes>"
      ]
     },
     "metadata": {
      "needs_background": "light"
     },
     "output_type": "display_data"
    }
   ],
   "source": [
    "#The following graphic shows correlation within the data.  \n",
    "#spearmans_rho is meant to measure correlations. \n",
    "#I expect the diagonal to be one. \n",
    "#I can see for which respondents I have the same results. \n",
    "#Respondents 0 and 1 have given the same responses.\n",
    "#The dark color means that there is no overlap between the responses.\n",
    "\n",
    "n = pairwise_matrix(pearsons_rho, anno.annotations)\n",
    "m = pairwise_matrix(spearmans_rho, anno.annotations)\n",
    "an = seaborn.heatmap(n)\n",
    "plt.show()\n",
    "am = seaborn.heatmap(m)\n",
    "plt.show()"
   ]
  },
  {
   "cell_type": "markdown",
   "metadata": {},
   "source": [
    "# Models"
   ]
  },
  {
   "cell_type": "markdown",
   "metadata": {},
   "source": [
    "However, what if some coders are better than others. The prior measures all rely on the assumption that all coders are equally good. What if some are worse than others? Now we use Rzhetsky et al (2009) and Dawid & Skene's models to make inference about true label classes by downweighting bad or deviant coders. Pyanno provides three relevant models: ModelA, ModelB, and ModelBt. Model A can only be currently run on a balanced 8-coder design, but assesses accuracy purely based on agreement. Model B with $\\theta$s models the relationship between each coder and code. Model B is the Dawid & Skene model from the reading. The following image schematically suggests the relationship between the models. <img src=\"../data/models.png\">"
   ]
  },
  {
   "cell_type": "markdown",
   "metadata": {},
   "source": [
    "The models should provide similar results. To estimate the parameters for any models, we first need to create a new model. "
   ]
  },
  {
   "cell_type": "code",
   "execution_count": 34,
   "metadata": {},
   "outputs": [
    {
     "data": {
      "text/plain": [
       "array([[2, 2, 2, 2],\n",
       "       [2, 2, 2, 2],\n",
       "       [2, 2, 1, 1],\n",
       "       [1, 1, 1, 1],\n",
       "       [0, 0, 0, 0],\n",
       "       [0, 0, 1, 0]])"
      ]
     },
     "execution_count": 34,
     "metadata": {},
     "output_type": "execute_result"
    }
   ],
   "source": [
    "anno.annotations"
   ]
  },
  {
   "cell_type": "code",
   "execution_count": 35,
   "metadata": {},
   "outputs": [
    {
     "name": "stdout",
     "output_type": "stream",
     "text": [
      "[[[0.78524597 0.20212894 0.01262509]\n",
      "  [0.26890067 0.58210445 0.14899487]\n",
      "  [0.05784246 0.10390595 0.83825159]]\n",
      "\n",
      " [[0.86203903 0.07853975 0.05942122]\n",
      "  [0.13487191 0.80975106 0.05537702]\n",
      "  [0.13072803 0.17660705 0.69266492]]\n",
      "\n",
      " [[0.61781683 0.33976393 0.04241925]\n",
      "  [0.15196209 0.68276271 0.16527521]\n",
      "  [0.02637263 0.12734757 0.84627981]]\n",
      "\n",
      " [[0.73342223 0.18495829 0.08161947]\n",
      "  [0.13724215 0.74187912 0.12087872]\n",
      "  [0.00988264 0.23617179 0.75394556]]]\n",
      "-17.59968735407164\n"
     ]
    }
   ],
   "source": [
    "# I create a new instance of model A, with 3 label classes and 4 respondents.\n",
    "model = ModelB.create_initial_state(3, 4)\n",
    "# other model parameters are initialized from the model prior.\n",
    "print(model.theta)\n",
    "print(model.log_likelihood(anno.annotations))"
   ]
  },
  {
   "cell_type": "code",
   "execution_count": 36,
   "metadata": {},
   "outputs": [],
   "source": [
    "samples = model.sample_posterior_over_accuracy(anno.annotations, 200, burn_in_samples=100, thin_samples=3)"
   ]
  },
  {
   "cell_type": "markdown",
   "metadata": {},
   "source": [
    "Pyanno allows one to use either MLE (maximum likelihood estimation) or MAP (maximum a posteriori estimation) to estimate model parameters. Note that the parameters here correspond to our estimation of the accuracy of each annotator."
   ]
  },
  {
   "cell_type": "code",
   "execution_count": 37,
   "metadata": {},
   "outputs": [
    {
     "name": "stdout",
     "output_type": "stream",
     "text": [
      "[[[0.80922271 0.14305985 0.04771744]\n",
      "  [0.13571277 0.72074542 0.14354181]\n",
      "  [0.04584395 0.13772446 0.81643159]]\n",
      "\n",
      " [[0.80922271 0.14305985 0.04771744]\n",
      "  [0.13571277 0.72074542 0.14354181]\n",
      "  [0.04584395 0.13772446 0.81643159]]\n",
      "\n",
      " [[0.7621082  0.19025764 0.04763415]\n",
      "  [0.13523244 0.72952221 0.13524535]\n",
      "  [0.04583323 0.17505073 0.77911604]]\n",
      "\n",
      " [[0.80922271 0.14314313 0.04763415]\n",
      "  [0.13571277 0.72904188 0.13524535]\n",
      "  [0.04584395 0.17504001 0.77911604]]]\n",
      "-16.051773226046517\n"
     ]
    }
   ],
   "source": [
    "model.map(anno.annotations)\n",
    "print(model.theta)\n",
    "print(model.log_likelihood(anno.annotations))"
   ]
  },
  {
   "cell_type": "code",
   "execution_count": 111,
   "metadata": {},
   "outputs": [
    {
     "name": "stdout",
     "output_type": "stream",
     "text": [
      "[[[0.80922271 0.14305985 0.04771744]\n",
      "  [0.13571277 0.72074542 0.14354181]\n",
      "  [0.04584395 0.13772446 0.81643159]]\n",
      "\n",
      " [[0.80922271 0.14305985 0.04771744]\n",
      "  [0.13571277 0.72074542 0.14354181]\n",
      "  [0.04584395 0.13772446 0.81643159]]\n",
      "\n",
      " [[0.7621082  0.19025764 0.04763415]\n",
      "  [0.13523244 0.72952221 0.13524535]\n",
      "  [0.04583323 0.17505073 0.77911604]]\n",
      "\n",
      " [[0.80922271 0.14314313 0.04763415]\n",
      "  [0.13571277 0.72904188 0.13524535]\n",
      "  [0.04584395 0.17504001 0.77911604]]]\n",
      "-16.051773226046517\n"
     ]
    }
   ],
   "source": [
    "#I'm doing this for ModelB now, with 3 answer choices and 4 respondents.\n",
    "#THis gives us estimations of the model parameters\n",
    "\n",
    "model = ModelB.create_initial_state(3, 4)\n",
    "model.map(anno.annotations)\n",
    "print(model.theta)\n",
    "print(model.log_likelihood(anno.annotations))"
   ]
  },
  {
   "cell_type": "markdown",
   "metadata": {},
   "source": [
    "Once we have model parameters estimated, we can now make inferences about the true label classes. We can calculate the posterior distribution over the true label classes."
   ]
  },
  {
   "cell_type": "code",
   "execution_count": null,
   "metadata": {},
   "outputs": [],
   "source": [
    "posterior = model.infer_labels(anno.annotations)\n",
    "print(posterior)"
   ]
  },
  {
   "cell_type": "markdown",
   "metadata": {},
   "source": [
    "Let's turn the posterior of the first 100 samples into a heatmap."
   ]
  },
  {
   "cell_type": "code",
   "execution_count": 112,
   "metadata": {},
   "outputs": [
    {
     "data": {
      "text/plain": [
       "array([[0, 0, 4],\n",
       "       [0, 0, 4],\n",
       "       [0, 2, 2],\n",
       "       [0, 4, 0],\n",
       "       [4, 0, 0],\n",
       "       [3, 1, 0]])"
      ]
     },
     "execution_count": 112,
     "metadata": {},
     "output_type": "execute_result"
    }
   ],
   "source": [
    "votes = []\n",
    "for r in anno.annotations:\n",
    "    v = [0] * len(anno.labels)\n",
    "    votes.append(v)\n",
    "    for a in r:\n",
    "        if a > -1:\n",
    "            v[a] += 1\n",
    "votes_array = np.array(votes)\n",
    "votes_array"
   ]
  },
  {
   "cell_type": "code",
   "execution_count": 113,
   "metadata": {},
   "outputs": [],
   "source": [
    "#The output correspondents to the most likeley values for a specific question in my survey. "
   ]
  },
  {
   "cell_type": "code",
   "execution_count": 114,
   "metadata": {},
   "outputs": [
    {
     "data": {
      "image/png": "[encoded data removed]",
      "text/plain": [
       "<Figure size 1080x720 with 4 Axes>"
      ]
     },
     "metadata": {
      "needs_background": "light"
     },
     "output_type": "display_data"
    }
   ],
   "source": [
    "fig, (ax1, ax2) = plt.subplots(ncols=2, figsize = (15, 10), sharey=True)\n",
    "num_questions = 20\n",
    "\n",
    "seaborn.heatmap(votes_array[:num_questions], annot = True, ax=ax2)\n",
    "seaborn.heatmap(posterior[:num_questions], annot=True, ax =ax1)\n",
    "ax1.set_title(\"Model\")\n",
    "ax2.set_title(\"Votes\")\n",
    "plt.show()"
   ]
  },
  {
   "cell_type": "code",
   "execution_count": null,
   "metadata": {},
   "outputs": [],
   "source": [
    "#For the Model graphic\n",
    "#That is what the model is predicting in probabilities.\n",
    "#It shows a degree of certainity what the true anser is.\n",
    "#E.g. in for question number 3 the model predicts that answer 3 is correct.\n",
    "\n",
    "#For the Votes graphic\n",
    "#The graphic show the actual responses that I got from my survey.\n",
    "#The sum of each rows totals the number of respondents in my survey."
   ]
  },
  {
   "cell_type": "code",
   "execution_count": 123,
   "metadata": {},
   "outputs": [
    {
     "data": {
      "text/plain": [
       "array([[2, 2, 2, 2],\n",
       "       [2, 2, 2, 2],\n",
       "       [2, 2, 1, 1],\n",
       "       [1, 1, 1, 1],\n",
       "       [0, 0, 0, 0],\n",
       "       [0, 0, 1, 0]])"
      ]
     },
     "execution_count": 123,
     "metadata": {},
     "output_type": "execute_result"
    }
   ],
   "source": [
    "anno.annotations"
   ]
  },
  {
   "cell_type": "markdown",
   "metadata": {},
   "source": [
    "This differs markedly from taking annotator scores at face value (Add comparison of average values)"
   ]
  },
  {
   "cell_type": "code",
   "execution_count": 115,
   "metadata": {},
   "outputs": [],
   "source": [
    "samples = model.sample_posterior_over_accuracy(anno.annotations, 200, burn_in_samples=100, thin_samples=3)"
   ]
  },
  {
   "cell_type": "code",
   "execution_count": 116,
   "metadata": {},
   "outputs": [
    {
     "name": "stdout",
     "output_type": "stream",
     "text": [
      "[[[0.74326112 0.16813812 0.08860075]\n",
      "  [0.16081904 0.67599252 0.16318844]\n",
      "  [0.08248231 0.16145322 0.75606446]]\n",
      "\n",
      " [[0.75068122 0.16315092 0.08616785]\n",
      "  [0.15400431 0.66767644 0.17831924]\n",
      "  [0.08140661 0.15587267 0.76272072]]\n",
      "\n",
      " [[0.70517444 0.20584817 0.08897738]\n",
      "  [0.16205684 0.68013071 0.15781246]\n",
      "  [0.0822608  0.19141733 0.72632187]]\n",
      "\n",
      " [[0.75282621 0.1663471  0.08082669]\n",
      "  [0.16472728 0.66784396 0.16742875]\n",
      "  [0.08677297 0.19165063 0.72157641]]]\n",
      "[[[0.08679009 0.07395993 0.06304173]\n",
      "  [0.07967131 0.08816074 0.07364013]\n",
      "  [0.05974032 0.07673911 0.08667131]]\n",
      "\n",
      " [[0.09183073 0.07779437 0.05899289]\n",
      "  [0.07508458 0.09877707 0.08137745]\n",
      "  [0.05171722 0.07065295 0.08274095]]\n",
      "\n",
      " [[0.09869386 0.08560666 0.05996648]\n",
      "  [0.07286749 0.09577803 0.07102707]\n",
      "  [0.05560882 0.0722456  0.08831091]]\n",
      "\n",
      " [[0.07578433 0.06794046 0.05385595]\n",
      "  [0.07203824 0.08808684 0.07283527]\n",
      "  [0.05480541 0.08056946 0.09040418]]]\n"
     ]
    }
   ],
   "source": [
    "#Every row sums up to one.\n",
    "#I have three classes.\n",
    "\n",
    "print(samples[0].mean(axis=0))\n",
    "print(samples[0].std(axis=0))"
   ]
  },
  {
   "cell_type": "markdown",
   "metadata": {},
   "source": [
    "Let's try everything again with ModelBt"
   ]
  },
  {
   "cell_type": "code",
   "execution_count": 119,
   "metadata": {},
   "outputs": [
    {
     "name": "stdout",
     "output_type": "stream",
     "text": [
      "[0.7611316  0.68880356 0.71400637 0.65425116]\n",
      "-19.802992880669507\n"
     ]
    }
   ],
   "source": [
    "# I create a new instance of model B, with 3 label classes and 4 annotators.\n",
    "model = ModelBt.create_initial_state(3, 4)\n",
    "print(model.theta)\n",
    "print(model.log_likelihood(anno.annotations))"
   ]
  },
  {
   "cell_type": "code",
   "execution_count": 120,
   "metadata": {},
   "outputs": [
    {
     "name": "stdout",
     "output_type": "stream",
     "text": [
      "[0.99999998 0.99999999 0.71326541 0.84983388]\n",
      "-14.785548695622392\n"
     ]
    }
   ],
   "source": [
    "model.map(anno.annotations)\n",
    "print(model.theta)\n",
    "print(model.log_likelihood(anno.annotations))"
   ]
  },
  {
   "cell_type": "code",
   "execution_count": 126,
   "metadata": {},
   "outputs": [
    {
     "name": "stdout",
     "output_type": "stream",
     "text": [
      "[[4.79187364e-19 2.60898346e-19 1.00000000e+00]\n",
      " [4.79187364e-19 2.60898346e-19 1.00000000e+00]\n",
      " [2.69835143e-17 8.27289729e-16 1.00000000e+00]\n",
      " [1.86869103e-18 1.00000000e+00 3.96767064e-18]\n",
      " [1.00000000e+00 5.53948560e-19 2.16023790e-18]\n",
      " [1.00000000e+00 1.37110779e-17 1.07473814e-17]]\n"
     ]
    }
   ],
   "source": [
    "#Now, I do the same thing with different implications.\n",
    "#The white spaces mean that the model is certain about what the answer should be for a particular question.\n",
    "\n",
    "posterior2 = model.infer_labels(anno.annotations)\n",
    "print(posterior2)"
   ]
  },
  {
   "cell_type": "markdown",
   "metadata": {},
   "source": [
    "Let's visualize the posterior of the first 10 samples according to ModelBt."
   ]
  },
  {
   "cell_type": "code",
   "execution_count": 122,
   "metadata": {},
   "outputs": [
    {
     "data": {
      "image/png": "[encoded data removed]",
      "text/plain": [
       "<Figure size 432x288 with 2 Axes>"
      ]
     },
     "metadata": {
      "needs_background": "light"
     },
     "output_type": "display_data"
    }
   ],
   "source": [
    "ax = seaborn.heatmap(posterior[:10,])\n",
    "plt.show()"
   ]
  },
  {
   "cell_type": "markdown",
   "metadata": {},
   "source": [
    "The property of these scores is that they enable us to identify the most likely code assuming coders of unequal quality, which also allows us to break ties when we know coder identity. For some analyses, we may simply use the posterior themselves rather than the most probably code outcome."
   ]
  },
  {
   "cell_type": "code",
   "execution_count": 128,
   "metadata": {},
   "outputs": [
    {
     "data": {
      "image/png": "[encoded data removed]",
      "text/plain": [
       "<Figure size 1080x720 with 4 Axes>"
      ]
     },
     "metadata": {
      "needs_background": "light"
     },
     "output_type": "display_data"
    }
   ],
   "source": [
    "#I now want to improve the visualization.\n",
    "#I update the posterior to posterior2.\n",
    "\n",
    "fig, (ax1, ax2) = plt.subplots(ncols=2, figsize = (15, 10), sharey=True)\n",
    "num_questions = 20\n",
    "\n",
    "seaborn.heatmap(votes_array[:num_questions], annot = True, ax=ax2)\n",
    "seaborn.heatmap(posterior2[:num_questions], annot=True, ax =ax1)\n",
    "ax1.set_title(\"Model\")\n",
    "ax2.set_title(\"Votes\")\n",
    "plt.show()"
   ]
  },
  {
   "cell_type": "code",
   "execution_count": null,
   "metadata": {},
   "outputs": [],
   "source": [
    "#The model is generated from what the humans say\n",
    "#The humans can give correct answers and wrong answers. \n",
    "#The model gives the best estimate.\n",
    "#Given that not all raters will give a correct answer, the model gives an answer prediction\n",
    "#It calculates that model on the basis of the best respondents, does a few iterations and stabilizes at the given output.\n",
    "#The comparison of the two visualizations shows that for my survey the reliability of the human respondents is quite good, as they almost fit the predictions. "
   ]
  },
  {
   "cell_type": "code",
   "execution_count": null,
   "metadata": {},
   "outputs": [],
   "source": [
    "#The model says that e.g. for question 1, the probability that 3 is the correct answer is 1. \n",
    "#If we'd look at the majority votes in the survey, we'd see that they are predicted by the model. \n",
    "#However, the model even can tell us in extreme cases when tehre is a 50/50 parity what would be the right answer.\n",
    "#The model says for question 3 (row 3) that answer 3 is correct. When we look into the real answers we would not have this answer, but instead wouldn't know if answer 2 or 3 was correct.   "
   ]
  },
  {
   "cell_type": "markdown",
   "metadata": {},
   "source": [
    "# Generating Annotations"
   ]
  },
  {
   "cell_type": "markdown",
   "metadata": {},
   "source": [
    "Pyanno also allows one to generate artificial data from a model."
   ]
  },
  {
   "cell_type": "code",
   "execution_count": 129,
   "metadata": {},
   "outputs": [
    {
     "data": {
      "text/plain": [
       "array([[1, 1, 1],\n",
       "       [3, 3, 2],\n",
       "       [1, 1, 1],\n",
       "       [2, 2, 2],\n",
       "       [2, 2, 2],\n",
       "       [2, 2, 2],\n",
       "       [2, 2, 1],\n",
       "       [2, 2, 2],\n",
       "       [2, 2, 2],\n",
       "       [1, 1, 1],\n",
       "       [0, 0, 0],\n",
       "       [0, 0, 0],\n",
       "       [1, 1, 1],\n",
       "       [2, 2, 2],\n",
       "       [1, 1, 1],\n",
       "       [1, 1, 1],\n",
       "       [1, 1, 1],\n",
       "       [1, 1, 1],\n",
       "       [2, 2, 2],\n",
       "       [3, 3, 3]])"
      ]
     },
     "execution_count": 129,
     "metadata": {},
     "output_type": "execute_result"
    }
   ],
   "source": [
    "model = ModelBt.create_initial_state(4, 3, theta=model.theta)\n",
    "#randome generate annotations with 4 label classes and 3 annotators. The accuracy of the three annotators are 0.99, 0.75, and 0.25 respectively.\n",
    "model.generate_annotations(20)"
   ]
  },
  {
   "cell_type": "code",
   "execution_count": null,
   "metadata": {},
   "outputs": [],
   "source": [
    "#These are the predicted values - that is what the model expects if I had 3 classes and 20 annotators."
   ]
  },
  {
   "cell_type": "markdown",
   "metadata": {},
   "source": [
    "## Visualizing coder accuracy"
   ]
  },
  {
   "cell_type": "markdown",
   "metadata": {},
   "source": [
    "Pyanno provides a [graphical user interface](http://docs.enthought.com/uchicago-pyanno/user_guide.html) for making plots. However, it is not compatible with ipython notebooks. Nevertheless, nothing prevents us from making plots using matplotlib. Let's make a plot of the accuracy of each annotator inferred from ModelA."
   ]
  },
  {
   "cell_type": "code",
   "execution_count": 135,
   "metadata": {},
   "outputs": [],
   "source": [
    "model = ModelBt.create_initial_state(3, 4)\n",
    "model.mle(anno.annotations)\n",
    "samples = model.sample_posterior_over_accuracy(anno.annotations, 4, burn_in_samples=100, thin_samples=3)\n",
    "y =  samples.mean(axis=0)#.mean(axis = 1).mean(axis = 1)\n",
    "y_ci = samples.std(axis=0)#.mean(axis = 1).mean(axis = 1)"
   ]
  },
  {
   "cell_type": "code",
   "execution_count": 136,
   "metadata": {},
   "outputs": [
    {
     "data": {
      "image/png": "[encoded data removed]",
      "text/plain": [
       "<Figure size 432x288 with 1 Axes>"
      ]
     },
     "metadata": {
      "needs_background": "light"
     },
     "output_type": "display_data"
    }
   ],
   "source": [
    "plt.figure()\n",
    "plt.errorbar(range(4),y, yerr = y_ci)\n",
    "plt.show()"
   ]
  },
  {
   "cell_type": "code",
   "execution_count": null,
   "metadata": {},
   "outputs": [],
   "source": [
    "#This is giving a estimate of coder accuracy.\n",
    "#My sample size is quite small with 4 respondents, however with adjusting the code, I can get a smaller variance as with 200.\n",
    "#Rater number three is giving bad answers.\n",
    "#My worst coder is coder 3, coder 4 is mediocre and coder 1 and 2 are quite accurate."
   ]
  },
  {
   "cell_type": "code",
   "execution_count": null,
   "metadata": {},
   "outputs": [],
   "source": []
  },
  {
   "cell_type": "markdown",
   "metadata": {},
   "source": [
    "# Example with articles that use the General Social Survey"
   ]
  },
  {
   "cell_type": "markdown",
   "metadata": {},
   "source": [
    "I performed a recent study in which the variables from thousands of articles were associated with those used in the General Social Survey, a widely used population sample, in order to interrogate how social science analyses are performed. Each article was reread and coded by a balanced set of three student coders using a 6 choose 3 design, such that all possible 3-coder-subsets (20) coded an equal number of articles. Coding was performed through a website that allowed students access to the digital article. To evaluate the validity of the student codes, we also recruited a sample of authors associated with 97 of our published articles to fill out the same online survey. \n",
    "\n",
    "Because not all coders coded items with equal accuracy, and because “don’t know” was an optional answer, leading to potential ties, we used a generative, probabilistic model to estimate the maximum a posteriori probability (MAP) prediction that an item’s code is true, which integrates over the estimated accuracy of coders, assuming only that the entire population of coders is slightly more often right than wrong. The model (“Model B”) is based on a simple underlying generation process that directly accounts for the probability that coded values are correct (Rzhetsky et al. 2009). For each coded value j, a set of parameters, denoted γj, represents the probability that each coded value is correct. For the ith coder (i = 1, 2, …, 6), we introduce a matrix of probabilities, denoted λ(i)x|y, that defines the probability that she assigns code x (e.g., Dependent variable) to a GSS variable with correct annotation y. For a perfect coder, the matrix λ(i)x|y would equal the identity matrix and her vote would count most toward the total. For a coder that always codes incorrectly—a “troll”—her matrix λ(i)x|y will have all its value off the diagonal and will only minimally influence the posterior. We co-authored the open source pyanno software that implements this model."
   ]
  },
  {
   "cell_type": "markdown",
   "metadata": {},
   "source": [
    "Getting the data for each content analysis survey regarding how GSS variables were used in a large population of social science articles."
   ]
  },
  {
   "cell_type": "code",
   "execution_count": null,
   "metadata": {},
   "outputs": [],
   "source": [
    "#anno_vdep = AnnotationsContainer.from_file(missing_values=[-1], filename=\"GSSvariable_testSdependent.csv\")\n",
    "dev = np.loadtxt(fname=\"../data/dataforgssstudy/n7GSSvariable_testSdependent.csv\", dtype=int, delimiter=\",\")\n",
    "anno_dv = AnnotationsContainer.from_array(dev)\n",
    "\n",
    "ind = np.loadtxt(fname=\"../data/dataforgssstudy/n7GSSvariable_testSindependent.csv\", dtype=int, delimiter=\",\")\n",
    "anno_iv = AnnotationsContainer.from_array(ind)\n",
    "\n",
    "cent = np.loadtxt(fname=\"../data/dataforgssstudy/n7GSSvariable_testScentral.csv\", dtype=int, delimiter=\",\")\n",
    "anno_cv = AnnotationsContainer.from_array(cent)\n",
    "\n",
    "cont = np.loadtxt(fname=\"../data/dataforgssstudy/n7GSSvariable_testScontrol.csv\", dtype=int, delimiter=\",\")\n",
    "anno_ctv = AnnotationsContainer.from_array(cont)\n",
    "\n",
    "test = np.loadtxt(fname=\"../data/dataforgssstudy/testH.csv\", dtype=int, delimiter=\",\")\n",
    "anno_test = AnnotationsContainer.from_array(test)"
   ]
  },
  {
   "cell_type": "markdown",
   "metadata": {},
   "source": [
    "Let's examine the data structure."
   ]
  },
  {
   "cell_type": "code",
   "execution_count": null,
   "metadata": {},
   "outputs": [],
   "source": [
    "dev.shape"
   ]
  },
  {
   "cell_type": "code",
   "execution_count": null,
   "metadata": {},
   "outputs": [],
   "source": [
    "anno_dv.labels"
   ]
  },
  {
   "cell_type": "code",
   "execution_count": null,
   "metadata": {},
   "outputs": [],
   "source": [
    "anno_dv.missing_values"
   ]
  },
  {
   "cell_type": "code",
   "execution_count": null,
   "metadata": {},
   "outputs": [],
   "source": [
    "anno_dv.annotations.shape"
   ]
  },
  {
   "cell_type": "markdown",
   "metadata": {},
   "source": [
    "First, let's use Cohen's $\\kappa$ to measure agreement between coders..."
   ]
  },
  {
   "cell_type": "code",
   "execution_count": null,
   "metadata": {},
   "outputs": [],
   "source": [
    "m = pairwise_matrix(cohens_kappa, anno_dv.annotations)\n",
    "print(m)"
   ]
  },
  {
   "cell_type": "markdown",
   "metadata": {},
   "source": [
    "Let's visualize that..."
   ]
  },
  {
   "cell_type": "code",
   "execution_count": null,
   "metadata": {},
   "outputs": [],
   "source": [
    "ax = seaborn.heatmap(m)\n",
    "plt.show()"
   ]
  },
  {
   "cell_type": "code",
   "execution_count": null,
   "metadata": {},
   "outputs": [],
   "source": [
    "pairwise_metric_average(cohens_kappa, anno_dv.annotations)"
   ]
  },
  {
   "cell_type": "markdown",
   "metadata": {},
   "source": [
    "Let's compute the statistics on each of the datasets and with Pearson's $\\rho$. "
   ]
  },
  {
   "cell_type": "code",
   "execution_count": null,
   "metadata": {},
   "outputs": [],
   "source": [
    "datasets = [anno_dv.annotations, anno_iv.annotations, anno_cv.annotations, anno_ctv.annotations]\n",
    "ck = [pairwise_matrix(cohens_kappa, anno) for anno in datasets]\n",
    "pr = [pairwise_matrix(pearsons_rho, anno) for anno in datasets]\n",
    "titles = ['DV', 'IV', 'Central Variable', \"Control Variable\"]"
   ]
  },
  {
   "cell_type": "code",
   "execution_count": null,
   "metadata": {},
   "outputs": [],
   "source": [
    "fig, axs = plt.subplots(2,4)\n",
    "fig.set_size_inches(18, 7)\n",
    "for k, ax, title in zip(ck,axs[0], titles):\n",
    "    seaborn.heatmap(k, ax = ax)\n",
    "    ax.set_title(title)\n",
    "    ax.set_xticks(())\n",
    "    ax.set_yticks(())\n",
    "for r, ax in zip(pr,axs[1]):\n",
    "    seaborn.heatmap(r, ax = ax)\n",
    "    ax.set_xticks(())\n",
    "    ax.set_yticks(())\n",
    "plt.show()"
   ]
  },
  {
   "cell_type": "markdown",
   "metadata": {},
   "source": [
    "Now we will compare the student coders."
   ]
  },
  {
   "cell_type": "code",
   "execution_count": null,
   "metadata": {},
   "outputs": [],
   "source": [
    "nondiag = (np.eye(6)-np.ones(6))*-1.0"
   ]
  },
  {
   "cell_type": "code",
   "execution_count": null,
   "metadata": {},
   "outputs": [],
   "source": [
    "xdevck = pairwise_matrix(cohens_kappa, anno_dv.annotations)\n",
    "xdevpr = pairwise_matrix(pearsons_rho, anno_dv.annotations)\n",
    "\n",
    "xindck = pairwise_matrix(cohens_kappa, anno_iv.annotations)\n",
    "xindpr = pairwise_matrix(pearsons_rho, anno_iv.annotations)\n",
    "\n",
    "xcenck = pairwise_matrix(cohens_kappa, anno_cv.annotations)\n",
    "xcenpr = pairwise_matrix(pearsons_rho, anno_cv.annotations)\n",
    "\n",
    "xconck = pairwise_matrix(cohens_kappa, anno_ctv.annotations)\n",
    "xconpr = pairwise_matrix(pearsons_rho, anno_ctv.annotations)\n",
    "\n",
    "print(np.average(xdevck, weights=nondiag))\n",
    "print(np.average(xdevpr, weights=nondiag))\n",
    "print(np.average(xindck, weights=nondiag))\n",
    "print(np.average(xindpr, weights=nondiag))\n",
    "print(np.average(xcenck, weights=nondiag))\n",
    "print(np.average(xcenpr, weights=nondiag))\n",
    "print(np.average(xconck, weights=nondiag))\n",
    "print(np.average(xconpr, weights=nondiag))"
   ]
  },
  {
   "cell_type": "markdown",
   "metadata": {},
   "source": [
    "Now we are going to bring in \"gold standard\" data. In this case, this is where we asked authors of the articles to code their own article's variables and compare with our student coders."
   ]
  },
  {
   "cell_type": "code",
   "execution_count": null,
   "metadata": {},
   "outputs": [],
   "source": [
    "mergedata = np.loadtxt(fname=\"../data/dataforgssstudy/gss_mergedataC.txt\", dtype=int, delimiter=\"\\t\")"
   ]
  },
  {
   "cell_type": "code",
   "execution_count": null,
   "metadata": {},
   "outputs": [],
   "source": [
    "anno_merge_dep = AnnotationsContainer.from_array(mergedata[:,0:2])\n",
    "anno_merge_ind = AnnotationsContainer.from_array(mergedata[:,2:4])\n",
    "anno_merge_cen = AnnotationsContainer.from_array(mergedata[:,4:6])\n",
    "anno_merge_con = AnnotationsContainer.from_array(mergedata[:,6:8])\n",
    "anno_merge_dkn = AnnotationsContainer.from_array(mergedata[:,8:10])"
   ]
  },
  {
   "cell_type": "code",
   "execution_count": null,
   "metadata": {},
   "outputs": [],
   "source": [
    "print(\"\"\"Dependent variable -- kappa & rho\"\"\")\n",
    "print(cohens_kappa(anno_merge_dep.annotations[:,0], anno_merge_dep.annotations[:,1]))\n",
    "print(pearsons_rho(anno_merge_dep.annotations[:,0], anno_merge_dep.annotations[:,1]))\n",
    "\n",
    "print(\"\\nIndependent variable\")\n",
    "print(cohens_kappa(anno_merge_ind.annotations[:,0], anno_merge_ind.annotations[:,1]))\n",
    "print(pearsons_rho(anno_merge_ind.annotations[:,0], anno_merge_ind.annotations[:,1]))\n",
    "\n",
    "print(\"\\nCentral variable\")\n",
    "print(cohens_kappa(anno_merge_cen.annotations[:,0], anno_merge_cen.annotations[:,1]))\n",
    "print(pearsons_rho(anno_merge_cen.annotations[:,0], anno_merge_cen.annotations[:,1]))\n",
    "\n",
    "print(\"\\nControl variable\")\n",
    "print(cohens_kappa(anno_merge_con.annotations[:,0], anno_merge_con.annotations[:,1]))\n",
    "print(pearsons_rho(anno_merge_con.annotations[:,0], anno_merge_con.annotations[:,1]))"
   ]
  },
  {
   "cell_type": "markdown",
   "metadata": {},
   "source": [
    "Whoah! Student coders and authors viewed articles that were \"central\" or critical to the published argument as fundamentally different (exhibiting negative agreement and correlation). Why? Likely because that researchers recalled what they had _intended_ as their central variables before analysis, but those that _worked out_ became central in the text."
   ]
  },
  {
   "cell_type": "markdown",
   "metadata": {},
   "source": [
    "Now for the assessment of the relative values of authors, then student coders."
   ]
  },
  {
   "cell_type": "code",
   "execution_count": null,
   "metadata": {},
   "outputs": [],
   "source": [
    "print(\"Dependent\")\n",
    "print(np.average(anno_merge_dep.annotations[:,0]))\n",
    "print(np.average(anno_merge_dep.annotations[:,1]))\n",
    "\n",
    "print(\"\\nIndependent\")\n",
    "print(np.average(anno_merge_ind.annotations[:,0]))\n",
    "print(np.average(anno_merge_ind.annotations[:,1]))\n",
    "\n",
    "print(\"\\nCentral\")\n",
    "print(np.average(anno_merge_cen.annotations[:,0]))\n",
    "print(np.average(anno_merge_cen.annotations[:,1]))\n",
    "\n",
    "print(\"\\nControl\")\n",
    "print(np.average(anno_merge_con.annotations[:,0]))\n",
    "print(np.average(anno_merge_con.annotations[:,1]))"
   ]
  },
  {
   "cell_type": "markdown",
   "metadata": {},
   "source": [
    "## Now we are going to use models to predict the correct annotations\n",
    "\n",
    "Recall that Model A is built for 8 coders, but we have 6. We're going to *hack* it by adding two blank columns."
   ]
  },
  {
   "cell_type": "code",
   "execution_count": null,
   "metadata": {},
   "outputs": [],
   "source": [
    "dev.shape"
   ]
  },
  {
   "cell_type": "code",
   "execution_count": null,
   "metadata": {},
   "outputs": [],
   "source": [
    "negs2 = np.ones((21461, 2), dtype=np.int)*(-1)\n",
    "devA = np.concatenate((dev, negs2), axis=1)\n",
    "devA"
   ]
  },
  {
   "cell_type": "code",
   "execution_count": null,
   "metadata": {},
   "outputs": [],
   "source": [
    "anno_dvA = AnnotationsContainer.from_array(devA)\n",
    "model_devA = ModelA.create_initial_state(2)\n",
    "model_devA.theta"
   ]
  },
  {
   "cell_type": "code",
   "execution_count": null,
   "metadata": {},
   "outputs": [],
   "source": [
    "model_dvB = ModelB.create_initial_state(2, 6)\n",
    "print(model_dvB.pi)\n",
    "print(model_dvB.log_likelihood(anno_dv.annotations))"
   ]
  },
  {
   "cell_type": "code",
   "execution_count": null,
   "metadata": {},
   "outputs": [],
   "source": [
    "model_dvB.map(anno_dv.annotations)\n",
    "print(model_dvB.pi)\n",
    "print(model_dvB.log_likelihood(anno_dv.annotations))"
   ]
  },
  {
   "cell_type": "code",
   "execution_count": null,
   "metadata": {},
   "outputs": [],
   "source": [
    "# compute the posterior distribution over true annotations\n",
    "posterior_dvB = model_dvB.infer_labels(anno_dv.annotations)\n",
    "# each row show the probability of each label class for the\n",
    "# corresponding item\n",
    "print(posterior)"
   ]
  },
  {
   "cell_type": "code",
   "execution_count": null,
   "metadata": {},
   "outputs": [],
   "source": [
    "samples_dvB = model_dvB.sample_posterior_over_accuracy(anno_dv.annotations, 200, burn_in_samples=100, thin_samples=3)"
   ]
  },
  {
   "cell_type": "code",
   "execution_count": null,
   "metadata": {},
   "outputs": [],
   "source": [
    "# we can then compute a credible interval for the parameters:\n",
    "ci_dv_mean = samples_dvB[0].mean(axis=0)\n",
    "print(\"Mean\")\n",
    "print(ci_dv_mean)\n",
    "\n",
    "ci_dv_stdev = samples_dvB[0].std(axis=0)\n",
    "print(\"\\nSTD\")\n",
    "print(ci_dv_stdev)\n"
   ]
  },
  {
   "cell_type": "markdown",
   "metadata": {},
   "source": [
    "We will use Model B estimates for other variable assessments."
   ]
  },
  {
   "cell_type": "code",
   "execution_count": null,
   "metadata": {},
   "outputs": [],
   "source": [
    "#test\n",
    "model_testB = ModelB.create_initial_state(2, 6)\n",
    "print(model_testB.log_likelihood(anno_test.annotations))\n",
    "model_testB.map(anno_test.annotations)\n",
    "print(model_testB.pi)\n",
    "print(model_testB.log_likelihood(anno_test.annotations))\n",
    "print(anno_test.annotations.shape)\n",
    "posterior_testB = model_testB.infer_labels(anno_test.annotations)\n",
    "print(posterior_testB.shape)\n",
    "samples_testB = model_testB.sample_posterior_over_accuracy(anno_test.annotations, 200, burn_in_samples=100, thin_samples=3)\n",
    "ci_test_mean = samples_testB[0].mean(axis=0)\n",
    "print(ci_test_mean)"
   ]
  },
  {
   "cell_type": "code",
   "execution_count": null,
   "metadata": {},
   "outputs": [],
   "source": [
    "#indepedent variables\n",
    "model_ivB = ModelB.create_initial_state(2, 6)\n",
    "print(model_ivB.log_likelihood(anno_iv.annotations))\n",
    "model_ivB.map(anno_iv.annotations)\n",
    "print(model_ivB.pi)\n",
    "print(model_ivB.log_likelihood(anno_iv.annotations))\n",
    "print(anno_iv.annotations.shape)\n",
    "posterior_ivB = model_ivB.infer_labels(anno_iv.annotations)\n",
    "print(posterior_ivB.shape)\n",
    "samples_ivB = model_ivB.sample_posterior_over_accuracy(anno_iv.annotations, 200, burn_in_samples=100, thin_samples=3)\n",
    "ci_iv_mean = samples_ivB[0].mean(axis=0)\n",
    "print(ci_iv_mean)\n",
    "\n",
    "#central variables\n",
    "model_cvB = ModelB.create_initial_state(2, 6)\n",
    "print(model_cvB.log_likelihood(anno_cv.annotations))\n",
    "model_cvB.map(anno_cv.annotations)\n",
    "print(model_cvB.pi)\n",
    "print(model_cvB.log_likelihood(anno_cv.annotations))\n",
    "print(anno_cv.annotations.shape)\n",
    "posterior_cvB = model_cvB.infer_labels(anno_cv.annotations)\n",
    "print(posterior_cvB.shape)\n",
    "samples_cvB = model_cvB.sample_posterior_over_accuracy(anno_cv.annotations, 200, burn_in_samples=100, thin_samples=3)\n",
    "ci_cv_mean = samples_cvB[0].mean(axis=0)\n",
    "print(ci_cv_mean)\n",
    "\n",
    "#control variables\n",
    "model_ctvB = ModelB.create_initial_state(2, 6)\n",
    "print(model_ctvB.log_likelihood(anno_ctv.annotations))\n",
    "model_ctvB.map(anno_ctv.annotations)\n",
    "print(model_ctvB.pi)\n",
    "print(model_ctvB.log_likelihood(anno_ctv.annotations))\n",
    "print(anno_ctv.annotations.shape)\n",
    "posterior_ctvB = model_ctvB.infer_labels(anno_ctv.annotations)\n",
    "print(posterior_ctvB.shape)\n",
    "samples_ctvB = model_ctvB.sample_posterior_over_accuracy(anno_iv.annotations, 200, burn_in_samples=100, thin_samples=3)\n",
    "ci_ctv_mean = samples_ctvB[0].mean(axis=0)\n",
    "print(ci_ctv_mean)"
   ]
  },
  {
   "cell_type": "markdown",
   "metadata": {},
   "source": [
    "Now we will package up the predicted data into a format we can use for other, subsequent analysis:"
   ]
  },
  {
   "cell_type": "code",
   "execution_count": null,
   "metadata": {},
   "outputs": [],
   "source": [
    "print(posterior_dvB.shape)\n",
    "print(posterior_ivB.shape)\n",
    "print(posterior_cvB.shape)\n",
    "print(posterior_ctvB.shape)"
   ]
  },
  {
   "cell_type": "code",
   "execution_count": null,
   "metadata": {},
   "outputs": [],
   "source": [
    "predicted_annotations = np.concatenate((posterior_dvB, posterior_ivB, posterior_cvB, posterior_ctvB), axis=1) # posterior_dvBt, posterior_ivBt, posterior_cvBt, posterior_ctvBt), axis=1)"
   ]
  },
  {
   "cell_type": "code",
   "execution_count": null,
   "metadata": {},
   "outputs": [],
   "source": [
    "predicted_annotations.shape"
   ]
  },
  {
   "cell_type": "markdown",
   "metadata": {},
   "source": [
    "These annotations allowed us to uncover the degree to which social scientists alter their models to achieve a better fit...undocumented data mining. The answer was that social scientists did mine their data, but that it likely improved their analysis because change in the social world was the result of greater distortion than undocumented data mining."
   ]
  },
  {
   "cell_type": "markdown",
   "metadata": {},
   "source": [
    "## Another example analysis looks at a different data set of Hotel Reviews by a variety of patrons."
   ]
  },
  {
   "cell_type": "code",
   "execution_count": null,
   "metadata": {},
   "outputs": [],
   "source": [
    "df_hotels = pandas.read_csv('../data/hot_Reviews.csv', index_col=0)\n",
    "df_hotels[:5]"
   ]
  },
  {
   "cell_type": "markdown",
   "metadata": {},
   "source": [
    "Here a rank of 0 is a missing value and to simplify things more we will convert from a 1-10 scale to a 1-5 scale, with 0 as missing"
   ]
  },
  {
   "cell_type": "code",
   "execution_count": null,
   "metadata": {},
   "outputs": [],
   "source": [
    "df_hotels = df_hotels.apply(lambda x: x // 2) #integer divide by 2 rounds all values"
   ]
  },
  {
   "cell_type": "markdown",
   "metadata": {},
   "source": [
    "And we can visualize all the reviews as a heatmap with the missing values greyed out"
   ]
  },
  {
   "cell_type": "code",
   "execution_count": null,
   "metadata": {},
   "outputs": [],
   "source": [
    "fig, ax = plt.subplots(figsize = (20,20))\n",
    "seaborn.heatmap(df_hotels, cmap='rainbow', ax = ax)\n",
    "plt.show()"
   ]
  },
  {
   "cell_type": "markdown",
   "metadata": {},
   "source": [
    "To give the dataframe to pyanno we need to convert to np array and change the nans to intergers, lets use -1"
   ]
  },
  {
   "cell_type": "code",
   "execution_count": null,
   "metadata": {},
   "outputs": [],
   "source": [
    "hot_mat = np.array(df_hotels.fillna(-1).as_matrix())\n",
    "anno_hot = AnnotationsContainer.from_array(hot_mat, missing_values=[-1])"
   ]
  },
  {
   "cell_type": "code",
   "execution_count": null,
   "metadata": {},
   "outputs": [],
   "source": [
    "anno_hot.annotations"
   ]
  },
  {
   "cell_type": "code",
   "execution_count": null,
   "metadata": {},
   "outputs": [],
   "source": [
    "anno_hot.labels"
   ]
  },
  {
   "cell_type": "code",
   "execution_count": null,
   "metadata": {},
   "outputs": [],
   "source": [
    "anno_hot.missing_values"
   ]
  },
  {
   "cell_type": "markdown",
   "metadata": {},
   "source": [
    "Look at coder agreement"
   ]
  },
  {
   "cell_type": "code",
   "execution_count": null,
   "metadata": {},
   "outputs": [],
   "source": [
    "pyanno.measures.agreement.labels_frequency(anno_hot.annotations, 6)#6 possible catagories"
   ]
  },
  {
   "cell_type": "code",
   "execution_count": null,
   "metadata": {},
   "outputs": [],
   "source": [
    "c = pyanno.measures.agreement.confusion_matrix(anno_hot.annotations[:,0], anno_hot.annotations[:,1], 6) #6 possible catagories\n",
    "print(c)\n",
    "ac = seaborn.heatmap(c)\n",
    "plt.show()"
   ]
  },
  {
   "cell_type": "markdown",
   "metadata": {},
   "source": [
    "Most agreement is on 2 i.e. an average hotel and there's little agreement as rating go higher, likely due to scarcity in the sample"
   ]
  },
  {
   "cell_type": "code",
   "execution_count": null,
   "metadata": {},
   "outputs": [],
   "source": [
    "scotts_pi(anno_hot.annotations[:,0], anno_hot.annotations[:,1])"
   ]
  },
  {
   "cell_type": "code",
   "execution_count": null,
   "metadata": {},
   "outputs": [],
   "source": [
    "krippendorffs_alpha(anno_hot.annotations[::])"
   ]
  },
  {
   "cell_type": "code",
   "execution_count": null,
   "metadata": {},
   "outputs": [],
   "source": [
    "cohens_kappa(anno_hot.annotations[:,0], anno_hot.annotations[:,1])"
   ]
  },
  {
   "cell_type": "code",
   "execution_count": null,
   "metadata": {},
   "outputs": [],
   "source": [
    "m = pairwise_matrix(cohens_kappa, anno_hot.annotations)\n",
    "fig, ax = plt.subplots(figsize = (15, 15))\n",
    "seaborn.heatmap(m, ax =ax)"
   ]
  },
  {
   "cell_type": "code",
   "execution_count": null,
   "metadata": {},
   "outputs": [],
   "source": [
    "model_hot = ModelBt.create_initial_state(6, 49)\n",
    "model_hot.mle(anno_hot.annotations)\n",
    "print(model.theta)\n",
    "print(model_hot.log_likelihood(anno_hot.annotations))"
   ]
  },
  {
   "cell_type": "code",
   "execution_count": null,
   "metadata": {},
   "outputs": [],
   "source": [
    "def makeQuestionComparison(model, anno_target, num_questions = 20):\n",
    "    votes = []\n",
    "    for r in anno_target.annotations:\n",
    "        v = [0] * len(anno_target.labels)\n",
    "        votes.append(v)\n",
    "        for a in r:\n",
    "            if a > -1:\n",
    "                v[a] += 1\n",
    "    votes_array = np.array(votes)\n",
    "    posterior = model.infer_labels(anno_target.annotations)\n",
    "    fig, (ax1, ax2) = plt.subplots(ncols=2, figsize = (15, 10), sharey=True)\n",
    "\n",
    "    seaborn.heatmap(votes_array[:num_questions], annot = True, ax=ax2)\n",
    "    seaborn.heatmap(np.nan_to_num(posterior,0)[:num_questions], annot=True, ax =ax1)\n",
    "    ax1.set_title(\"Model\")\n",
    "    ax2.set_title(\"Votes\")\n",
    "    return fig, (ax1, ax2)"
   ]
  },
  {
   "cell_type": "code",
   "execution_count": null,
   "metadata": {},
   "outputs": [],
   "source": [
    "makeQuestionComparison(model_hot, anno_hot)"
   ]
  },
  {
   "cell_type": "markdown",
   "metadata": {},
   "source": [
    "## <span style=\"color:red\">*Your turn*</span>\n",
    "\n",
    "<span style=\"color:red\">In the cells immediately following, use the results of your content annotation survey to predict high and low-quality analysts, then predict MAP estimates for your codes in question. What do these estimates suggest about the distribution of skill among your coders? How different are these estimates from a majority vote?"
   ]
  },
  {
   "cell_type": "code",
   "execution_count": 40,
   "metadata": {},
   "outputs": [
    {
     "name": "stdout",
     "output_type": "stream",
     "text": [
      "[[[0.63479514 0.28274789 0.08245697]\n",
      "  [0.03014479 0.81131144 0.15854377]\n",
      "  [0.02957926 0.37835783 0.59206291]]\n",
      "\n",
      " [[0.80271833 0.16295183 0.03432984]\n",
      "  [0.10103107 0.82829459 0.07067434]\n",
      "  [0.06014138 0.17104521 0.76881341]]\n",
      "\n",
      " [[0.62894668 0.21436883 0.15668449]\n",
      "  [0.06854808 0.74313592 0.188316  ]\n",
      "  [0.11122706 0.09904609 0.78972685]]\n",
      "\n",
      " [[0.76366539 0.20360474 0.03272987]\n",
      "  [0.11022535 0.80387347 0.08590118]\n",
      "  [0.01621734 0.13248446 0.8512982 ]]]\n",
      "-19.760198160043167\n"
     ]
    }
   ],
   "source": [
    "# I create a new instance of model A, with 3 label classes, and 4 annotators as they are in my survey\n",
    "model = ModelB.create_initial_state(3, 4)\n",
    "# other model parameters are initialized from the model prior\n",
    "print(model.theta)\n",
    "print(model.log_likelihood(anno.annotations))"
   ]
  },
  {
   "cell_type": "code",
   "execution_count": 41,
   "metadata": {},
   "outputs": [],
   "source": [
    "samples = model.sample_posterior_over_accuracy(anno.annotations, 200, burn_in_samples=100, thin_samples=3)"
   ]
  },
  {
   "cell_type": "code",
   "execution_count": 42,
   "metadata": {},
   "outputs": [
    {
     "name": "stdout",
     "output_type": "stream",
     "text": [
      "[[[0.80922271 0.14305985 0.04771744]\n",
      "  [0.13571277 0.72074542 0.14354181]\n",
      "  [0.04584395 0.13772446 0.81643159]]\n",
      "\n",
      " [[0.80922271 0.14305985 0.04771744]\n",
      "  [0.13571277 0.72074542 0.14354181]\n",
      "  [0.04584395 0.13772446 0.81643159]]\n",
      "\n",
      " [[0.7621082  0.19025764 0.04763415]\n",
      "  [0.13523244 0.72952221 0.13524535]\n",
      "  [0.04583323 0.17505073 0.77911604]]\n",
      "\n",
      " [[0.80922271 0.14314313 0.04763415]\n",
      "  [0.13571277 0.72904188 0.13524535]\n",
      "  [0.04584395 0.17504001 0.77911604]]]\n",
      "-16.051773226046517\n"
     ]
    }
   ],
   "source": [
    "model.map(anno.annotations)\n",
    "print(model.theta)\n",
    "print(model.log_likelihood(anno.annotations))"
   ]
  },
  {
   "cell_type": "code",
   "execution_count": 43,
   "metadata": {},
   "outputs": [
    {
     "name": "stdout",
     "output_type": "stream",
     "text": [
      "[[[0.80922271 0.14305985 0.04771744]\n",
      "  [0.13571277 0.72074542 0.14354181]\n",
      "  [0.04584395 0.13772446 0.81643159]]\n",
      "\n",
      " [[0.80922271 0.14305985 0.04771744]\n",
      "  [0.13571277 0.72074542 0.14354181]\n",
      "  [0.04584395 0.13772446 0.81643159]]\n",
      "\n",
      " [[0.7621082  0.19025764 0.04763415]\n",
      "  [0.13523244 0.72952221 0.13524535]\n",
      "  [0.04583323 0.17505073 0.77911604]]\n",
      "\n",
      " [[0.80922271 0.14314313 0.04763415]\n",
      "  [0.13571277 0.72904188 0.13524535]\n",
      "  [0.04584395 0.17504001 0.77911604]]]\n",
      "-16.051773226046517\n"
     ]
    }
   ],
   "source": [
    "model = ModelB.create_initial_state(3, 4)\n",
    "model.map(anno.annotations)\n",
    "print(model.theta)\n",
    "print(model.log_likelihood(anno.annotations))"
   ]
  },
  {
   "cell_type": "code",
   "execution_count": 44,
   "metadata": {},
   "outputs": [
    {
     "name": "stdout",
     "output_type": "stream",
     "text": [
      "[[9.02835001e-06 3.92342410e-04 9.99598629e-01]\n",
      " [9.02835001e-06 3.92342410e-04 9.99598629e-01]\n",
      " [1.74854860e-03 1.84079379e-01 8.14172072e-01]\n",
      " [3.35832862e-03 9.91691012e-01 4.95065922e-03]\n",
      " [9.99486187e-01 4.98362688e-04 1.54506596e-05]\n",
      " [9.89108833e-01 1.06572448e-02 2.33922676e-04]]\n"
     ]
    }
   ],
   "source": [
    "posterior = model.infer_labels(anno.annotations)\n",
    "print(posterior)"
   ]
  },
  {
   "cell_type": "code",
   "execution_count": 45,
   "metadata": {},
   "outputs": [],
   "source": [
    "votes = []\n",
    "for r in anno.annotations:\n",
    "    v = [0] * len(anno.labels)\n",
    "    votes.append(v)\n",
    "    for a in r:\n",
    "        if a > -1:\n",
    "            v[a] += 1\n",
    "votes_array = np.array(votes)"
   ]
  },
  {
   "cell_type": "code",
   "execution_count": 46,
   "metadata": {},
   "outputs": [
    {
     "data": {
      "image/png": "[encoded data removed]",
      "text/plain": [
       "<Figure size 1080x720 with 4 Axes>"
      ]
     },
     "metadata": {
      "needs_background": "light"
     },
     "output_type": "display_data"
    }
   ],
   "source": [
    "fig, (ax1, ax2) = plt.subplots(ncols=2, figsize = (15, 10), sharey=True)\n",
    "num_questions = 20\n",
    "\n",
    "seaborn.heatmap(votes_array[:num_questions], annot = True, ax=ax2)\n",
    "seaborn.heatmap(posterior[:num_questions], annot=True, ax =ax1)\n",
    "ax1.set_title(\"Model\")\n",
    "ax2.set_title(\"Votes\")\n",
    "plt.show()"
   ]
  },
  {
   "cell_type": "code",
   "execution_count": 47,
   "metadata": {},
   "outputs": [],
   "source": [
    "samples = model.sample_posterior_over_accuracy(anno.annotations, 200, burn_in_samples=100, thin_samples=3)"
   ]
  },
  {
   "cell_type": "code",
   "execution_count": 48,
   "metadata": {},
   "outputs": [
    {
     "name": "stdout",
     "output_type": "stream",
     "text": [
      "[[[0.74343335 0.16745974 0.08910691]\n",
      "  [0.17037956 0.66296337 0.16665707]\n",
      "  [0.07967309 0.17246145 0.74786546]]\n",
      "\n",
      " [[0.75594379 0.16241738 0.08163883]\n",
      "  [0.16078028 0.66173738 0.17748234]\n",
      "  [0.08295447 0.16193794 0.7551076 ]]\n",
      "\n",
      " [[0.71264816 0.20683724 0.0805146 ]\n",
      "  [0.15803828 0.68546384 0.15649788]\n",
      "  [0.0852022  0.1802889  0.7345089 ]]\n",
      "\n",
      " [[0.75557234 0.16251407 0.0819136 ]\n",
      "  [0.15074357 0.68764962 0.1616068 ]\n",
      "  [0.08017127 0.18896085 0.73086788]]]\n",
      "[[[0.09294995 0.07345799 0.05826178]\n",
      "  [0.0756909  0.09948534 0.07529696]\n",
      "  [0.05505642 0.07281928 0.08045393]]\n",
      "\n",
      " [[0.08304747 0.07466398 0.05134095]\n",
      "  [0.07560946 0.09898233 0.09073971]\n",
      "  [0.05637764 0.071103   0.08869273]]\n",
      "\n",
      " [[0.09080622 0.08317666 0.04993024]\n",
      "  [0.06996886 0.08500161 0.06639072]\n",
      "  [0.05432574 0.07768784 0.08844737]]\n",
      "\n",
      " [[0.08374581 0.07315249 0.05563236]\n",
      "  [0.07107869 0.09388385 0.06843315]\n",
      "  [0.04743393 0.07921452 0.08606666]]]\n"
     ]
    }
   ],
   "source": [
    "print(samples[0].mean(axis=0))\n",
    "print(samples[0].std(axis=0))"
   ]
  },
  {
   "cell_type": "code",
   "execution_count": 49,
   "metadata": {},
   "outputs": [
    {
     "name": "stdout",
     "output_type": "stream",
     "text": [
      "[0.7846637  0.68178419 0.93567831 0.68091277]\n",
      "-20.226922811047647\n"
     ]
    }
   ],
   "source": [
    "# now, I'm doing this for model Bt \n",
    "# create a new instance of model B, with 3 label classes and 4 annotators.\n",
    "model = ModelBt.create_initial_state(3, 4)\n",
    "print(model.theta)\n",
    "print(model.log_likelihood(anno.annotations))"
   ]
  },
  {
   "cell_type": "code",
   "execution_count": 50,
   "metadata": {},
   "outputs": [
    {
     "name": "stdout",
     "output_type": "stream",
     "text": [
      "[0.99999997 0.99999998 0.66045304 0.86835945]\n",
      "-14.982824715142526\n"
     ]
    }
   ],
   "source": [
    "model.map(anno.annotations)\n",
    "print(model.theta)\n",
    "print(model.log_likelihood(anno.annotations))"
   ]
  },
  {
   "cell_type": "code",
   "execution_count": 51,
   "metadata": {},
   "outputs": [
    {
     "name": "stdout",
     "output_type": "stream",
     "text": [
      "[[8.35822331e-19 7.43497306e-19 1.00000000e+00]\n",
      " [8.35822331e-19 7.43497306e-19 1.00000000e+00]\n",
      " [4.28968988e-17 1.95840835e-15 1.00000000e+00]\n",
      " [2.84579122e-18 1.00000000e+00 8.61901284e-18]\n",
      " [1.00000000e+00 2.25182114e-18 7.66695575e-18]\n",
      " [1.00000000e+00 3.40783121e-17 2.98260024e-17]]\n"
     ]
    }
   ],
   "source": [
    "posterior = model.infer_labels(anno.annotations)\n",
    "print(posterior)"
   ]
  },
  {
   "cell_type": "code",
   "execution_count": 52,
   "metadata": {},
   "outputs": [
    {
     "data": {
      "image/png": "[encoded data removed]",
      "text/plain": [
       "<Figure size 432x288 with 2 Axes>"
      ]
     },
     "metadata": {
      "needs_background": "light"
     },
     "output_type": "display_data"
    }
   ],
   "source": [
    "#now, I'm visualizing the posterior of the first 10 samples according to ModelBt.\n",
    "ax = seaborn.heatmap(posterior[:10,])\n",
    "plt.show()"
   ]
  },
  {
   "cell_type": "code",
   "execution_count": 53,
   "metadata": {},
   "outputs": [
    {
     "data": {
      "text/plain": [
       "array([[0, 0, 0],\n",
       "       [0, 0, 3],\n",
       "       [1, 3, 3],\n",
       "       [3, 0, 3],\n",
       "       [1, 1, 1],\n",
       "       [0, 1, 3],\n",
       "       [3, 3, 3],\n",
       "       [1, 3, 3],\n",
       "       [0, 0, 2],\n",
       "       [0, 0, 1],\n",
       "       [0, 2, 2],\n",
       "       [2, 2, 2],\n",
       "       [0, 0, 2],\n",
       "       [0, 2, 3],\n",
       "       [2, 0, 2],\n",
       "       [0, 0, 1],\n",
       "       [0, 0, 3],\n",
       "       [3, 2, 0],\n",
       "       [3, 3, 0],\n",
       "       [0, 0, 1]])"
      ]
     },
     "execution_count": 53,
     "metadata": {},
     "output_type": "execute_result"
    }
   ],
   "source": [
    "#Now, I want to generate artificial data from a model\n",
    "model = ModelBt.create_initial_state(4, 3, theta=[0.99,0.75,0.25])\n",
    "#randome generate annotations with 4 label classes and 3 annotators. The accuracy of the three annotators are 0.99, 0.75, and 0.25 respectively.\n",
    "model.generate_annotations(20)"
   ]
  },
  {
   "cell_type": "code",
   "execution_count": 54,
   "metadata": {},
   "outputs": [],
   "source": [
    "model = ModelBt.create_initial_state(3, 4)\n",
    "model.mle(anno.annotations)\n",
    "samples = model.sample_posterior_over_accuracy(anno.annotations, 200, burn_in_samples=100, thin_samples=3)\n",
    "y =  samples.mean(axis=0)#.mean(axis = 1).mean(axis = 1)\n",
    "y_ci = samples.std(axis=0)#.mean(axis = 1).mean(axis = 1)"
   ]
  },
  {
   "cell_type": "code",
   "execution_count": 56,
   "metadata": {},
   "outputs": [
    {
     "data": {
      "image/png": "[encoded data removed]",
      "text/plain": [
       "<Figure size 432x288 with 1 Axes>"
      ]
     },
     "metadata": {
      "needs_background": "light"
     },
     "output_type": "display_data"
    }
   ],
   "source": [
    "plt.figure()\n",
    "plt.errorbar(range(4),y, yerr = y_ci)\n",
    "plt.show()"
   ]
  },
  {
   "cell_type": "code",
   "execution_count": null,
   "metadata": {},
   "outputs": [],
   "source": [
    "#I'm using the results of my content annotations survey now to predict high and low-quality analysts\n",
    "#Then I will predict MAP estimates for my codes in question\n",
    "#I will use this to draw conclustions about the distribution of skills among my coders\n",
    "#I will compate the results from my group to a majority vote"
   ]
  },
  {
   "cell_type": "code",
   "execution_count": 57,
   "metadata": {},
   "outputs": [],
   "source": [
    "#anno_vdep = AnnotationsContainer.from_file(missing_values=[-1], filename=\"GSSvariable_testSdependent.csv\")\n",
    "dev = np.loadtxt(fname=\"../data/dataforgssstudy/n7GSSvariable_testSdependent.csv\", dtype=int, delimiter=\",\")\n",
    "anno_dv = AnnotationsContainer.from_array(dev)\n",
    "\n",
    "ind = np.loadtxt(fname=\"../data/dataforgssstudy/n7GSSvariable_testSindependent.csv\", dtype=int, delimiter=\",\")\n",
    "anno_iv = AnnotationsContainer.from_array(ind)\n",
    "\n",
    "cent = np.loadtxt(fname=\"../data/dataforgssstudy/n7GSSvariable_testScentral.csv\", dtype=int, delimiter=\",\")\n",
    "anno_cv = AnnotationsContainer.from_array(cent)\n",
    "\n",
    "cont = np.loadtxt(fname=\"../data/dataforgssstudy/n7GSSvariable_testScontrol.csv\", dtype=int, delimiter=\",\")\n",
    "anno_ctv = AnnotationsContainer.from_array(cont)\n",
    "\n",
    "test = np.loadtxt(fname=\"../data/dataforgssstudy/testH.csv\", dtype=int, delimiter=\",\")\n",
    "anno_test = AnnotationsContainer.from_array(test)"
   ]
  },
  {
   "cell_type": "code",
   "execution_count": 58,
   "metadata": {},
   "outputs": [
    {
     "data": {
      "text/plain": [
       "(21461, 6)"
      ]
     },
     "execution_count": 58,
     "metadata": {},
     "output_type": "execute_result"
    }
   ],
   "source": [
    "dev.shape"
   ]
  },
  {
   "cell_type": "code",
   "execution_count": 59,
   "metadata": {},
   "outputs": [
    {
     "data": {
      "text/plain": [
       "[0, 1]"
      ]
     },
     "execution_count": 59,
     "metadata": {},
     "output_type": "execute_result"
    }
   ],
   "source": [
    "anno_dv.labels"
   ]
  },
  {
   "cell_type": "code",
   "execution_count": 60,
   "metadata": {},
   "outputs": [
    {
     "data": {
      "text/plain": [
       "[-1]"
      ]
     },
     "execution_count": 60,
     "metadata": {},
     "output_type": "execute_result"
    }
   ],
   "source": [
    "anno_dv.missing_values"
   ]
  },
  {
   "cell_type": "code",
   "execution_count": 61,
   "metadata": {},
   "outputs": [
    {
     "data": {
      "text/plain": [
       "(21461, 6)"
      ]
     },
     "execution_count": 61,
     "metadata": {},
     "output_type": "execute_result"
    }
   ],
   "source": [
    "anno_dv.annotations.shape"
   ]
  },
  {
   "cell_type": "code",
   "execution_count": 62,
   "metadata": {},
   "outputs": [
    {
     "name": "stdout",
     "output_type": "stream",
     "text": [
      "[[1.         0.62426874 0.46682841 0.44599604 0.16569888 0.36657805]\n",
      " [0.62426874 1.         0.53480937 0.52673854 0.3306905  0.59513211]\n",
      " [0.46682841 0.53480937 1.         0.50580068 0.42393752 0.49833997]\n",
      " [0.44599604 0.52673854 0.50580068 1.         0.46517493 0.47023754]\n",
      " [0.16569888 0.3306905  0.42393752 0.46517493 1.         0.66190749]\n",
      " [0.36657805 0.59513211 0.49833997 0.47023754 0.66190749 1.        ]]\n"
     ]
    }
   ],
   "source": [
    "#Now, I'm using Cohens Kappa to visualize the data\n",
    "m = pairwise_matrix(cohens_kappa, anno_dv.annotations)\n",
    "print(m)"
   ]
  },
  {
   "cell_type": "code",
   "execution_count": 63,
   "metadata": {},
   "outputs": [
    {
     "data": {
      "image/png": "[encoded data removed]",
      "text/plain": [
       "<Figure size 432x288 with 2 Axes>"
      ]
     },
     "metadata": {
      "needs_background": "light"
     },
     "output_type": "display_data"
    }
   ],
   "source": [
    "ax = seaborn.heatmap(m)\n",
    "plt.show()"
   ]
  },
  {
   "cell_type": "code",
   "execution_count": 64,
   "metadata": {},
   "outputs": [
    {
     "data": {
      "text/plain": [
       "0.4721425844540702"
      ]
     },
     "execution_count": 64,
     "metadata": {},
     "output_type": "execute_result"
    }
   ],
   "source": [
    "pairwise_metric_average(cohens_kappa, anno_dv.annotations)"
   ]
  },
  {
   "cell_type": "code",
   "execution_count": 66,
   "metadata": {},
   "outputs": [],
   "source": [
    "#Let's compute the statistics on each of the datasets and with Pearson's $\\rho$. \n",
    "datasets = [anno_dv.annotations, anno_iv.annotations, anno_cv.annotations, anno_ctv.annotations]\n",
    "ck = [pairwise_matrix(cohens_kappa, anno) for anno in datasets]\n",
    "pr = [pairwise_matrix(pearsons_rho, anno) for anno in datasets]\n",
    "titles = ['DV', 'IV', 'Central Variable', \"Control Variable\"]"
   ]
  },
  {
   "cell_type": "code",
   "execution_count": 67,
   "metadata": {},
   "outputs": [
    {
     "data": {
      "image/png": "[encoded data removed]",
      "text/plain": [
       "<Figure size 1296x504 with 16 Axes>"
      ]
     },
     "metadata": {
      "needs_background": "light"
     },
     "output_type": "display_data"
    }
   ],
   "source": [
    "fig, axs = plt.subplots(2,4)\n",
    "fig.set_size_inches(18, 7)\n",
    "for k, ax, title in zip(ck,axs[0], titles):\n",
    "    seaborn.heatmap(k, ax = ax)\n",
    "    ax.set_title(title)\n",
    "    ax.set_xticks(())\n",
    "    ax.set_yticks(())\n",
    "for r, ax in zip(pr,axs[1]):\n",
    "    seaborn.heatmap(r, ax = ax)\n",
    "    ax.set_xticks(())\n",
    "    ax.set_yticks(())\n",
    "plt.show()"
   ]
  },
  {
   "cell_type": "code",
   "execution_count": 68,
   "metadata": {},
   "outputs": [],
   "source": [
    "#Now, I'm comparing the student coders\n",
    "nondiag = (np.eye(6)-np.ones(6))*-1.0"
   ]
  },
  {
   "cell_type": "code",
   "execution_count": 69,
   "metadata": {},
   "outputs": [
    {
     "name": "stdout",
     "output_type": "stream",
     "text": [
      "0.47214258445407015\n",
      "0.5142407278222342\n",
      "0.4529627823703711\n",
      "0.47596526866863437\n",
      "0.27082376869768193\n",
      "0.31514049828362706\n",
      "0.32833477875850064\n",
      "0.3945852779196347\n"
     ]
    }
   ],
   "source": [
    "xdevck = pairwise_matrix(cohens_kappa, anno_dv.annotations)\n",
    "xdevpr = pairwise_matrix(pearsons_rho, anno_dv.annotations)\n",
    "\n",
    "xindck = pairwise_matrix(cohens_kappa, anno_iv.annotations)\n",
    "xindpr = pairwise_matrix(pearsons_rho, anno_iv.annotations)\n",
    "\n",
    "xcenck = pairwise_matrix(cohens_kappa, anno_cv.annotations)\n",
    "xcenpr = pairwise_matrix(pearsons_rho, anno_cv.annotations)\n",
    "\n",
    "xconck = pairwise_matrix(cohens_kappa, anno_ctv.annotations)\n",
    "xconpr = pairwise_matrix(pearsons_rho, anno_ctv.annotations)\n",
    "\n",
    "print(np.average(xdevck, weights=nondiag))\n",
    "print(np.average(xdevpr, weights=nondiag))\n",
    "print(np.average(xindck, weights=nondiag))\n",
    "print(np.average(xindpr, weights=nondiag))\n",
    "print(np.average(xcenck, weights=nondiag))\n",
    "print(np.average(xcenpr, weights=nondiag))\n",
    "print(np.average(xconck, weights=nondiag))\n",
    "print(np.average(xconpr, weights=nondiag))"
   ]
  },
  {
   "cell_type": "code",
   "execution_count": 70,
   "metadata": {},
   "outputs": [],
   "source": [
    "mergedata = np.loadtxt(fname=\"../data/dataforgssstudy/gss_mergedataC.txt\", dtype=int, delimiter=\"\\t\")"
   ]
  },
  {
   "cell_type": "code",
   "execution_count": 71,
   "metadata": {},
   "outputs": [],
   "source": [
    "anno_merge_dep = AnnotationsContainer.from_array(mergedata[:,0:2])\n",
    "anno_merge_ind = AnnotationsContainer.from_array(mergedata[:,2:4])\n",
    "anno_merge_cen = AnnotationsContainer.from_array(mergedata[:,4:6])\n",
    "anno_merge_con = AnnotationsContainer.from_array(mergedata[:,6:8])\n",
    "anno_merge_dkn = AnnotationsContainer.from_array(mergedata[:,8:10])"
   ]
  },
  {
   "cell_type": "code",
   "execution_count": 72,
   "metadata": {},
   "outputs": [
    {
     "name": "stdout",
     "output_type": "stream",
     "text": [
      "Dependent variable -- kappa & rho\n",
      "0.3744311057948666\n",
      "0.38563437203620615\n",
      "\n",
      "Independent variable\n",
      "0.5430690164641346\n",
      "0.5529974941771468\n",
      "\n",
      "Central variable\n",
      "-0.064017189548477\n",
      "-0.08887644319259187\n",
      "\n",
      "Control variable\n",
      "0.2815172499181942\n",
      "0.28239237574620263\n"
     ]
    }
   ],
   "source": [
    "print(\"\"\"Dependent variable -- kappa & rho\"\"\")\n",
    "print(cohens_kappa(anno_merge_dep.annotations[:,0], anno_merge_dep.annotations[:,1]))\n",
    "print(pearsons_rho(anno_merge_dep.annotations[:,0], anno_merge_dep.annotations[:,1]))\n",
    "\n",
    "print(\"\\nIndependent variable\")\n",
    "print(cohens_kappa(anno_merge_ind.annotations[:,0], anno_merge_ind.annotations[:,1]))\n",
    "print(pearsons_rho(anno_merge_ind.annotations[:,0], anno_merge_ind.annotations[:,1]))\n",
    "\n",
    "print(\"\\nCentral variable\")\n",
    "print(cohens_kappa(anno_merge_cen.annotations[:,0], anno_merge_cen.annotations[:,1]))\n",
    "print(pearsons_rho(anno_merge_cen.annotations[:,0], anno_merge_cen.annotations[:,1]))\n",
    "\n",
    "print(\"\\nControl variable\")\n",
    "print(cohens_kappa(anno_merge_con.annotations[:,0], anno_merge_con.annotations[:,1]))\n",
    "print(pearsons_rho(anno_merge_con.annotations[:,0], anno_merge_con.annotations[:,1]))"
   ]
  },
  {
   "cell_type": "code",
   "execution_count": 73,
   "metadata": {},
   "outputs": [
    {
     "name": "stdout",
     "output_type": "stream",
     "text": [
      "Dependent\n",
      "0.4763912310286678\n",
      "0.35834738617200673\n",
      "\n",
      "Independent\n",
      "0.23777403035413153\n",
      "0.3136593591905565\n",
      "\n",
      "Central\n",
      "0.35328836424957843\n",
      "0.7512647554806071\n",
      "\n",
      "Control\n",
      "0.081787521079258\n",
      "0.09443507588532883\n"
     ]
    }
   ],
   "source": [
    "print(\"Dependent\")\n",
    "print(np.average(anno_merge_dep.annotations[:,0]))\n",
    "print(np.average(anno_merge_dep.annotations[:,1]))\n",
    "\n",
    "print(\"\\nIndependent\")\n",
    "print(np.average(anno_merge_ind.annotations[:,0]))\n",
    "print(np.average(anno_merge_ind.annotations[:,1]))\n",
    "\n",
    "print(\"\\nCentral\")\n",
    "print(np.average(anno_merge_cen.annotations[:,0]))\n",
    "print(np.average(anno_merge_cen.annotations[:,1]))\n",
    "\n",
    "print(\"\\nControl\")\n",
    "print(np.average(anno_merge_con.annotations[:,0]))\n",
    "print(np.average(anno_merge_con.annotations[:,1]))"
   ]
  },
  {
   "cell_type": "code",
   "execution_count": 74,
   "metadata": {},
   "outputs": [
    {
     "data": {
      "text/plain": [
       "(21461, 6)"
      ]
     },
     "execution_count": 74,
     "metadata": {},
     "output_type": "execute_result"
    }
   ],
   "source": [
    "dev.shape"
   ]
  },
  {
   "cell_type": "code",
   "execution_count": 75,
   "metadata": {},
   "outputs": [
    {
     "data": {
      "text/plain": [
       "array([[ 0, -1, -1, ...,  1, -1, -1],\n",
       "       [ 0, -1, -1, ...,  0, -1, -1],\n",
       "       [ 0, -1, -1, ...,  0, -1, -1],\n",
       "       ...,\n",
       "       [-1, -1, -1, ..., -1, -1, -1],\n",
       "       [-1, -1, -1, ..., -1, -1, -1],\n",
       "       [-1, -1, -1, ..., -1, -1, -1]])"
      ]
     },
     "execution_count": 75,
     "metadata": {},
     "output_type": "execute_result"
    }
   ],
   "source": [
    "negs2 = np.ones((21461, 2), dtype=np.int)*(-1)\n",
    "devA = np.concatenate((dev, negs2), axis=1)\n",
    "devA"
   ]
  },
  {
   "cell_type": "code",
   "execution_count": 76,
   "metadata": {},
   "outputs": [
    {
     "data": {
      "text/plain": [
       "array([0.91095967, 0.7660475 , 0.68018231, 0.76570659, 0.62082923,\n",
       "       0.66608303, 0.71662786, 0.74663377])"
      ]
     },
     "execution_count": 76,
     "metadata": {},
     "output_type": "execute_result"
    }
   ],
   "source": [
    "anno_dvA = AnnotationsContainer.from_array(devA)\n",
    "model_devA = ModelA.create_initial_state(2)\n",
    "model_devA.theta"
   ]
  },
  {
   "cell_type": "code",
   "execution_count": 77,
   "metadata": {},
   "outputs": [
    {
     "name": "stdout",
     "output_type": "stream",
     "text": [
      "[0.15064655 0.84935345]\n",
      "-44008.645450870885\n"
     ]
    }
   ],
   "source": [
    "model_dvB = ModelB.create_initial_state(2, 6)\n",
    "print(model_dvB.pi)\n",
    "print(model_dvB.log_likelihood(anno_dv.annotations))"
   ]
  },
  {
   "cell_type": "code",
   "execution_count": 78,
   "metadata": {},
   "outputs": [
    {
     "name": "stdout",
     "output_type": "stream",
     "text": [
      "[0.69455487 0.30544513]\n",
      "-25462.473635032595\n"
     ]
    }
   ],
   "source": [
    "model_dvB.map(anno_dv.annotations)\n",
    "print(model_dvB.pi)\n",
    "print(model_dvB.log_likelihood(anno_dv.annotations))"
   ]
  },
  {
   "cell_type": "code",
   "execution_count": 79,
   "metadata": {},
   "outputs": [
    {
     "name": "stdout",
     "output_type": "stream",
     "text": [
      "[[8.35822331e-19 7.43497306e-19 1.00000000e+00]\n",
      " [8.35822331e-19 7.43497306e-19 1.00000000e+00]\n",
      " [4.28968988e-17 1.95840835e-15 1.00000000e+00]\n",
      " [2.84579122e-18 1.00000000e+00 8.61901284e-18]\n",
      " [1.00000000e+00 2.25182114e-18 7.66695575e-18]\n",
      " [1.00000000e+00 3.40783121e-17 2.98260024e-17]]\n"
     ]
    }
   ],
   "source": [
    "# compute the posterior distribution over true annotations\n",
    "posterior_dvB = model_dvB.infer_labels(anno_dv.annotations)\n",
    "# each row show the probability of each label class for the\n",
    "# corresponding item\n",
    "print(posterior)"
   ]
  },
  {
   "cell_type": "code",
   "execution_count": 80,
   "metadata": {},
   "outputs": [],
   "source": [
    "samples_dvB = model_dvB.sample_posterior_over_accuracy(anno_dv.annotations, 200, burn_in_samples=100, thin_samples=3)"
   ]
  },
  {
   "cell_type": "code",
   "execution_count": 81,
   "metadata": {},
   "outputs": [
    {
     "name": "stdout",
     "output_type": "stream",
     "text": [
      "Mean\n",
      "[[[0.97905186 0.02094814]\n",
      "  [0.51644684 0.48355316]]\n",
      "\n",
      " [[0.9692439  0.0307561 ]\n",
      "  [0.25958415 0.74041585]]\n",
      "\n",
      " [[0.98277297 0.01722703]\n",
      "  [0.34757395 0.65242605]]\n",
      "\n",
      " [[0.93478884 0.06521116]\n",
      "  [0.24066316 0.75933684]]\n",
      "\n",
      " [[0.69347598 0.30652402]\n",
      "  [0.0464364  0.9535636 ]]\n",
      "\n",
      " [[0.86472813 0.13527187]\n",
      "  [0.06934853 0.93065147]]]\n",
      "\n",
      "STD\n",
      "[[[0.00246125 0.00246125]\n",
      "  [0.0128209  0.0128209 ]]\n",
      "\n",
      " [[0.00311936 0.00311936]\n",
      "  [0.0137813  0.0137813 ]]\n",
      "\n",
      " [[0.00301648 0.00301648]\n",
      "  [0.01319326 0.01319326]]\n",
      "\n",
      " [[0.0048525  0.0048525 ]\n",
      "  [0.01288972 0.01288972]]\n",
      "\n",
      " [[0.00708592 0.00708592]\n",
      "  [0.00573554 0.00573554]]\n",
      "\n",
      " [[0.00716436 0.00716436]\n",
      "  [0.00660002 0.00660002]]]\n"
     ]
    }
   ],
   "source": [
    "# we can then compute a credible interval for the parameters:\n",
    "ci_dv_mean = samples_dvB[0].mean(axis=0)\n",
    "print(\"Mean\")\n",
    "print(ci_dv_mean)\n",
    "\n",
    "ci_dv_stdev = samples_dvB[0].std(axis=0)\n",
    "print(\"\\nSTD\")\n",
    "print(ci_dv_stdev)"
   ]
  },
  {
   "cell_type": "code",
   "execution_count": 82,
   "metadata": {},
   "outputs": [
    {
     "name": "stdout",
     "output_type": "stream",
     "text": [
      "-139.131084480025\n",
      "[9.20933481e-20 1.00000000e+00]\n",
      "-48.9756711393957\n",
      "(48, 6)\n",
      "(48, 2)\n",
      "[[[0.78911861 0.21088139]\n",
      "  [0.11941847 0.88058153]]\n",
      "\n",
      " [[0.80056499 0.19943501]\n",
      "  [0.08985609 0.91014391]]\n",
      "\n",
      " [[0.79414537 0.20585463]\n",
      "  [0.50508418 0.49491582]]\n",
      "\n",
      " [[0.80116385 0.19883615]\n",
      "  [0.07183628 0.92816372]]\n",
      "\n",
      " [[0.80385743 0.19614257]\n",
      "  [0.36981529 0.63018471]]\n",
      "\n",
      " [[0.78941562 0.21058438]\n",
      "  [0.13023376 0.86976624]]]\n"
     ]
    }
   ],
   "source": [
    "#test\n",
    "model_testB = ModelB.create_initial_state(2, 6)\n",
    "print(model_testB.log_likelihood(anno_test.annotations))\n",
    "model_testB.map(anno_test.annotations)\n",
    "print(model_testB.pi)\n",
    "print(model_testB.log_likelihood(anno_test.annotations))\n",
    "print(anno_test.annotations.shape)\n",
    "posterior_testB = model_testB.infer_labels(anno_test.annotations)\n",
    "print(posterior_testB.shape)\n",
    "samples_testB = model_testB.sample_posterior_over_accuracy(anno_test.annotations, 200, burn_in_samples=100, thin_samples=3)\n",
    "ci_test_mean = samples_testB[0].mean(axis=0)\n",
    "print(ci_test_mean)"
   ]
  },
  {
   "cell_type": "code",
   "execution_count": 83,
   "metadata": {},
   "outputs": [
    {
     "name": "stdout",
     "output_type": "stream",
     "text": [
      "-36726.22194324999\n",
      "[0.61093546 0.38906454]\n",
      "-28620.66523246587\n",
      "(21461, 6)\n",
      "(21461, 2)\n",
      "[[[0.9708941  0.0291059 ]\n",
      "  [0.34690461 0.65309539]]\n",
      "\n",
      " [[0.93705416 0.06294584]\n",
      "  [0.0531967  0.9468033 ]]\n",
      "\n",
      " [[0.65788539 0.34211461]\n",
      "  [0.21017007 0.78982993]]\n",
      "\n",
      " [[0.53641302 0.46358698]\n",
      "  [0.03034439 0.96965561]]\n",
      "\n",
      " [[0.87514619 0.12485381]\n",
      "  [0.09752782 0.90247218]]\n",
      "\n",
      " [[0.89101705 0.10898295]\n",
      "  [0.08918764 0.91081236]]]\n",
      "-33328.12886364397\n",
      "[0.23988844 0.76011156]\n",
      "-25034.918555765576\n",
      "(21461, 6)\n",
      "(21461, 2)\n",
      "[[[0.89975659 0.10024341]\n",
      "  [0.07091329 0.92908671]]\n",
      "\n",
      " [[0.79011585 0.20988415]\n",
      "  [0.05919262 0.94080738]]\n",
      "\n",
      " [[0.99198374 0.00801626]\n",
      "  [0.84269561 0.15730439]]\n",
      "\n",
      " [[0.95153517 0.04846483]\n",
      "  [0.45811551 0.54188449]]\n",
      "\n",
      " [[0.680916   0.319084  ]\n",
      "  [0.05830097 0.94169903]]\n",
      "\n",
      " [[0.59552158 0.40447842]\n",
      "  [0.09586119 0.90413881]]]\n",
      "-23050.206460419162\n",
      "[0.83068326 0.16931674]\n",
      "-19415.702035242168\n",
      "(21461, 6)\n",
      "(21461, 2)\n",
      "[[[0.97055037 0.02944963]\n",
      "  [0.34635941 0.65364059]]\n",
      "\n",
      " [[0.9363584  0.0636416 ]\n",
      "  [0.05244209 0.94755791]]\n",
      "\n",
      " [[0.65711387 0.34288613]\n",
      "  [0.20955989 0.79044011]]\n",
      "\n",
      " [[0.53534847 0.46465153]\n",
      "  [0.02991863 0.97008137]]\n",
      "\n",
      " [[0.87429969 0.12570031]\n",
      "  [0.09814514 0.90185486]]\n",
      "\n",
      " [[0.89003564 0.10996436]\n",
      "  [0.08794828 0.91205172]]]\n"
     ]
    }
   ],
   "source": [
    "#indepedent variables\n",
    "model_ivB = ModelB.create_initial_state(2, 6)\n",
    "print(model_ivB.log_likelihood(anno_iv.annotations))\n",
    "model_ivB.map(anno_iv.annotations)\n",
    "print(model_ivB.pi)\n",
    "print(model_ivB.log_likelihood(anno_iv.annotations))\n",
    "print(anno_iv.annotations.shape)\n",
    "posterior_ivB = model_ivB.infer_labels(anno_iv.annotations)\n",
    "print(posterior_ivB.shape)\n",
    "samples_ivB = model_ivB.sample_posterior_over_accuracy(anno_iv.annotations, 200, burn_in_samples=100, thin_samples=3)\n",
    "ci_iv_mean = samples_ivB[0].mean(axis=0)\n",
    "print(ci_iv_mean)\n",
    "\n",
    "#central variables\n",
    "model_cvB = ModelB.create_initial_state(2, 6)\n",
    "print(model_cvB.log_likelihood(anno_cv.annotations))\n",
    "model_cvB.map(anno_cv.annotations)\n",
    "print(model_cvB.pi)\n",
    "print(model_cvB.log_likelihood(anno_cv.annotations))\n",
    "print(anno_cv.annotations.shape)\n",
    "posterior_cvB = model_cvB.infer_labels(anno_cv.annotations)\n",
    "print(posterior_cvB.shape)\n",
    "samples_cvB = model_cvB.sample_posterior_over_accuracy(anno_cv.annotations, 200, burn_in_samples=100, thin_samples=3)\n",
    "ci_cv_mean = samples_cvB[0].mean(axis=0)\n",
    "print(ci_cv_mean)\n",
    "\n",
    "#control variables\n",
    "model_ctvB = ModelB.create_initial_state(2, 6)\n",
    "print(model_ctvB.log_likelihood(anno_ctv.annotations))\n",
    "model_ctvB.map(anno_ctv.annotations)\n",
    "print(model_ctvB.pi)\n",
    "print(model_ctvB.log_likelihood(anno_ctv.annotations))\n",
    "print(anno_ctv.annotations.shape)\n",
    "posterior_ctvB = model_ctvB.infer_labels(anno_ctv.annotations)\n",
    "print(posterior_ctvB.shape)\n",
    "samples_ctvB = model_ctvB.sample_posterior_over_accuracy(anno_iv.annotations, 200, burn_in_samples=100, thin_samples=3)\n",
    "ci_ctv_mean = samples_ctvB[0].mean(axis=0)\n",
    "print(ci_ctv_mean)"
   ]
  },
  {
   "cell_type": "code",
   "execution_count": 84,
   "metadata": {},
   "outputs": [
    {
     "name": "stdout",
     "output_type": "stream",
     "text": [
      "(21461, 2)\n",
      "(21461, 2)\n",
      "(21461, 2)\n",
      "(21461, 2)\n"
     ]
    }
   ],
   "source": [
    "print(posterior_dvB.shape)\n",
    "print(posterior_ivB.shape)\n",
    "print(posterior_cvB.shape)\n",
    "print(posterior_ctvB.shape)"
   ]
  },
  {
   "cell_type": "code",
   "execution_count": 85,
   "metadata": {},
   "outputs": [],
   "source": [
    "predicted_annotations = np.concatenate((posterior_dvB, posterior_ivB, posterior_cvB, posterior_ctvB), axis=1) # posterior_dvBt, posterior_ivBt, posterior_cvBt, posterior_ctvBt), axis=1)"
   ]
  },
  {
   "cell_type": "code",
   "execution_count": 86,
   "metadata": {},
   "outputs": [
    {
     "data": {
      "text/plain": [
       "(21461, 8)"
      ]
     },
     "execution_count": 86,
     "metadata": {},
     "output_type": "execute_result"
    }
   ],
   "source": [
    "predicted_annotations.shape"
   ]
  },
  {
   "cell_type": "code",
   "execution_count": 87,
   "metadata": {},
   "outputs": [
    {
     "data": {
      "text/html": [
       "<div>\n",
       "<style scoped>\n",
       "    .dataframe tbody tr th:only-of-type {\n",
       "        vertical-align: middle;\n",
       "    }\n",
       "\n",
       "    .dataframe tbody tr th {\n",
       "        vertical-align: top;\n",
       "    }\n",
       "\n",
       "    .dataframe thead th {\n",
       "        text-align: right;\n",
       "    }\n",
       "</style>\n",
       "<table border=\"1\" class=\"dataframe\">\n",
       "  <thead>\n",
       "    <tr style=\"text-align: right;\">\n",
       "      <th></th>\n",
       "      <th>Karen</th>\n",
       "      <th>Scott</th>\n",
       "      <th>Jessica</th>\n",
       "      <th>write a review</th>\n",
       "      <th>A verified traveler</th>\n",
       "      <th>Kevin</th>\n",
       "      <th>William</th>\n",
       "      <th>R</th>\n",
       "      <th>S</th>\n",
       "      <th>Christopher</th>\n",
       "      <th>...</th>\n",
       "      <th>Thomas</th>\n",
       "      <th>Susan</th>\n",
       "      <th>A Traveler</th>\n",
       "      <th>M</th>\n",
       "      <th>Not Provided</th>\n",
       "      <th>B</th>\n",
       "      <th>Laura</th>\n",
       "      <th>xxxxxxxxxxxxxx</th>\n",
       "      <th>Michael</th>\n",
       "      <th>Joseph</th>\n",
       "    </tr>\n",
       "  </thead>\n",
       "  <tbody>\n",
       "    <tr>\n",
       "      <td>1785 Inn</td>\n",
       "      <td>NaN</td>\n",
       "      <td>NaN</td>\n",
       "      <td>NaN</td>\n",
       "      <td>NaN</td>\n",
       "      <td>NaN</td>\n",
       "      <td>NaN</td>\n",
       "      <td>NaN</td>\n",
       "      <td>NaN</td>\n",
       "      <td>NaN</td>\n",
       "      <td>NaN</td>\n",
       "      <td>...</td>\n",
       "      <td>NaN</td>\n",
       "      <td>NaN</td>\n",
       "      <td>NaN</td>\n",
       "      <td>NaN</td>\n",
       "      <td>NaN</td>\n",
       "      <td>NaN</td>\n",
       "      <td>NaN</td>\n",
       "      <td>NaN</td>\n",
       "      <td>NaN</td>\n",
       "      <td>NaN</td>\n",
       "    </tr>\n",
       "    <tr>\n",
       "      <td>1900 House</td>\n",
       "      <td>NaN</td>\n",
       "      <td>NaN</td>\n",
       "      <td>NaN</td>\n",
       "      <td>NaN</td>\n",
       "      <td>NaN</td>\n",
       "      <td>NaN</td>\n",
       "      <td>NaN</td>\n",
       "      <td>NaN</td>\n",
       "      <td>NaN</td>\n",
       "      <td>NaN</td>\n",
       "      <td>...</td>\n",
       "      <td>NaN</td>\n",
       "      <td>NaN</td>\n",
       "      <td>NaN</td>\n",
       "      <td>NaN</td>\n",
       "      <td>NaN</td>\n",
       "      <td>NaN</td>\n",
       "      <td>NaN</td>\n",
       "      <td>NaN</td>\n",
       "      <td>NaN</td>\n",
       "      <td>NaN</td>\n",
       "    </tr>\n",
       "    <tr>\n",
       "      <td>A Bed &amp; Breakfast In Cambridge</td>\n",
       "      <td>NaN</td>\n",
       "      <td>NaN</td>\n",
       "      <td>NaN</td>\n",
       "      <td>NaN</td>\n",
       "      <td>NaN</td>\n",
       "      <td>NaN</td>\n",
       "      <td>NaN</td>\n",
       "      <td>NaN</td>\n",
       "      <td>NaN</td>\n",
       "      <td>NaN</td>\n",
       "      <td>...</td>\n",
       "      <td>NaN</td>\n",
       "      <td>NaN</td>\n",
       "      <td>3.0</td>\n",
       "      <td>NaN</td>\n",
       "      <td>NaN</td>\n",
       "      <td>NaN</td>\n",
       "      <td>NaN</td>\n",
       "      <td>NaN</td>\n",
       "      <td>NaN</td>\n",
       "      <td>NaN</td>\n",
       "    </tr>\n",
       "    <tr>\n",
       "      <td>A Swallow's Nest Motel</td>\n",
       "      <td>NaN</td>\n",
       "      <td>NaN</td>\n",
       "      <td>NaN</td>\n",
       "      <td>NaN</td>\n",
       "      <td>NaN</td>\n",
       "      <td>NaN</td>\n",
       "      <td>NaN</td>\n",
       "      <td>NaN</td>\n",
       "      <td>NaN</td>\n",
       "      <td>NaN</td>\n",
       "      <td>...</td>\n",
       "      <td>NaN</td>\n",
       "      <td>NaN</td>\n",
       "      <td>NaN</td>\n",
       "      <td>NaN</td>\n",
       "      <td>NaN</td>\n",
       "      <td>NaN</td>\n",
       "      <td>NaN</td>\n",
       "      <td>NaN</td>\n",
       "      <td>NaN</td>\n",
       "      <td>NaN</td>\n",
       "    </tr>\n",
       "    <tr>\n",
       "      <td>Abbeville Inn</td>\n",
       "      <td>NaN</td>\n",
       "      <td>NaN</td>\n",
       "      <td>NaN</td>\n",
       "      <td>NaN</td>\n",
       "      <td>NaN</td>\n",
       "      <td>NaN</td>\n",
       "      <td>NaN</td>\n",
       "      <td>NaN</td>\n",
       "      <td>NaN</td>\n",
       "      <td>NaN</td>\n",
       "      <td>...</td>\n",
       "      <td>NaN</td>\n",
       "      <td>NaN</td>\n",
       "      <td>NaN</td>\n",
       "      <td>NaN</td>\n",
       "      <td>NaN</td>\n",
       "      <td>NaN</td>\n",
       "      <td>NaN</td>\n",
       "      <td>NaN</td>\n",
       "      <td>NaN</td>\n",
       "      <td>NaN</td>\n",
       "    </tr>\n",
       "  </tbody>\n",
       "</table>\n",
       "<p>5 rows × 49 columns</p>\n",
       "</div>"
      ],
      "text/plain": [
       "                                Karen  Scott  Jessica  write a review  \\\n",
       "1785 Inn                          NaN    NaN      NaN             NaN   \n",
       "1900 House                        NaN    NaN      NaN             NaN   \n",
       "A Bed & Breakfast In Cambridge    NaN    NaN      NaN             NaN   \n",
       "A Swallow's Nest Motel            NaN    NaN      NaN             NaN   \n",
       "Abbeville Inn                     NaN    NaN      NaN             NaN   \n",
       "\n",
       "                                A verified traveler  Kevin  William   R   S  \\\n",
       "1785 Inn                                        NaN    NaN      NaN NaN NaN   \n",
       "1900 House                                      NaN    NaN      NaN NaN NaN   \n",
       "A Bed & Breakfast In Cambridge                  NaN    NaN      NaN NaN NaN   \n",
       "A Swallow's Nest Motel                          NaN    NaN      NaN NaN NaN   \n",
       "Abbeville Inn                                   NaN    NaN      NaN NaN NaN   \n",
       "\n",
       "                                Christopher  ...  Thomas  Susan  A Traveler  \\\n",
       "1785 Inn                                NaN  ...     NaN    NaN         NaN   \n",
       "1900 House                              NaN  ...     NaN    NaN         NaN   \n",
       "A Bed & Breakfast In Cambridge          NaN  ...     NaN    NaN         3.0   \n",
       "A Swallow's Nest Motel                  NaN  ...     NaN    NaN         NaN   \n",
       "Abbeville Inn                           NaN  ...     NaN    NaN         NaN   \n",
       "\n",
       "                                 M  Not Provided   B  Laura  xxxxxxxxxxxxxx  \\\n",
       "1785 Inn                       NaN           NaN NaN    NaN             NaN   \n",
       "1900 House                     NaN           NaN NaN    NaN             NaN   \n",
       "A Bed & Breakfast In Cambridge NaN           NaN NaN    NaN             NaN   \n",
       "A Swallow's Nest Motel         NaN           NaN NaN    NaN             NaN   \n",
       "Abbeville Inn                  NaN           NaN NaN    NaN             NaN   \n",
       "\n",
       "                                Michael  Joseph  \n",
       "1785 Inn                            NaN     NaN  \n",
       "1900 House                          NaN     NaN  \n",
       "A Bed & Breakfast In Cambridge      NaN     NaN  \n",
       "A Swallow's Nest Motel              NaN     NaN  \n",
       "Abbeville Inn                       NaN     NaN  \n",
       "\n",
       "[5 rows x 49 columns]"
      ]
     },
     "execution_count": 87,
     "metadata": {},
     "output_type": "execute_result"
    }
   ],
   "source": [
    "#Now, Im doing the hotel review example\n",
    "\n",
    "df_hotels = pandas.read_csv('../data/hot_Reviews.csv', index_col=0)\n",
    "df_hotels[:5]"
   ]
  },
  {
   "cell_type": "code",
   "execution_count": 88,
   "metadata": {},
   "outputs": [],
   "source": [
    "df_hotels = df_hotels.apply(lambda x: x // 2) #integer divide by 2 rounds all values"
   ]
  },
  {
   "cell_type": "code",
   "execution_count": 89,
   "metadata": {},
   "outputs": [
    {
     "data": {
      "image/png": "[encoded data removed]",
      "text/plain": [
       "<Figure size 1440x1440 with 2 Axes>"
      ]
     },
     "metadata": {
      "needs_background": "light"
     },
     "output_type": "display_data"
    }
   ],
   "source": [
    "fig, ax = plt.subplots(figsize = (20,20))\n",
    "seaborn.heatmap(df_hotels, cmap='rainbow', ax = ax)\n",
    "plt.show()"
   ]
  },
  {
   "cell_type": "code",
   "execution_count": 90,
   "metadata": {},
   "outputs": [],
   "source": [
    "hot_mat = np.array(df_hotels.fillna(-1).as_matrix())\n",
    "anno_hot = AnnotationsContainer.from_array(hot_mat, missing_values=[-1])"
   ]
  },
  {
   "cell_type": "code",
   "execution_count": 91,
   "metadata": {},
   "outputs": [
    {
     "data": {
      "text/plain": [
       "array([[-1, -1, -1, ..., -1, -1, -1],\n",
       "       [-1, -1, -1, ..., -1, -1, -1],\n",
       "       [-1, -1, -1, ..., -1, -1, -1],\n",
       "       ...,\n",
       "       [-1, -1, -1, ..., -1, -1, -1],\n",
       "       [-1, -1, -1, ..., -1, -1, -1],\n",
       "       [-1, -1, -1, ..., -1, -1, -1]])"
      ]
     },
     "execution_count": 91,
     "metadata": {},
     "output_type": "execute_result"
    }
   ],
   "source": [
    "anno_hot.annotations"
   ]
  },
  {
   "cell_type": "code",
   "execution_count": 92,
   "metadata": {},
   "outputs": [
    {
     "data": {
      "text/plain": [
       "[0.0, 1.0, 2.0, 3.0, 4.0, 5.0]"
      ]
     },
     "execution_count": 92,
     "metadata": {},
     "output_type": "execute_result"
    }
   ],
   "source": [
    "anno_hot.labels"
   ]
  },
  {
   "cell_type": "code",
   "execution_count": 93,
   "metadata": {},
   "outputs": [
    {
     "data": {
      "text/plain": [
       "[-1]"
      ]
     },
     "execution_count": 93,
     "metadata": {},
     "output_type": "execute_result"
    }
   ],
   "source": [
    "anno_hot.missing_values"
   ]
  },
  {
   "cell_type": "code",
   "execution_count": 94,
   "metadata": {},
   "outputs": [
    {
     "data": {
      "text/plain": [
       "array([0.07806534, 0.26262198, 0.63555367, 0.00636402, 0.0093339 ,\n",
       "       0.00806109])"
      ]
     },
     "execution_count": 94,
     "metadata": {},
     "output_type": "execute_result"
    }
   ],
   "source": [
    "pyanno.measures.agreement.labels_frequency(anno_hot.annotations, 6)#6 possible catagories"
   ]
  },
  {
   "cell_type": "code",
   "execution_count": 95,
   "metadata": {},
   "outputs": [
    {
     "name": "stdout",
     "output_type": "stream",
     "text": [
      "[[0. 0. 0. 0. 0. 0.]\n",
      " [0. 0. 1. 0. 0. 0.]\n",
      " [1. 0. 4. 0. 0. 0.]\n",
      " [0. 0. 0. 0. 0. 0.]\n",
      " [0. 0. 0. 0. 0. 0.]\n",
      " [0. 0. 0. 0. 0. 0.]]\n"
     ]
    },
    {
     "data": {
      "image/png": "[encoded data removed]",
      "text/plain": [
       "<Figure size 432x288 with 2 Axes>"
      ]
     },
     "metadata": {
      "needs_background": "light"
     },
     "output_type": "display_data"
    }
   ],
   "source": [
    "c = pyanno.measures.agreement.confusion_matrix(anno_hot.annotations[:,0], anno_hot.annotations[:,1], 6) #6 possible catagories\n",
    "print(c)\n",
    "ac = seaborn.heatmap(c)\n",
    "plt.show()"
   ]
  },
  {
   "cell_type": "code",
   "execution_count": null,
   "metadata": {},
   "outputs": [],
   "source": [
    "#Moste agreement is on xxx"
   ]
  },
  {
   "cell_type": "code",
   "execution_count": 96,
   "metadata": {},
   "outputs": [
    {
     "data": {
      "text/plain": [
       "0.3787878787878787"
      ]
     },
     "execution_count": 96,
     "metadata": {},
     "output_type": "execute_result"
    }
   ],
   "source": [
    "scotts_pi(anno_hot.annotations[:,0], anno_hot.annotations[:,1])"
   ]
  },
  {
   "cell_type": "code",
   "execution_count": 97,
   "metadata": {},
   "outputs": [
    {
     "data": {
      "text/plain": [
       "0.398760907615921"
      ]
     },
     "execution_count": 97,
     "metadata": {},
     "output_type": "execute_result"
    }
   ],
   "source": [
    "krippendorffs_alpha(anno_hot.annotations[::])"
   ]
  },
  {
   "cell_type": "code",
   "execution_count": 98,
   "metadata": {},
   "outputs": [
    {
     "data": {
      "text/plain": [
       "0.40328336902212697"
      ]
     },
     "execution_count": 98,
     "metadata": {},
     "output_type": "execute_result"
    }
   ],
   "source": [
    "cohens_kappa(anno_hot.annotations[:,0], anno_hot.annotations[:,1])"
   ]
  },
  {
   "cell_type": "code",
   "execution_count": 99,
   "metadata": {},
   "outputs": [
    {
     "name": "stderr",
     "output_type": "stream",
     "text": [
      "/opt/anaconda3/lib/python3.7/site-packages/pyanno/measures/helpers.py:166: RuntimeWarning: invalid value encountered in double_scalars\n",
      "  return (observed_agreement - chance_agreement) / (1. - chance_agreement)\n"
     ]
    },
    {
     "data": {
      "text/plain": [
       "<matplotlib.axes._subplots.AxesSubplot at 0x1a453bec90>"
      ]
     },
     "execution_count": 99,
     "metadata": {},
     "output_type": "execute_result"
    },
    {
     "data": {
      "image/png": "[encoded data removed]",
      "text/plain": [
       "<Figure size 1080x1080 with 2 Axes>"
      ]
     },
     "metadata": {
      "needs_background": "light"
     },
     "output_type": "display_data"
    }
   ],
   "source": [
    "m = pairwise_matrix(cohens_kappa, anno_hot.annotations)\n",
    "fig, ax = plt.subplots(figsize = (15, 15))\n",
    "seaborn.heatmap(m, ax =ax)"
   ]
  },
  {
   "cell_type": "code",
   "execution_count": 100,
   "metadata": {},
   "outputs": [
    {
     "name": "stdout",
     "output_type": "stream",
     "text": [
      "[0.99999997 0.9987869  0.67380832 0.83858326]\n",
      "-2709.410324340577\n"
     ]
    }
   ],
   "source": [
    "model_hot = ModelBt.create_initial_state(6, 49)\n",
    "model_hot.mle(anno_hot.annotations)\n",
    "print(model.theta)\n",
    "print(model_hot.log_likelihood(anno_hot.annotations))"
   ]
  },
  {
   "cell_type": "code",
   "execution_count": 101,
   "metadata": {},
   "outputs": [],
   "source": [
    "def makeQuestionComparison(model, anno_target, num_questions = 20):\n",
    "    votes = []\n",
    "    for r in anno_target.annotations:\n",
    "        v = [0] * len(anno_target.labels)\n",
    "        votes.append(v)\n",
    "        for a in r:\n",
    "            if a > -1:\n",
    "                v[a] += 1\n",
    "    votes_array = np.array(votes)\n",
    "    posterior = model.infer_labels(anno_target.annotations)\n",
    "    fig, (ax1, ax2) = plt.subplots(ncols=2, figsize = (15, 10), sharey=True)\n",
    "\n",
    "    seaborn.heatmap(votes_array[:num_questions], annot = True, ax=ax2)\n",
    "    seaborn.heatmap(np.nan_to_num(posterior,0)[:num_questions], annot=True, ax =ax1)\n",
    "    ax1.set_title(\"Model\")\n",
    "    ax2.set_title(\"Votes\")\n",
    "    return fig, (ax1, ax2)"
   ]
  },
  {
   "cell_type": "code",
   "execution_count": 102,
   "metadata": {},
   "outputs": [
    {
     "data": {
      "text/plain": [
       "(<Figure size 1080x720 with 4 Axes>,\n",
       " (<matplotlib.axes._subplots.AxesSubplot at 0x1a453a6f50>,\n",
       "  <matplotlib.axes._subplots.AxesSubplot at 0x1a457ada90>))"
      ]
     },
     "execution_count": 102,
     "metadata": {},
     "output_type": "execute_result"
    },
    {
     "data": {
      "image/png": "[encoded data removed]",
      "text/plain": [
       "<Figure size 1080x720 with 4 Axes>"
      ]
     },
     "metadata": {
      "needs_background": "light"
     },
     "output_type": "display_data"
    }
   ],
   "source": [
    "makeQuestionComparison(model_hot, anno_hot)"
   ]
  },
  {
   "cell_type": "code",
   "execution_count": null,
   "metadata": {},
   "outputs": [],
   "source": [
    "#END"
   ]
  }
 ],
 "metadata": {
  "anaconda-cloud": {},
  "kernelspec": {
   "display_name": "Python 3",
   "language": "python",
   "name": "python3"
  },
  "language_info": {
   "codemirror_mode": {
    "name": "ipython",
    "version": 3
   },
   "file_extension": ".py",
   "mimetype": "text/x-python",
   "name": "python",
   "nbconvert_exporter": "python",
   "pygments_lexer": "ipython3",
   "version": "3.7.4"
  }
 },
 "nbformat": 4,
 "nbformat_minor": 1
}
