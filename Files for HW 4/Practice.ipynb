{
 "cells": [
  {
   "cell_type": "code",
   "execution_count": null,
   "metadata": {},
   "outputs": [],
   "source": [
    "mydata = open(corpus_abstractsOH)\n",
    "content = mydata.read()\n",
    "re.sub(' +', ' ',content)\n",
    "print(content)\n",
    "mydata.close()"
   ]
  },
  {
   "cell_type": "code",
   "execution_count": null,
   "metadata": {},
   "outputs": [],
   "source": [
    "import re\n",
    "string4=\"   This is      Test String   to test   duplicate spaces   \"\n",
    "print (string4)\n",
    "print (re.sub(' +', ' ',string4))"
   ]
  },
  {
   "cell_type": "code",
   "execution_count": null,
   "metadata": {},
   "outputs": [],
   "source": [
    "type(content)"
   ]
  },
  {
   "cell_type": "code",
   "execution_count": null,
   "metadata": {},
   "outputs": [],
   "source": []
  },
  {
   "cell_type": "code",
   "execution_count": null,
   "metadata": {},
   "outputs": [],
   "source": []
  },
  {
   "cell_type": "code",
   "execution_count": null,
   "metadata": {},
   "outputs": [],
   "source": []
  },
  {
   "cell_type": "code",
   "execution_count": null,
   "metadata": {},
   "outputs": [],
   "source": [
    "[1,2,3]"
   ]
  },
  {
   "cell_type": "code",
   "execution_count": null,
   "metadata": {},
   "outputs": [],
   "source": [
    "#List of Tuples\n",
    "#helpful for vectors\n",
    "[(1,2), (3,4), (1, 5)]"
   ]
  },
  {
   "cell_type": "code",
   "execution_count": 3,
   "metadata": {},
   "outputs": [],
   "source": [
    "variable  = [(1,2), (3,4), (1, 5)]"
   ]
  },
  {
   "cell_type": "code",
   "execution_count": 4,
   "metadata": {},
   "outputs": [
    {
     "data": {
      "text/plain": [
       "[(1, 2), (3, 4), (1, 5)]"
      ]
     },
     "execution_count": 4,
     "metadata": {},
     "output_type": "execute_result"
    }
   ],
   "source": [
    "#call varibale\n",
    "variable"
   ]
  },
  {
   "cell_type": "code",
   "execution_count": 10,
   "metadata": {},
   "outputs": [
    {
     "data": {
      "text/plain": [
       "list"
      ]
     },
     "execution_count": 10,
     "metadata": {},
     "output_type": "execute_result"
    }
   ],
   "source": [
    "#when unsure of what varibale is check it with this builtin method\n",
    "type(variable)"
   ]
  },
  {
   "cell_type": "code",
   "execution_count": null,
   "metadata": {},
   "outputs": [],
   "source": [
    "variable2\n",
    "variable3"
   ]
  },
  {
   "cell_type": "code",
   "execution_count": 14,
   "metadata": {},
   "outputs": [],
   "source": [
    "list_1 = [[1,2,3], [4,5,6]]"
   ]
  },
  {
   "cell_type": "code",
   "execution_count": 20,
   "metadata": {},
   "outputs": [
    {
     "name": "stdout",
     "output_type": "stream",
     "text": [
      "[1, 2, 3]\n",
      "[4, 5, 6]\n"
     ]
    }
   ],
   "source": [
    "#index (n+1) - steht fuer ersten INhat in der Liste, laueft durch\n",
    "print(list_1[0])\n",
    "print(list_1[1])"
   ]
  },
  {
   "cell_type": "code",
   "execution_count": 21,
   "metadata": {},
   "outputs": [
    {
     "data": {
      "text/plain": [
       "2"
      ]
     },
     "execution_count": 21,
     "metadata": {},
     "output_type": "execute_result"
    }
   ],
   "source": [
    "list_1 = [[1,2,3], [4,5,6]]\n",
    "list_1[0][1] \n",
    "#liefert zweite Stelle aus erster Liste"
   ]
  },
  {
   "cell_type": "code",
   "execution_count": 11,
   "metadata": {},
   "outputs": [],
   "source": [
    "#Pandas\n",
    "\n",
    "import numpy as np\n",
    "import pandas as pd\n"
   ]
  },
  {
   "cell_type": "code",
   "execution_count": 22,
   "metadata": {},
   "outputs": [
    {
     "data": {
      "text/html": [
       "<div>\n",
       "<style scoped>\n",
       "    .dataframe tbody tr th:only-of-type {\n",
       "        vertical-align: middle;\n",
       "    }\n",
       "\n",
       "    .dataframe tbody tr th {\n",
       "        vertical-align: top;\n",
       "    }\n",
       "\n",
       "    .dataframe thead th {\n",
       "        text-align: right;\n",
       "    }\n",
       "</style>\n",
       "<table border=\"1\" class=\"dataframe\">\n",
       "  <thead>\n",
       "    <tr style=\"text-align: right;\">\n",
       "      <th></th>\n",
       "      <th>0</th>\n",
       "      <th>1</th>\n",
       "      <th>2</th>\n",
       "    </tr>\n",
       "  </thead>\n",
       "  <tbody>\n",
       "    <tr>\n",
       "      <td>0</td>\n",
       "      <td>1</td>\n",
       "      <td>2</td>\n",
       "      <td>3</td>\n",
       "    </tr>\n",
       "    <tr>\n",
       "      <td>1</td>\n",
       "      <td>4</td>\n",
       "      <td>5</td>\n",
       "      <td>6</td>\n",
       "    </tr>\n",
       "  </tbody>\n",
       "</table>\n",
       "</div>"
      ],
      "text/plain": [
       "   0  1  2\n",
       "0  1  2  3\n",
       "1  4  5  6"
      ]
     },
     "execution_count": 22,
     "metadata": {},
     "output_type": "execute_result"
    }
   ],
   "source": [
    "#pd = Library\n",
    "#DataFrame (alsways table); muesen gleiche Art haben, gleiche Laenge...\n",
    "#Elemente in der Liste \n",
    "\n",
    "pd.DataFrame(list_1)"
   ]
  },
  {
   "cell_type": "code",
   "execution_count": 23,
   "metadata": {},
   "outputs": [
    {
     "data": {
      "text/html": [
       "<div>\n",
       "<style scoped>\n",
       "    .dataframe tbody tr th:only-of-type {\n",
       "        vertical-align: middle;\n",
       "    }\n",
       "\n",
       "    .dataframe tbody tr th {\n",
       "        vertical-align: top;\n",
       "    }\n",
       "\n",
       "    .dataframe thead th {\n",
       "        text-align: right;\n",
       "    }\n",
       "</style>\n",
       "<table border=\"1\" class=\"dataframe\">\n",
       "  <thead>\n",
       "    <tr style=\"text-align: right;\">\n",
       "      <th></th>\n",
       "      <th>0</th>\n",
       "      <th>1</th>\n",
       "      <th>2</th>\n",
       "      <th>3</th>\n",
       "      <th>4</th>\n",
       "    </tr>\n",
       "  </thead>\n",
       "  <tbody>\n",
       "    <tr>\n",
       "      <td>0</td>\n",
       "      <td>0.341303</td>\n",
       "      <td>0.225139</td>\n",
       "      <td>0.962712</td>\n",
       "      <td>0.818661</td>\n",
       "      <td>0.756594</td>\n",
       "    </tr>\n",
       "    <tr>\n",
       "      <td>1</td>\n",
       "      <td>0.297128</td>\n",
       "      <td>0.877670</td>\n",
       "      <td>0.262309</td>\n",
       "      <td>0.278439</td>\n",
       "      <td>0.327071</td>\n",
       "    </tr>\n",
       "    <tr>\n",
       "      <td>2</td>\n",
       "      <td>0.762332</td>\n",
       "      <td>0.344529</td>\n",
       "      <td>0.028942</td>\n",
       "      <td>0.673287</td>\n",
       "      <td>0.435459</td>\n",
       "    </tr>\n",
       "    <tr>\n",
       "      <td>3</td>\n",
       "      <td>0.051493</td>\n",
       "      <td>0.107707</td>\n",
       "      <td>0.056464</td>\n",
       "      <td>0.863046</td>\n",
       "      <td>0.329487</td>\n",
       "    </tr>\n",
       "    <tr>\n",
       "      <td>4</td>\n",
       "      <td>0.094240</td>\n",
       "      <td>0.285033</td>\n",
       "      <td>0.887096</td>\n",
       "      <td>0.102427</td>\n",
       "      <td>0.478292</td>\n",
       "    </tr>\n",
       "    <tr>\n",
       "      <td>5</td>\n",
       "      <td>0.520175</td>\n",
       "      <td>0.743742</td>\n",
       "      <td>0.407993</td>\n",
       "      <td>0.615026</td>\n",
       "      <td>0.769090</td>\n",
       "    </tr>\n",
       "    <tr>\n",
       "      <td>6</td>\n",
       "      <td>0.844348</td>\n",
       "      <td>0.812329</td>\n",
       "      <td>0.043266</td>\n",
       "      <td>0.194505</td>\n",
       "      <td>0.172118</td>\n",
       "    </tr>\n",
       "    <tr>\n",
       "      <td>7</td>\n",
       "      <td>0.522807</td>\n",
       "      <td>0.367625</td>\n",
       "      <td>0.744120</td>\n",
       "      <td>0.176572</td>\n",
       "      <td>0.223899</td>\n",
       "    </tr>\n",
       "    <tr>\n",
       "      <td>8</td>\n",
       "      <td>0.528824</td>\n",
       "      <td>0.463161</td>\n",
       "      <td>0.091200</td>\n",
       "      <td>0.615982</td>\n",
       "      <td>0.825581</td>\n",
       "    </tr>\n",
       "    <tr>\n",
       "      <td>9</td>\n",
       "      <td>0.588380</td>\n",
       "      <td>0.418639</td>\n",
       "      <td>0.630073</td>\n",
       "      <td>0.538197</td>\n",
       "      <td>0.447932</td>\n",
       "    </tr>\n",
       "    <tr>\n",
       "      <td>10</td>\n",
       "      <td>0.655635</td>\n",
       "      <td>0.346704</td>\n",
       "      <td>0.660612</td>\n",
       "      <td>0.988124</td>\n",
       "      <td>0.725471</td>\n",
       "    </tr>\n",
       "    <tr>\n",
       "      <td>11</td>\n",
       "      <td>0.279918</td>\n",
       "      <td>0.078851</td>\n",
       "      <td>0.965853</td>\n",
       "      <td>0.130793</td>\n",
       "      <td>0.903382</td>\n",
       "    </tr>\n",
       "    <tr>\n",
       "      <td>12</td>\n",
       "      <td>0.631751</td>\n",
       "      <td>0.265990</td>\n",
       "      <td>0.684118</td>\n",
       "      <td>0.059410</td>\n",
       "      <td>0.138723</td>\n",
       "    </tr>\n",
       "    <tr>\n",
       "      <td>13</td>\n",
       "      <td>0.871292</td>\n",
       "      <td>0.873393</td>\n",
       "      <td>0.409391</td>\n",
       "      <td>0.146164</td>\n",
       "      <td>0.468274</td>\n",
       "    </tr>\n",
       "    <tr>\n",
       "      <td>14</td>\n",
       "      <td>0.072795</td>\n",
       "      <td>0.383408</td>\n",
       "      <td>0.662945</td>\n",
       "      <td>0.072467</td>\n",
       "      <td>0.747223</td>\n",
       "    </tr>\n",
       "    <tr>\n",
       "      <td>15</td>\n",
       "      <td>0.804251</td>\n",
       "      <td>0.851865</td>\n",
       "      <td>0.748755</td>\n",
       "      <td>0.053495</td>\n",
       "      <td>0.595162</td>\n",
       "    </tr>\n",
       "    <tr>\n",
       "      <td>16</td>\n",
       "      <td>0.672960</td>\n",
       "      <td>0.119494</td>\n",
       "      <td>0.156248</td>\n",
       "      <td>0.980853</td>\n",
       "      <td>0.392519</td>\n",
       "    </tr>\n",
       "    <tr>\n",
       "      <td>17</td>\n",
       "      <td>0.078043</td>\n",
       "      <td>0.318891</td>\n",
       "      <td>0.537210</td>\n",
       "      <td>0.985539</td>\n",
       "      <td>0.580927</td>\n",
       "    </tr>\n",
       "    <tr>\n",
       "      <td>18</td>\n",
       "      <td>0.599878</td>\n",
       "      <td>0.319255</td>\n",
       "      <td>0.800912</td>\n",
       "      <td>0.397370</td>\n",
       "      <td>0.999106</td>\n",
       "    </tr>\n",
       "    <tr>\n",
       "      <td>19</td>\n",
       "      <td>0.629533</td>\n",
       "      <td>0.419747</td>\n",
       "      <td>0.862277</td>\n",
       "      <td>0.953262</td>\n",
       "      <td>0.225691</td>\n",
       "    </tr>\n",
       "  </tbody>\n",
       "</table>\n",
       "</div>"
      ],
      "text/plain": [
       "           0         1         2         3         4\n",
       "0   0.341303  0.225139  0.962712  0.818661  0.756594\n",
       "1   0.297128  0.877670  0.262309  0.278439  0.327071\n",
       "2   0.762332  0.344529  0.028942  0.673287  0.435459\n",
       "3   0.051493  0.107707  0.056464  0.863046  0.329487\n",
       "4   0.094240  0.285033  0.887096  0.102427  0.478292\n",
       "5   0.520175  0.743742  0.407993  0.615026  0.769090\n",
       "6   0.844348  0.812329  0.043266  0.194505  0.172118\n",
       "7   0.522807  0.367625  0.744120  0.176572  0.223899\n",
       "8   0.528824  0.463161  0.091200  0.615982  0.825581\n",
       "9   0.588380  0.418639  0.630073  0.538197  0.447932\n",
       "10  0.655635  0.346704  0.660612  0.988124  0.725471\n",
       "11  0.279918  0.078851  0.965853  0.130793  0.903382\n",
       "12  0.631751  0.265990  0.684118  0.059410  0.138723\n",
       "13  0.871292  0.873393  0.409391  0.146164  0.468274\n",
       "14  0.072795  0.383408  0.662945  0.072467  0.747223\n",
       "15  0.804251  0.851865  0.748755  0.053495  0.595162\n",
       "16  0.672960  0.119494  0.156248  0.980853  0.392519\n",
       "17  0.078043  0.318891  0.537210  0.985539  0.580927\n",
       "18  0.599878  0.319255  0.800912  0.397370  0.999106\n",
       "19  0.629533  0.419747  0.862277  0.953262  0.225691"
      ]
     },
     "execution_count": 23,
     "metadata": {},
     "output_type": "execute_result"
    }
   ],
   "source": [
    "#pd = Library\n",
    "#DataFrame (alsways table)\n",
    "\n",
    "pd.DataFrame(np.random.rand(20,5))"
   ]
  },
  {
   "cell_type": "code",
   "execution_count": 24,
   "metadata": {},
   "outputs": [
    {
     "data": {
      "text/plain": [
       "array([[0.39245534, 0.64013624, 0.58713505, 0.05971802, 0.60184096],\n",
       "       [0.92696556, 0.19023904, 0.12391487, 0.34566896, 0.78611993],\n",
       "       [0.39776164, 0.15991507, 0.92872799, 0.57571862, 0.73786947],\n",
       "       [0.08224792, 0.28155119, 0.73888851, 0.72405878, 0.10788185],\n",
       "       [0.47529515, 0.14824798, 0.94455144, 0.04481846, 0.65355042],\n",
       "       [0.25810473, 0.25132208, 0.89548089, 0.00497921, 0.66679463],\n",
       "       [0.31598076, 0.94481329, 0.24430083, 0.47464473, 0.05789485],\n",
       "       [0.22614989, 0.52447218, 0.43544618, 0.24421613, 0.97222016],\n",
       "       [0.48391119, 0.70025478, 0.77200289, 0.8277101 , 0.14829078],\n",
       "       [0.71741649, 0.36292716, 0.0089313 , 0.93153837, 0.40082936],\n",
       "       [0.2473729 , 0.30910473, 0.34325957, 0.95917401, 0.74328147],\n",
       "       [0.59547721, 0.71819577, 0.06457206, 0.47334077, 0.67746863],\n",
       "       [0.42056009, 0.60833732, 0.4524974 , 0.70141885, 0.64005522],\n",
       "       [0.50650755, 0.29279313, 0.61404059, 0.94480963, 0.45471511],\n",
       "       [0.43517988, 0.38217457, 0.10151416, 0.02503484, 0.97267516],\n",
       "       [0.12769867, 0.12473936, 0.78231604, 0.99736157, 0.97093428],\n",
       "       [0.32639408, 0.16233372, 0.2751528 , 0.59355217, 0.59288324],\n",
       "       [0.86404415, 0.03599617, 0.50652587, 0.15276275, 0.25915349],\n",
       "       [0.19583375, 0.16869613, 0.60273442, 0.64889108, 0.00608298],\n",
       "       [0.27420726, 0.69999521, 0.55609989, 0.62077742, 0.58149547]])"
      ]
     },
     "execution_count": 24,
     "metadata": {},
     "output_type": "execute_result"
    }
   ],
   "source": [
    "np.random.rand(20,5)"
   ]
  },
  {
   "cell_type": "code",
   "execution_count": null,
   "metadata": {},
   "outputs": [],
   "source": [
    "#Function repeats varibale\n",
    "\n",
    "def add(parameter):\n",
    "    return print('x')\n"
   ]
  }
 ],
 "metadata": {
  "kernelspec": {
   "display_name": "Python 3",
   "language": "python",
   "name": "python3"
  },
  "language_info": {
   "codemirror_mode": {
    "name": "ipython",
    "version": 3
   },
   "file_extension": ".py",
   "mimetype": "text/x-python",
   "name": "python",
   "nbconvert_exporter": "python",
   "pygments_lexer": "ipython3",
   "version": "3.7.4"
  }
 },
 "nbformat": 4,
 "nbformat_minor": 2
}
